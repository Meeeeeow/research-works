{
  "nbformat": 4,
  "nbformat_minor": 0,
  "metadata": {
    "colab": {
      "name": "170104104_B2_Assignment_last.ipynb",
      "provenance": [],
      "collapsed_sections": [
        "yOspspfkYUPJ"
      ]
    },
    "kernelspec": {
      "name": "python3",
      "display_name": "Python 3"
    },
    "language_info": {
      "name": "python"
    },
    "accelerator": "GPU"
  },
  "cells": [
    {
      "cell_type": "code",
      "metadata": {
        "id": "AKBguP93Jr-4",
        "colab": {
          "base_uri": "https://localhost:8080/"
        },
        "outputId": "dc2ed3de-122b-44a9-cd9c-a2b967c4a035"
      },
      "source": [
        "from google.colab import drive;\n",
        "drive.mount(\"/content/gdrive\");"
      ],
      "execution_count": null,
      "outputs": [
        {
          "output_type": "stream",
          "name": "stdout",
          "text": [
            "Mounted at /content/gdrive\n"
          ]
        }
      ]
    },
    {
      "cell_type": "markdown",
      "metadata": {
        "id": "QmLjkhAjJsZr"
      },
      "source": [
        "## libraires"
      ]
    },
    {
      "cell_type": "code",
      "metadata": {
        "id": "cX7dk6xIb4AN"
      },
      "source": [
        "import pandas as pd;\n",
        "import numpy as np;\n",
        "import matplotlib.pyplot as plt;\n",
        "import seaborn as sns;"
      ],
      "execution_count": null,
      "outputs": []
    },
    {
      "cell_type": "markdown",
      "metadata": {
        "id": "9iLiCDVHJugJ"
      },
      "source": [
        "## load from csv"
      ]
    },
    {
      "cell_type": "code",
      "metadata": {
        "id": "CGmEWsOTb4Bf",
        "colab": {
          "base_uri": "https://localhost:8080/"
        },
        "outputId": "4706e7bf-0d59-4892-c7f2-e9d988db8598"
      },
      "source": [
        "\n",
        "df = pd.read_csv(\"/content/gdrive/MyDrive/Colab/Softcomputing/Dataset 2.csv\" , encoding = \"ISO-8859-1\");\n",
        "print(df.head(5));"
      ],
      "execution_count": null,
      "outputs": [
        {
          "output_type": "stream",
          "name": "stdout",
          "text": [
            "                                                text  polarity\n",
            "0  just had a real good moment. i missssssssss hi...         0\n",
            "1         is reading manga  http://plurk.com/p/mzp1e         0\n",
            "2  @comeagainjen http://twitpic.com/2y2lx - http:...         0\n",
            "3  @lapcat Need to send 'em to my accountant tomo...         0\n",
            "4      ADD ME ON MYSPACE!!!  myspace.com/LookThunder         0\n"
          ]
        }
      ]
    },
    {
      "cell_type": "markdown",
      "metadata": {
        "id": "J-snElOmJxMp"
      },
      "source": [
        "## total length of csv data"
      ]
    },
    {
      "cell_type": "code",
      "metadata": {
        "id": "YMyXPWjChQX1",
        "colab": {
          "base_uri": "https://localhost:8080/"
        },
        "outputId": "881e5c82-7a42-453d-8584-1e554707b2d5"
      },
      "source": [
        "print(len(df));"
      ],
      "execution_count": null,
      "outputs": [
        {
          "output_type": "stream",
          "name": "stdout",
          "text": [
            "10314\n"
          ]
        }
      ]
    },
    {
      "cell_type": "markdown",
      "metadata": {
        "id": "Rf9hPjzFJ1bB"
      },
      "source": [
        "## emotion count plot"
      ]
    },
    {
      "cell_type": "code",
      "metadata": {
        "id": "XwRmhl2Yb4Gu",
        "colab": {
          "base_uri": "https://localhost:8080/",
          "height": 676
        },
        "outputId": "28d395e9-6a03-4721-8f9f-86f37cc78cbe"
      },
      "source": [
        "col = 'sentiment'\n",
        "\n",
        "fig, (ax1, ax2)  = plt.subplots(nrows=1, ncols=2, figsize=(12,8))\n",
        "print(df[col].dropna().value_counts());\n",
        "print((np.array(list(df[col].dropna().value_counts()))/sum(list(df[col].dropna().value_counts()))));\n",
        "explode = list((np.array(list(df[col].dropna().value_counts()))/sum(list(df[col].dropna().value_counts())))[::-1])\n",
        "print(explode);\n",
        "labels = ['0','1'];\n",
        "print(labels);\n",
        "sizes = df[col].value_counts()\n",
        "print(sizes)\n",
        "#ax.pie(sizes, explode=explode, colors=bo, startangle=60, labels=labels,autopct='%1.0f%%', pctdistance=0.9)\n",
        "ax2.pie(sizes,  explode=explode, startangle=60, labels=labels,autopct='%.2f')\n",
        "ax2.add_artist(plt.Circle((5,5),0.7,fc='white'))\n",
        "sns.countplot(y =col, data = df, ax=ax1)\n",
        "ax1.set_title(\"Count of each emotion\")\n",
        "ax2.set_title(\"Percentage of each emotion\")\n",
        "plt.show()"
      ],
      "execution_count": null,
      "outputs": [
        {
          "output_type": "stream",
          "name": "stdout",
          "text": [
            "0    8000\n",
            "1    2314\n",
            "Name: sentiment, dtype: int64\n",
            "[0.77564475 0.22435525]\n",
            "[0.2243552452976537, 0.7756447547023463]\n",
            "['0', '1']\n",
            "0    8000\n",
            "1    2314\n",
            "Name: sentiment, dtype: int64\n"
          ]
        },
        {
          "output_type": "display_data",
          "data": {
            "image/png": "[encoded data removed]",
            "text/plain": [
              "<Figure size 864x576 with 2 Axes>"
            ]
          },
          "metadata": {
            "needs_background": "light"
          }
        }
      ]
    },
    {
      "cell_type": "markdown",
      "metadata": {
        "id": "aO2eTYfDJ44y"
      },
      "source": [
        "## characters and tokens columns add"
      ]
    },
    {
      "cell_type": "code",
      "metadata": {
        "colab": {
          "base_uri": "https://localhost:8080/"
        },
        "id": "GsUPY0HFb4MT",
        "outputId": "67442ac5-4bdf-44cb-882f-6260f9a91507"
      },
      "source": [
        "df['char_length'] = df['tweets'].apply(lambda x : len(x))\n",
        "df['token_length'] = df['tweets'].apply(lambda x : len(x.split(\" \")))\n",
        "print(df);"
      ],
      "execution_count": null,
      "outputs": [
        {
          "output_type": "stream",
          "name": "stdout",
          "text": [
            "                                                  tweets  ...  token_length\n",
            "0      just had a real good moment. i missssssssss hi...  ...            12\n",
            "1             is reading manga  http://plurk.com/p/mzp1e  ...             5\n",
            "2      @comeagainjen http://twitpic.com/2y2lx - http:...  ...             5\n",
            "3      @lapcat Need to send 'em to my accountant tomo...  ...            23\n",
            "4          ADD ME ON MYSPACE!!!  myspace.com/LookThunder  ...             6\n",
            "...                                                  ...  ...           ...\n",
            "10309  No Depression by G Herbo is my mood from now o...  ...            20\n",
            "10310  What do you do when depression succumbs the br...  ...            18\n",
            "10311  Ketamine Nasal Spray Shows Promise Against Dep...  ...            10\n",
            "10312  dont mistake a bad day with depression! everyo...  ...            10\n",
            "10313                                                  0  ...             1\n",
            "\n",
            "[10314 rows x 4 columns]\n"
          ]
        }
      ]
    },
    {
      "cell_type": "markdown",
      "metadata": {
        "id": "Ixj31x-tJ84x"
      },
      "source": [
        "## plot number of characters and token"
      ]
    },
    {
      "cell_type": "code",
      "metadata": {
        "colab": {
          "base_uri": "https://localhost:8080/",
          "height": 405
        },
        "id": "cadS4o1chfvt",
        "outputId": "b8ec48a4-d7b2-485c-c7b9-350dad4de3e1"
      },
      "source": [
        "fig, (ax1, ax2)  = plt.subplots(nrows=1, ncols=2, figsize=(12,6))\n",
        "sns.histplot(df['char_length'], ax=ax1)\n",
        "sns.histplot(df['token_length'], ax=ax2)\n",
        "ax1.set_title('Number of characters in the tweet')\n",
        "ax2.set_title('Number of token(words) in the tweet')\n",
        "plt.show()"
      ],
      "execution_count": null,
      "outputs": [
        {
          "output_type": "display_data",
          "data": {
            "image/png": "[encoded data removed]",
            "text/plain": [
              "<Figure size 864x432 with 2 Axes>"
            ]
          },
          "metadata": {
            "needs_background": "light"
          }
        }
      ]
    },
    {
      "cell_type": "markdown",
      "metadata": {
        "id": "DbfqRQwSKF_x"
      },
      "source": [
        "## preprocessing "
      ]
    },
    {
      "cell_type": "code",
      "metadata": {
        "colab": {
          "base_uri": "https://localhost:8080/"
        },
        "id": "zvSr1qhmhf0_",
        "outputId": "c8818897-25b7-48cf-ab28-3b2cbb16054f"
      },
      "source": [
        "!pip install inflect"
      ],
      "execution_count": null,
      "outputs": [
        {
          "output_type": "stream",
          "name": "stdout",
          "text": [
            "Requirement already satisfied: inflect in /usr/local/lib/python3.7/dist-packages (2.1.0)\n"
          ]
        }
      ]
    },
    {
      "cell_type": "markdown",
      "metadata": {
        "id": "0qL3WInDKN5B"
      },
      "source": [
        "## convert didn't to didnot expand words"
      ]
    },
    {
      "cell_type": "code",
      "metadata": {
        "colab": {
          "base_uri": "https://localhost:8080/"
        },
        "id": "R96Sv9kLhf6x",
        "outputId": "09f806d5-e1e8-4b1f-c4ab-a007ae5bad35"
      },
      "source": [
        "!pip install contractions"
      ],
      "execution_count": null,
      "outputs": [
        {
          "output_type": "stream",
          "name": "stdout",
          "text": [
            "Requirement already satisfied: contractions in /usr/local/lib/python3.7/dist-packages (0.0.52)\n",
            "Requirement already satisfied: textsearch>=0.0.21 in /usr/local/lib/python3.7/dist-packages (from contractions) (0.0.21)\n",
            "Requirement already satisfied: anyascii in /usr/local/lib/python3.7/dist-packages (from textsearch>=0.0.21->contractions) (0.3.0)\n",
            "Requirement already satisfied: pyahocorasick in /usr/local/lib/python3.7/dist-packages (from textsearch>=0.0.21->contractions) (1.4.2)\n"
          ]
        }
      ]
    },
    {
      "cell_type": "markdown",
      "metadata": {
        "id": "X7-6AIvhKUfm"
      },
      "source": [
        "## scraping"
      ]
    },
    {
      "cell_type": "code",
      "metadata": {
        "colab": {
          "base_uri": "https://localhost:8080/"
        },
        "id": "9EuKDWsVhf9V",
        "outputId": "16ba37e3-88dd-4b15-c414-8ae69cc65d00"
      },
      "source": [
        "!pip install bs4"
      ],
      "execution_count": null,
      "outputs": [
        {
          "output_type": "stream",
          "name": "stdout",
          "text": [
            "Requirement already satisfied: bs4 in /usr/local/lib/python3.7/dist-packages (0.0.1)\n",
            "Requirement already satisfied: beautifulsoup4 in /usr/local/lib/python3.7/dist-packages (from bs4) (4.6.3)\n"
          ]
        }
      ]
    },
    {
      "cell_type": "markdown",
      "metadata": {
        "id": "CiWSCDxWKWZq"
      },
      "source": [
        "## preprocessing libs"
      ]
    },
    {
      "cell_type": "code",
      "metadata": {
        "colab": {
          "base_uri": "https://localhost:8080/"
        },
        "id": "pHzq5OvFhnX-",
        "outputId": "3d713bf4-86a7-444c-ac97-211770112b32"
      },
      "source": [
        "\n",
        "from sklearn.preprocessing import LabelEncoder;\n",
        "from sklearn.model_selection import train_test_split;\n",
        "import nltk;\n",
        "import inflect;\n",
        "import contractions;\n",
        "from bs4 import BeautifulSoup;\n",
        "import re, string, unicodedata;\n",
        "from nltk import word_tokenize, sent_tokenize;\n",
        "from nltk.corpus import stopwords;\n",
        "from nltk.stem import LancasterStemmer, WordNetLemmatizer;\n",
        "nltk.download('punkt');\n",
        "nltk.download('stopwords');\n",
        "nltk.download('wordnet');"
      ],
      "execution_count": null,
      "outputs": [
        {
          "output_type": "stream",
          "name": "stdout",
          "text": [
            "[nltk_data] Downloading package punkt to /root/nltk_data...\n",
            "[nltk_data]   Package punkt is already up-to-date!\n",
            "[nltk_data] Downloading package stopwords to /root/nltk_data...\n",
            "[nltk_data]   Package stopwords is already up-to-date!\n",
            "[nltk_data] Downloading package wordnet to /root/nltk_data...\n",
            "[nltk_data]   Package wordnet is already up-to-date!\n"
          ]
        }
      ]
    },
    {
      "cell_type": "markdown",
      "metadata": {
        "id": "6lYc2vFYKZgG"
      },
      "source": [
        "## preprocessing in process"
      ]
    },
    {
      "cell_type": "code",
      "metadata": {
        "id": "poiaB50bhnZI"
      },
      "source": [
        "\n",
        "\n",
        "def text_preprocessing_platform(df, text_col, remove_stopwords=False):\n",
        "    \n",
        "    ## Define functions for individual steps\n",
        "    # First function is used to denoise text\n",
        "    def denoise_text(text):\n",
        "\n",
        "        # Strip html if any. For ex. removing <html>, <p> tags\n",
        "        soup = BeautifulSoup(text, \"html.parser\");\n",
        "        text = soup.get_text();\n",
        "        # Replace contractions in the text. For ex. didn't -> did not\n",
        "        text = contractions.fix(text);\n",
        "        return text;\n",
        "    \n",
        "    ## Next step is text-normalization\n",
        "    \n",
        "    # Text normalization includes many steps.\n",
        "    \n",
        "    # Each function below serves a step.\n",
        "    \n",
        "    \n",
        "    def remove_non_ascii(words):\n",
        "        \"\"\"Remove non-ASCII characters from list of tokenized words\"\"\"\n",
        "        new_words = [];\n",
        "        for word in words:\n",
        "            new_word = unicodedata.normalize('NFKD', word).encode('ascii', 'ignore').decode('utf-8', 'ignore');\n",
        "            new_words.append(new_word);\n",
        "        return new_words;\n",
        "    \n",
        "    \n",
        "    def to_lowercase(words):\n",
        "        \"\"\"Convert all characters to lowercase from list of tokenized words\"\"\"\n",
        "        new_words = [];\n",
        "        for word in words:\n",
        "            new_word = word.lower();\n",
        "            new_words.append(new_word);\n",
        "        return new_words;\n",
        "    \n",
        "    \n",
        "    def remove_punctuation(words):\n",
        "        \"\"\"Remove punctuation from list of tokenized words\"\"\"\n",
        "        new_words = [];\n",
        "        for word in words:\n",
        "            new_word = re.sub(r'[^\\w\\s]', '', word);\n",
        "            if new_word != '':\n",
        "                new_words.append(new_word);\n",
        "        return new_words;\n",
        "    \n",
        "    \n",
        "    def replace_numbers(words):\n",
        "        \"\"\"Replace all interger occurrences in list of tokenized words with textual representation\"\"\"\n",
        "        p = inflect.engine();\n",
        "        new_words = [];\n",
        "        for word in words:\n",
        "            if word.isdigit():\n",
        "                new_word = p.number_to_words(word);\n",
        "                new_words.append(new_word);\n",
        "            else:\n",
        "                new_words.append(word);\n",
        "        return new_words;\n",
        "    \n",
        "    \n",
        "    def remove_stopwords(words):\n",
        "        \"\"\"Remove stop words from list of tokenized words\"\"\"\n",
        "        new_words = [];\n",
        "        for word in words:\n",
        "            if word not in stopwords.words('english'):\n",
        "                new_words.append(word);\n",
        "        return new_words;\n",
        "    \n",
        "    \n",
        "    def stem_words(words):\n",
        "        \"\"\"Stem words in list of tokenized words\"\"\"\n",
        "        stemmer = LancasterStemmer();\n",
        "        stems = [];\n",
        "        for word in words:\n",
        "            stem = stemmer.stem(word);\n",
        "            stems.append(stem);\n",
        "        return stems;\n",
        "    \n",
        "    \n",
        "    def lemmatize_verbs(words):\n",
        "        \"\"\"Lemmatize verbs in list of tokenized words\"\"\"\n",
        "        lemmatizer = WordNetLemmatizer();\n",
        "        lemmas = [];\n",
        "        for word in words:\n",
        "            lemma = lemmatizer.lemmatize(word, pos='v');\n",
        "            lemmas.append(lemma);\n",
        "        return lemmas;\n",
        "    \n",
        "    \n",
        "    ### A wrap-up function for normalization\n",
        "    def normalize_text(words, remove_stopwords):\n",
        "        words = remove_non_ascii(words);\n",
        "        words = to_lowercase(words);\n",
        "        words = remove_punctuation(words);\n",
        "        words = replace_numbers(words);\n",
        "        if remove_stopwords:\n",
        "            words = remove_stopwords(words);\n",
        "        words = stem_words(words)\n",
        "        # words = lemmatize_verbs(words);\n",
        "        return words;\n",
        "    \n",
        "    # All above functions work on word tokens we need a tokenizer\n",
        "    \n",
        "    # Tokenize tweet into words\n",
        "    def tokenize(text):\n",
        "        return nltk.word_tokenize(text);\n",
        "    \n",
        "    \n",
        "    # A overall wrap-up function\n",
        "    def text_prepare(text):\n",
        "        text = denoise_text(text);\n",
        "        text = ' '.join([x for x in normalize_text(tokenize(text), remove_stopwords)]);\n",
        "        return text;\n",
        "    \n",
        "    # run every-step\n",
        "    df[text_col] = [text_prepare(x) for x in df[text_col]];\n",
        "    print(text_col)\n",
        "    \n",
        "    # return processed df\n",
        "    return df;"
      ],
      "execution_count": null,
      "outputs": []
    },
    {
      "cell_type": "markdown",
      "metadata": {
        "id": "eWIaqvNYKdVI"
      },
      "source": [
        "## result of preprocessing"
      ]
    },
    {
      "cell_type": "code",
      "metadata": {
        "colab": {
          "base_uri": "https://localhost:8080/",
          "height": 885
        },
        "id": "mOzZDzDthneB",
        "outputId": "ae7973b3-a6c6-4248-d6c4-f45f823f0f08"
      },
      "source": [
        "print(\"Before Text Preprocessing\")\n",
        "display(df.head()[['tweets']])\n",
        "print(df.shape);\n",
        "print(df.loc[[340]])\n",
        "sns.heatmap(df.isnull(), cmap='viridis')\n",
        "plt.show()\n",
        "processed_df = text_preprocessing_platform(df, 'tweets', remove_stopwords=False)\n",
        "print(\"After Text Preprocessing\")\n",
        "display(processed_df.head()[['tweets']])\n",
        "print(processed_df.shape);\n",
        "print(processed_df.loc[[340]]);\n",
        "\n",
        "processed_df.to_csv('After_cleaning.csv');"
      ],
      "execution_count": null,
      "outputs": [
        {
          "output_type": "stream",
          "name": "stdout",
          "text": [
            "Before Text Preprocessing\n"
          ]
        },
        {
          "output_type": "display_data",
          "data": {
            "text/html": [
              "<div>\n",
              "<style scoped>\n",
              "    .dataframe tbody tr th:only-of-type {\n",
              "        vertical-align: middle;\n",
              "    }\n",
              "\n",
              "    .dataframe tbody tr th {\n",
              "        vertical-align: top;\n",
              "    }\n",
              "\n",
              "    .dataframe thead th {\n",
              "        text-align: right;\n",
              "    }\n",
              "</style>\n",
              "<table border=\"1\" class=\"dataframe\">\n",
              "  <thead>\n",
              "    <tr style=\"text-align: right;\">\n",
              "      <th></th>\n",
              "      <th>tweets</th>\n",
              "    </tr>\n",
              "  </thead>\n",
              "  <tbody>\n",
              "    <tr>\n",
              "      <th>0</th>\n",
              "      <td>just had a real good moment. i missssssssss hi...</td>\n",
              "    </tr>\n",
              "    <tr>\n",
              "      <th>1</th>\n",
              "      <td>is reading manga  http://plurk.com/p/mzp1e</td>\n",
              "    </tr>\n",
              "    <tr>\n",
              "      <th>2</th>\n",
              "      <td>@comeagainjen http://twitpic.com/2y2lx - http:...</td>\n",
              "    </tr>\n",
              "    <tr>\n",
              "      <th>3</th>\n",
              "      <td>@lapcat Need to send 'em to my accountant tomo...</td>\n",
              "    </tr>\n",
              "    <tr>\n",
              "      <th>4</th>\n",
              "      <td>ADD ME ON MYSPACE!!!  myspace.com/LookThunder</td>\n",
              "    </tr>\n",
              "  </tbody>\n",
              "</table>\n",
              "</div>"
            ],
            "text/plain": [
              "                                              tweets\n",
              "0  just had a real good moment. i missssssssss hi...\n",
              "1         is reading manga  http://plurk.com/p/mzp1e\n",
              "2  @comeagainjen http://twitpic.com/2y2lx - http:...\n",
              "3  @lapcat Need to send 'em to my accountant tomo...\n",
              "4      ADD ME ON MYSPACE!!!  myspace.com/LookThunder"
            ]
          },
          "metadata": {}
        },
        {
          "output_type": "stream",
          "name": "stdout",
          "text": [
            "(10314, 4)\n",
            "                                                tweets  ...  token_length\n",
            "340  Ever since I bought my Macbook, I send much mo...  ...            21\n",
            "\n",
            "[1 rows x 4 columns]\n"
          ]
        },
        {
          "output_type": "display_data",
          "data": {
            "image/png": "[encoded data removed]",
            "text/plain": [
              "<Figure size 432x288 with 2 Axes>"
            ]
          },
          "metadata": {
            "needs_background": "light"
          }
        },
        {
          "output_type": "stream",
          "name": "stdout",
          "text": [
            "tweets\n",
            "After Text Preprocessing\n"
          ]
        },
        {
          "output_type": "display_data",
          "data": {
            "text/html": [
              "<div>\n",
              "<style scoped>\n",
              "    .dataframe tbody tr th:only-of-type {\n",
              "        vertical-align: middle;\n",
              "    }\n",
              "\n",
              "    .dataframe tbody tr th {\n",
              "        vertical-align: top;\n",
              "    }\n",
              "\n",
              "    .dataframe thead th {\n",
              "        text-align: right;\n",
              "    }\n",
              "</style>\n",
              "<table border=\"1\" class=\"dataframe\">\n",
              "  <thead>\n",
              "    <tr style=\"text-align: right;\">\n",
              "      <th></th>\n",
              "      <th>tweets</th>\n",
              "    </tr>\n",
              "  </thead>\n",
              "  <tbody>\n",
              "    <tr>\n",
              "      <th>0</th>\n",
              "      <td>real good mom missssssssss much</td>\n",
              "    </tr>\n",
              "    <tr>\n",
              "      <th>1</th>\n",
              "      <td>read mang http plurkcompmzp1e</td>\n",
              "    </tr>\n",
              "    <tr>\n",
              "      <th>2</th>\n",
              "      <td>comeagaind http twitpiccom2y2lx http wwwyoutub...</td>\n",
              "    </tr>\n",
              "    <tr>\n",
              "      <th>3</th>\n",
              "      <td>lapc nee send account tomorrow od ev refer tax...</td>\n",
              "    </tr>\n",
              "    <tr>\n",
              "      <th>4</th>\n",
              "      <td>ad myspac myspacecomlookthund</td>\n",
              "    </tr>\n",
              "  </tbody>\n",
              "</table>\n",
              "</div>"
            ],
            "text/plain": [
              "                                              tweets\n",
              "0                    real good mom missssssssss much\n",
              "1                      read mang http plurkcompmzp1e\n",
              "2  comeagaind http twitpiccom2y2lx http wwwyoutub...\n",
              "3  lapc nee send account tomorrow od ev refer tax...\n",
              "4                      ad myspac myspacecomlookthund"
            ]
          },
          "metadata": {}
        },
        {
          "output_type": "stream",
          "name": "stdout",
          "text": [
            "(10314, 4)\n",
            "                                                tweets  ...  token_length\n",
            "340  ev sint bought macbook send much email fuck ea...  ...            21\n",
            "\n",
            "[1 rows x 4 columns]\n"
          ]
        }
      ]
    },
    {
      "cell_type": "markdown",
      "metadata": {
        "id": "9nv4UJ8FKg7Z"
      },
      "source": [
        "## glove download"
      ]
    },
    {
      "cell_type": "code",
      "metadata": {
        "id": "zGQcTYKChngK",
        "colab": {
          "base_uri": "https://localhost:8080/"
        },
        "outputId": "4bf53a14-d8fb-4326-ac38-566f4e350d57"
      },
      "source": [
        "!wget http://nlp.stanford.edu/data/glove.6B.zip\n",
        "!unzip glove*.zip"
      ],
      "execution_count": null,
      "outputs": [
        {
          "output_type": "stream",
          "name": "stdout",
          "text": [
            "--2021-09-19 08:09:17--  http://nlp.stanford.edu/data/glove.6B.zip\n",
            "Resolving nlp.stanford.edu (nlp.stanford.edu)... 171.64.67.140\n",
            "Connecting to nlp.stanford.edu (nlp.stanford.edu)|171.64.67.140|:80... connected.\n",
            "HTTP request sent, awaiting response... 302 Found\n",
            "Location: https://nlp.stanford.edu/data/glove.6B.zip [following]\n",
            "--2021-09-19 08:09:17--  https://nlp.stanford.edu/data/glove.6B.zip\n",
            "Connecting to nlp.stanford.edu (nlp.stanford.edu)|171.64.67.140|:443... connected.\n",
            "HTTP request sent, awaiting response... 301 Moved Permanently\n",
            "Location: http://downloads.cs.stanford.edu/nlp/data/glove.6B.zip [following]\n",
            "--2021-09-19 08:09:18--  http://downloads.cs.stanford.edu/nlp/data/glove.6B.zip\n",
            "Resolving downloads.cs.stanford.edu (downloads.cs.stanford.edu)... 171.64.64.22\n",
            "Connecting to downloads.cs.stanford.edu (downloads.cs.stanford.edu)|171.64.64.22|:80... connected.\n",
            "HTTP request sent, awaiting response... 200 OK\n",
            "Length: 862182613 (822M) [application/zip]\n",
            "Saving to: ‘glove.6B.zip.1’\n",
            "\n",
            "glove.6B.zip.1      100%[===================>] 822.24M  5.08MB/s    in 2m 40s  \n",
            "\n",
            "2021-09-19 08:11:58 (5.13 MB/s) - ‘glove.6B.zip.1’ saved [862182613/862182613]\n",
            "\n",
            "Archive:  glove.6B.zip\n",
            "replace glove.6B.50d.txt? [y]es, [n]o, [A]ll, [N]one, [r]ename: y\n",
            "  inflating: glove.6B.50d.txt        \n",
            "replace glove.6B.100d.txt? [y]es, [n]o, [A]ll, [N]one, [r]ename: y\n",
            "  inflating: glove.6B.100d.txt       \n",
            "replace glove.6B.200d.txt? [y]es, [n]o, [A]ll, [N]one, [r]ename: y\n",
            "  inflating: glove.6B.200d.txt       \n",
            "replace glove.6B.300d.txt? [y]es, [n]o, [A]ll, [N]one, [r]ename: y\n",
            "  inflating: glove.6B.300d.txt       \n"
          ]
        }
      ]
    },
    {
      "cell_type": "code",
      "metadata": {
        "id": "VaAH0ra4hniY"
      },
      "source": [
        "f = open(\"glove.6B.50d.txt\");"
      ],
      "execution_count": null,
      "outputs": []
    },
    {
      "cell_type": "markdown",
      "metadata": {
        "id": "L3xmPtY_Kka4"
      },
      "source": [
        "## nn libs\n"
      ]
    },
    {
      "cell_type": "code",
      "metadata": {
        "id": "J_ovrLHKhnkn"
      },
      "source": [
        "from keras.layers import Dropout, Dense, GRU, Embedding, LSTM, Bidirectional, TimeDistributed, Flatten;\n",
        "from keras.models import Sequential;\n",
        "from sklearn.feature_extraction.text import TfidfVectorizer;\n",
        "from sklearn.metrics import matthews_corrcoef, confusion_matrix;\n",
        "from sklearn import metrics;\n",
        "from sklearn.utils import shuffle;\n",
        "from keras.preprocessing.text import Tokenizer;\n",
        "from keras.preprocessing.sequence import pad_sequences;\n",
        "from sklearn.preprocessing import LabelEncoder;\n",
        "\n",
        "# Logging\n",
        "import logging;\n",
        "logging.basicConfig(level=logging.INFO);\n",
        "\n",
        "import warnings\n",
        "\n"
      ],
      "execution_count": null,
      "outputs": []
    },
    {
      "cell_type": "markdown",
      "metadata": {
        "id": "1tcxK8r6KqEw"
      },
      "source": [
        "## tokenization according to gloves ( embedding vecs)"
      ]
    },
    {
      "cell_type": "code",
      "metadata": {
        "id": "QwX_PSO4hnnO"
      },
      "source": [
        "def loadData_Tokenizer(X_train, X_test,MAX_NB_WORDS=75000,MAX_SEQUENCE_LENGTH=500):\n",
        "    # np.random.seed(7)\n",
        "    text = np.concatenate((X_train, X_test),axis = 0)\n",
        "    text = np.array(text)\n",
        "    tokenizer = Tokenizer(num_words=MAX_NB_WORDS)\n",
        "    tokenizer.fit_on_texts(text)\n",
        "    sequences = tokenizer.texts_to_sequences(text)\n",
        "    word_index = tokenizer.word_index\n",
        "    text = pad_sequences(sequences, maxlen=MAX_SEQUENCE_LENGTH)\n",
        "    print('Found %s unique tokens.' % len(word_index))\n",
        "    indices = np.arange(text.shape[0])\n",
        "    # np.random.shuffle(indices)\n",
        "    text = text[indices]\n",
        "    print(text.shape)\n",
        "    X_train = text[0:len(X_train), ]\n",
        "    X_test = text[len(X_train):, ]\n",
        "    embeddings_index = {}\n",
        "    f = open(\"glove.6B.50d.txt\", encoding='ISO-8859-1')\n",
        "    for line in f:\n",
        "        try:\n",
        "            values = line.split()\n",
        "            word = values[0]\n",
        "            try:\n",
        "                coefs = np.asarray(values[1:], dtype='float32')\n",
        "            except:\n",
        "                pass\n",
        "            embeddings_index[word] = coefs\n",
        "        except UnicodeDecodeError:\n",
        "            pass\n",
        "    f.close()\n",
        "    print('Total %s word vectors.' % len(embeddings_index))\n",
        "    return (X_train, X_test, word_index,embeddings_index, tokenizer)"
      ],
      "execution_count": null,
      "outputs": []
    },
    {
      "cell_type": "markdown",
      "metadata": {
        "id": "v6Al4xC3K15H"
      },
      "source": [
        "## model "
      ]
    },
    {
      "cell_type": "code",
      "metadata": {
        "id": "hWpXKzMnhnpi"
      },
      "source": [
        "def Build_Model_RNN_Text(word_index, embeddings_index, nclasses,  MAX_SEQUENCE_LENGTH=500, EMBEDDING_DIM=50, dropout=0.5):\n",
        "    # Model building\n",
        "    model = Sequential()\n",
        "    hidden_layer = 3\n",
        "    lstm_node = 32\n",
        "    embedding_matrix = np.random.random((len(word_index) + 1, EMBEDDING_DIM))\n",
        "    for word, i in word_index.items():\n",
        "        embedding_vector = embeddings_index.get(word)\n",
        "        if embedding_vector is not None:\n",
        "            # words not found in embedding index will be all-zeros.\n",
        "            if len(embedding_matrix[i]) != len(embedding_vector):\n",
        "                print(\"could not broadcast input array from shape\", str(len(embedding_matrix[i])),\n",
        "                      \"into shape\", str(len(embedding_vector)), \" Please make sure your\"\n",
        "                                                                \" EMBEDDING_DIM is equal to embedding_vector file ,GloVe,\")\n",
        "                exit(1)\n",
        "            embedding_matrix[i] = embedding_vector\n",
        "    model.add(Embedding(len(word_index) + 1,\n",
        "                                EMBEDDING_DIM,\n",
        "                                weights=[embedding_matrix],\n",
        "                                input_length=MAX_SEQUENCE_LENGTH,\n",
        "                                trainable=True))\n",
        "    print(lstm_node)\n",
        "    for i in range(0,hidden_layer):\n",
        "        model.add(Bidirectional(LSTM(lstm_node,return_sequences=True, recurrent_dropout=0.5)))\n",
        "        model.add(Dropout(dropout))\n",
        "    model.add(Bidirectional(LSTM(lstm_node, recurrent_dropout=0.5)))\n",
        "    model.add(Dropout(dropout))\n",
        "    #model.add(TimeDistributed(Dense(256)))\n",
        "    #model.add(Flatten())\n",
        "    model.add(Dense(256, activation='relu'))\n",
        "    model.add(Dense(nclasses, activation='softmax'))\n",
        "    model.compile(loss='sparse_categorical_crossentropy',\n",
        "                      optimizer='adam',\n",
        "                      metrics=['accuracy'])\n",
        "    return model"
      ],
      "execution_count": null,
      "outputs": []
    },
    {
      "cell_type": "markdown",
      "metadata": {
        "id": "oQBdm5vBK4qC"
      },
      "source": [
        "## dataset"
      ]
    },
    {
      "cell_type": "code",
      "metadata": {
        "colab": {
          "base_uri": "https://localhost:8080/",
          "height": 161
        },
        "id": "7RQXAo6GWzm3",
        "outputId": "7cc30658-dfbe-49d9-f489-07cccac798f7"
      },
      "source": [
        "train_final = processed_df[['tweets', 'sentiment']]\n",
        "print(\"Train DataFrame\")\n",
        "display(train_final.head(3))"
      ],
      "execution_count": null,
      "outputs": [
        {
          "output_type": "stream",
          "name": "stdout",
          "text": [
            "Train DataFrame\n"
          ]
        },
        {
          "output_type": "display_data",
          "data": {
            "text/html": [
              "<div>\n",
              "<style scoped>\n",
              "    .dataframe tbody tr th:only-of-type {\n",
              "        vertical-align: middle;\n",
              "    }\n",
              "\n",
              "    .dataframe tbody tr th {\n",
              "        vertical-align: top;\n",
              "    }\n",
              "\n",
              "    .dataframe thead th {\n",
              "        text-align: right;\n",
              "    }\n",
              "</style>\n",
              "<table border=\"1\" class=\"dataframe\">\n",
              "  <thead>\n",
              "    <tr style=\"text-align: right;\">\n",
              "      <th></th>\n",
              "      <th>tweets</th>\n",
              "      <th>sentiment</th>\n",
              "    </tr>\n",
              "  </thead>\n",
              "  <tbody>\n",
              "    <tr>\n",
              "      <th>0</th>\n",
              "      <td>real good mom missssssssss much</td>\n",
              "      <td>0</td>\n",
              "    </tr>\n",
              "    <tr>\n",
              "      <th>1</th>\n",
              "      <td>read mang http plurkcompmzp1e</td>\n",
              "      <td>0</td>\n",
              "    </tr>\n",
              "    <tr>\n",
              "      <th>2</th>\n",
              "      <td>comeagaind http twitpiccom2y2lx http wwwyoutub...</td>\n",
              "      <td>0</td>\n",
              "    </tr>\n",
              "  </tbody>\n",
              "</table>\n",
              "</div>"
            ],
            "text/plain": [
              "                                              tweets  sentiment\n",
              "0                    real good mom missssssssss much          0\n",
              "1                      read mang http plurkcompmzp1e          0\n",
              "2  comeagaind http twitpiccom2y2lx http wwwyoutub...          0"
            ]
          },
          "metadata": {}
        }
      ]
    },
    {
      "cell_type": "markdown",
      "metadata": {
        "id": "ST6W3ddhK7P3"
      },
      "source": [
        "##  label sentimenet (already done no need)"
      ]
    },
    {
      "cell_type": "code",
      "metadata": {
        "colab": {
          "base_uri": "https://localhost:8080/"
        },
        "id": "yIkNKCfOWzsY",
        "outputId": "c29fa779-634f-417b-d21f-43a5a3a208ff"
      },
      "source": [
        "\n",
        "# Label encoding target column\n",
        "le = LabelEncoder()\n",
        "train_final['sentiment'] = le.fit_transform(train_final['sentiment'])\n",
        "\n",
        "## df for training and prediction\n",
        "df = train_final\n",
        "\n",
        "print(df['sentiment'])\n",
        "\n"
      ],
      "execution_count": null,
      "outputs": [
        {
          "output_type": "stream",
          "name": "stdout",
          "text": [
            "0        0\n",
            "1        0\n",
            "2        0\n",
            "3        0\n",
            "4        0\n",
            "        ..\n",
            "10309    1\n",
            "10310    1\n",
            "10311    1\n",
            "10312    1\n",
            "10313    1\n",
            "Name: sentiment, Length: 10314, dtype: int64\n"
          ]
        },
        {
          "output_type": "stream",
          "name": "stderr",
          "text": [
            "/usr/local/lib/python3.7/dist-packages/ipykernel_launcher.py:4: SettingWithCopyWarning: \n",
            "A value is trying to be set on a copy of a slice from a DataFrame.\n",
            "Try using .loc[row_indexer,col_indexer] = value instead\n",
            "\n",
            "See the caveats in the documentation: https://pandas.pydata.org/pandas-docs/stable/user_guide/indexing.html#returning-a-view-versus-a-copy\n",
            "  after removing the cwd from sys.path.\n"
          ]
        }
      ]
    },
    {
      "cell_type": "markdown",
      "metadata": {
        "id": "qzxdm1RALAOR"
      },
      "source": [
        "## vars"
      ]
    },
    {
      "cell_type": "code",
      "metadata": {
        "id": "90UFMqvrWzvL"
      },
      "source": [
        "preprocess = True\n",
        "text = 'tweets'\n",
        "target = 'sentiment'\n",
        "MAX_SEQUENCE_LENGTH = 60"
      ],
      "execution_count": null,
      "outputs": []
    },
    {
      "cell_type": "markdown",
      "metadata": {
        "id": "d-7vIQzqLCC_"
      },
      "source": [
        "## x and y"
      ]
    },
    {
      "cell_type": "code",
      "metadata": {
        "id": "uRuXKeqcWz0I"
      },
      "source": [
        "X = df[text]\n",
        "y = df[target]"
      ],
      "execution_count": null,
      "outputs": []
    },
    {
      "cell_type": "markdown",
      "metadata": {
        "id": "-QGH5i_XLEp7"
      },
      "source": [
        ""
      ]
    },
    {
      "cell_type": "markdown",
      "metadata": {
        "id": "tVI7ASpmLErw"
      },
      "source": [
        "## split"
      ]
    },
    {
      "cell_type": "code",
      "metadata": {
        "id": "t1CNTv2PWz2c"
      },
      "source": [
        "X_train, X_test, y_train, y_test = train_test_split(X, y, test_size = 0.3)"
      ],
      "execution_count": null,
      "outputs": []
    },
    {
      "cell_type": "markdown",
      "metadata": {
        "id": "g63qy9s8LHKW"
      },
      "source": [
        "## glove vecs\n"
      ]
    },
    {
      "cell_type": "code",
      "metadata": {
        "colab": {
          "base_uri": "https://localhost:8080/"
        },
        "id": "zNKNAGUeXEAE",
        "outputId": "f02e78ed-b622-498c-ee26-d27c19799d18"
      },
      "source": [
        "print(\"Generating Glove Embeddings...\")\n",
        "X_train_Glove,X_test_Glove, word_index,embeddings_index, tokenizer = loadData_Tokenizer(X_train,X_test, MAX_SEQUENCE_LENGTH=MAX_SEQUENCE_LENGTH)"
      ],
      "execution_count": null,
      "outputs": [
        {
          "output_type": "stream",
          "name": "stdout",
          "text": [
            "Generating Glove Embeddings...\n",
            "Found 17933 unique tokens.\n",
            "(10314, 60)\n",
            "Total 399955 word vectors.\n"
          ]
        }
      ]
    },
    {
      "cell_type": "markdown",
      "metadata": {
        "id": "lG8TYUaTLThp"
      },
      "source": [
        "## training"
      ]
    },
    {
      "cell_type": "code",
      "metadata": {
        "colab": {
          "base_uri": "https://localhost:8080/"
        },
        "id": "93_c_zisXECr",
        "outputId": "5ceef284-ea80-47ea-a0a3-921793d04aa1"
      },
      "source": [
        "# Model Training\n",
        "with warnings.catch_warnings():\n",
        "    print(\"Building Model ...\")\n",
        "    model_RNN = Build_Model_RNN_Text(word_index,embeddings_index, 2)\n",
        "    model_RNN.summary()\n",
        "    print(\"\\n Starting Training ... \\n\")\n",
        "    history = model_RNN.fit(X_train_Glove, y_train,\n",
        "                              validation_data=(X_test_Glove, y_test),\n",
        "                              epochs=10,\n",
        "                              batch_size=256,\n",
        "                              verbose=2)\n",
        "    warnings.simplefilter(\"ignore\")"
      ],
      "execution_count": null,
      "outputs": [
        {
          "output_type": "stream",
          "name": "stdout",
          "text": [
            "Building Model ...\n",
            "32\n",
            "Model: \"sequential\"\n",
            "_________________________________________________________________\n",
            "Layer (type)                 Output Shape              Param #   \n",
            "=================================================================\n",
            "embedding (Embedding)        (None, 500, 50)           896700    \n",
            "_________________________________________________________________\n",
            "bidirectional (Bidirectional (None, 500, 64)           21248     \n",
            "_________________________________________________________________\n",
            "dropout (Dropout)            (None, 500, 64)           0         \n",
            "_________________________________________________________________\n",
            "bidirectional_1 (Bidirection (None, 500, 64)           24832     \n",
            "_________________________________________________________________\n",
            "dropout_1 (Dropout)          (None, 500, 64)           0         \n",
            "_________________________________________________________________\n",
            "bidirectional_2 (Bidirection (None, 500, 64)           24832     \n",
            "_________________________________________________________________\n",
            "dropout_2 (Dropout)          (None, 500, 64)           0         \n",
            "_________________________________________________________________\n",
            "bidirectional_3 (Bidirection (None, 64)                24832     \n",
            "_________________________________________________________________\n",
            "dropout_3 (Dropout)          (None, 64)                0         \n",
            "_________________________________________________________________\n",
            "dense (Dense)                (None, 256)               16640     \n",
            "_________________________________________________________________\n",
            "dense_1 (Dense)              (None, 2)                 514       \n",
            "=================================================================\n",
            "Total params: 1,009,598\n",
            "Trainable params: 1,009,598\n",
            "Non-trainable params: 0\n",
            "_________________________________________________________________\n",
            "\n",
            " Starting Training ... \n",
            "\n",
            "Epoch 1/10\n",
            "WARNING:tensorflow:Model was constructed with shape (None, 500) for input KerasTensor(type_spec=TensorSpec(shape=(None, 500), dtype=tf.float32, name='embedding_input'), name='embedding_input', description=\"created by layer 'embedding_input'\"), but it was called on an input with incompatible shape (None, 60).\n"
          ]
        },
        {
          "output_type": "stream",
          "name": "stderr",
          "text": [
            "WARNING:tensorflow:Model was constructed with shape (None, 500) for input KerasTensor(type_spec=TensorSpec(shape=(None, 500), dtype=tf.float32, name='embedding_input'), name='embedding_input', description=\"created by layer 'embedding_input'\"), but it was called on an input with incompatible shape (None, 60).\n"
          ]
        },
        {
          "output_type": "stream",
          "name": "stdout",
          "text": [
            "WARNING:tensorflow:Model was constructed with shape (None, 500) for input KerasTensor(type_spec=TensorSpec(shape=(None, 500), dtype=tf.float32, name='embedding_input'), name='embedding_input', description=\"created by layer 'embedding_input'\"), but it was called on an input with incompatible shape (None, 60).\n"
          ]
        },
        {
          "output_type": "stream",
          "name": "stderr",
          "text": [
            "WARNING:tensorflow:Model was constructed with shape (None, 500) for input KerasTensor(type_spec=TensorSpec(shape=(None, 500), dtype=tf.float32, name='embedding_input'), name='embedding_input', description=\"created by layer 'embedding_input'\"), but it was called on an input with incompatible shape (None, 60).\n"
          ]
        },
        {
          "output_type": "stream",
          "name": "stdout",
          "text": [
            "WARNING:tensorflow:Model was constructed with shape (None, 500) for input KerasTensor(type_spec=TensorSpec(shape=(None, 500), dtype=tf.float32, name='embedding_input'), name='embedding_input', description=\"created by layer 'embedding_input'\"), but it was called on an input with incompatible shape (None, 60).\n"
          ]
        },
        {
          "output_type": "stream",
          "name": "stderr",
          "text": [
            "WARNING:tensorflow:Model was constructed with shape (None, 500) for input KerasTensor(type_spec=TensorSpec(shape=(None, 500), dtype=tf.float32, name='embedding_input'), name='embedding_input', description=\"created by layer 'embedding_input'\"), but it was called on an input with incompatible shape (None, 60).\n"
          ]
        },
        {
          "output_type": "stream",
          "name": "stdout",
          "text": [
            "29/29 - 54s - loss: 0.4984 - accuracy: 0.7870 - val_loss: 0.3147 - val_accuracy: 0.8788\n",
            "Epoch 2/10\n",
            "29/29 - 31s - loss: 0.1725 - accuracy: 0.9442 - val_loss: 0.0753 - val_accuracy: 0.9777\n",
            "Epoch 3/10\n",
            "29/29 - 30s - loss: 0.0639 - accuracy: 0.9838 - val_loss: 0.0527 - val_accuracy: 0.9861\n",
            "Epoch 4/10\n",
            "29/29 - 31s - loss: 0.0439 - accuracy: 0.9899 - val_loss: 0.0475 - val_accuracy: 0.9884\n",
            "Epoch 5/10\n",
            "29/29 - 30s - loss: 0.0365 - accuracy: 0.9921 - val_loss: 0.0432 - val_accuracy: 0.9893\n",
            "Epoch 6/10\n",
            "29/29 - 30s - loss: 0.0311 - accuracy: 0.9932 - val_loss: 0.0525 - val_accuracy: 0.9880\n",
            "Epoch 7/10\n",
            "29/29 - 30s - loss: 0.0259 - accuracy: 0.9947 - val_loss: 0.0652 - val_accuracy: 0.9880\n",
            "Epoch 8/10\n",
            "29/29 - 30s - loss: 0.0262 - accuracy: 0.9943 - val_loss: 0.0441 - val_accuracy: 0.9893\n",
            "Epoch 9/10\n",
            "29/29 - 30s - loss: 0.0250 - accuracy: 0.9945 - val_loss: 0.0568 - val_accuracy: 0.9877\n",
            "Epoch 10/10\n",
            "29/29 - 31s - loss: 0.0205 - accuracy: 0.9963 - val_loss: 0.0601 - val_accuracy: 0.9884\n"
          ]
        }
      ]
    },
    {
      "cell_type": "markdown",
      "metadata": {
        "id": "rdGiiBBsLVN6"
      },
      "source": [
        "## graph plot"
      ]
    },
    {
      "cell_type": "code",
      "metadata": {
        "id": "5Tlr-xhZXEE5"
      },
      "source": [
        "def plot_graphs(history, string):\n",
        "  plt.plot(history.history[string])\n",
        "  plt.plot(history.history['val_'+string], '')\n",
        "  plt.xlabel(\"Epochs\")\n",
        "  plt.ylabel(string)\n",
        "  plt.legend([string, 'val_'+string])\n",
        "  plt.show()\n"
      ],
      "execution_count": null,
      "outputs": []
    },
    {
      "cell_type": "code",
      "metadata": {
        "colab": {
          "base_uri": "https://localhost:8080/",
          "height": 595
        },
        "id": "MxOfChEcXEHK",
        "outputId": "17f48c18-552e-40f9-b42a-46637fff9280"
      },
      "source": [
        "print(\"\\n Plotting results ... \\n\")\n",
        "plot_graphs(history, 'accuracy')\n",
        "plot_graphs(history, 'loss')"
      ],
      "execution_count": null,
      "outputs": [
        {
          "output_type": "stream",
          "name": "stdout",
          "text": [
            "\n",
            " Plotting results ... \n",
            "\n"
          ]
        },
        {
          "output_type": "display_data",
          "data": {
            "image/png": "[encoded data removed]",
            "text/plain": [
              "<Figure size 432x288 with 1 Axes>"
            ]
          },
          "metadata": {
            "needs_background": "light"
          }
        },
        {
          "output_type": "display_data",
          "data": {
            "image/png": "[encoded data removed]",
            "text/plain": [
              "<Figure size 432x288 with 1 Axes>"
            ]
          },
          "metadata": {
            "needs_background": "light"
          }
        }
      ]
    },
    {
      "cell_type": "markdown",
      "metadata": {
        "id": "TdpRoBOLLYtR"
      },
      "source": [
        "## predictions and acc"
      ]
    },
    {
      "cell_type": "code",
      "metadata": {
        "colab": {
          "base_uri": "https://localhost:8080/"
        },
        "id": "3-0m0vP6XEJi",
        "outputId": "948a3a5e-cabd-4839-ec21-6d0b35cf6433"
      },
      "source": [
        "predict_x=model_RNN.predict(X_test_Glove); \n",
        "classes_x=np.argmax(predict_x,axis=1)"
      ],
      "execution_count": null,
      "outputs": [
        {
          "output_type": "stream",
          "name": "stdout",
          "text": [
            "WARNING:tensorflow:Model was constructed with shape (None, 500) for input KerasTensor(type_spec=TensorSpec(shape=(None, 500), dtype=tf.float32, name='embedding_input'), name='embedding_input', description=\"created by layer 'embedding_input'\"), but it was called on an input with incompatible shape (None, 60).\n"
          ]
        },
        {
          "output_type": "stream",
          "name": "stderr",
          "text": [
            "WARNING:tensorflow:Model was constructed with shape (None, 500) for input KerasTensor(type_spec=TensorSpec(shape=(None, 500), dtype=tf.float32, name='embedding_input'), name='embedding_input', description=\"created by layer 'embedding_input'\"), but it was called on an input with incompatible shape (None, 60).\n"
          ]
        }
      ]
    },
    {
      "cell_type": "code",
      "metadata": {
        "colab": {
          "base_uri": "https://localhost:8080/"
        },
        "id": "B5nzxHdvWz5W",
        "outputId": "31f22c51-3c37-4e80-cd82-8ed2be007449"
      },
      "source": [
        "print(metrics.classification_report(y_test, classes_x));"
      ],
      "execution_count": null,
      "outputs": [
        {
          "output_type": "stream",
          "name": "stdout",
          "text": [
            "              precision    recall  f1-score   support\n",
            "\n",
            "           0       0.99      1.00      0.99      2407\n",
            "           1       0.99      0.96      0.97       688\n",
            "\n",
            "    accuracy                           0.99      3095\n",
            "   macro avg       0.99      0.98      0.98      3095\n",
            "weighted avg       0.99      0.99      0.99      3095\n",
            "\n"
          ]
        }
      ]
    },
    {
      "cell_type": "markdown",
      "metadata": {
        "id": "p6ISVPwDLbn4"
      },
      "source": [
        "## confusin matrix"
      ]
    },
    {
      "cell_type": "code",
      "metadata": {
        "colab": {
          "base_uri": "https://localhost:8080/"
        },
        "id": "NPDEp1tXXaeV",
        "outputId": "44e3ed9f-363a-4748-c9ec-aecb81076b35"
      },
      "source": [
        "print(\"Confusion Matrix for Decision Tree:\")\n",
        "print(confusion_matrix(y_test,classes_x))\n",
        "cnf_matrix = confusion_matrix(y_test,classes_x);\n",
        "labels = ['0','1'];\n",
        "cm1 = pd.DataFrame(cnf_matrix, index = labels, columns = labels)"
      ],
      "execution_count": null,
      "outputs": [
        {
          "output_type": "stream",
          "name": "stdout",
          "text": [
            "Confusion Matrix for Decision Tree:\n",
            "[[2399    8]\n",
            " [  28  660]]\n"
          ]
        }
      ]
    },
    {
      "cell_type": "code",
      "metadata": {
        "colab": {
          "base_uri": "https://localhost:8080/",
          "height": 497
        },
        "id": "9nPtzOGVXakF",
        "outputId": "1e0f3c5f-cb58-41ff-a474-2902c91a7c3d"
      },
      "source": [
        "plt.figure(figsize = (10, 8))\n",
        "sns.heatmap(cm1, annot = True, cbar = False, fmt = 'g')\n",
        "plt.ylabel('Actual values')\n",
        "plt.xlabel('Predicted values')\n",
        "plt.show()"
      ],
      "execution_count": null,
      "outputs": [
        {
          "output_type": "display_data",
          "data": {
            "image/png": "[encoded data removed]",
            "text/plain": [
              "<Figure size 720x576 with 1 Axes>"
            ]
          },
          "metadata": {
            "needs_background": "light"
          }
        }
      ]
    },
    {
      "cell_type": "markdown",
      "metadata": {
        "id": "yOspspfkYUPJ"
      },
      "source": [
        "## heading baki"
      ]
    },
    {
      "cell_type": "code",
      "metadata": {
        "id": "a22AcSAvXap5"
      },
      "source": [
        ""
      ],
      "execution_count": null,
      "outputs": []
    }
  ]
}