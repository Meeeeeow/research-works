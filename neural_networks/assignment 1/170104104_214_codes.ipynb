{
  "nbformat": 4,
  "nbformat_minor": 0,
  "metadata": {
    "colab": {
      "name": "170104104_214_codes.ipynb",
      "provenance": [],
      "collapsed_sections": []
    },
    "kernelspec": {
      "display_name": "Python 3",
      "name": "python3"
    },
    "language_info": {
      "name": "python"
    }
  },
  "cells": [
    {
      "cell_type": "code",
      "metadata": {
        "id": "NSp99D19dfPh",
        "colab": {
          "base_uri": "https://localhost:8080/"
        },
        "outputId": "8faeb83a-5064-48ad-b5a5-ff12bfa9bed2"
      },
      "source": [
        "from google.colab import drive;\n",
        "drive.mount(\"/content/gdrive\");"
      ],
      "execution_count": null,
      "outputs": [
        {
          "output_type": "stream",
          "text": [
            "Mounted at /content/gdrive\n"
          ],
          "name": "stdout"
        }
      ]
    },
    {
      "cell_type": "code",
      "metadata": {
        "colab": {
          "base_uri": "https://localhost:8080/"
        },
        "id": "a3SpDV8pd8XD",
        "outputId": "683679fd-58ce-470d-8db7-1c01a0857906"
      },
      "source": [
        "import pandas as pd;\n",
        "df = pd.read_csv(\"/content/gdrive/MyDrive/Matrix Factorization/Matrix_Factorization_Assignment.csv\");\n",
        "df = df.sample(frac=0.70);\n",
        "print(df.head(5));"
      ],
      "execution_count": null,
      "outputs": [
        {
          "output_type": "stream",
          "text": [
            "       Index    0     1    2     3    4  ...  4994  4995  4996  4997  4998  4999\n",
            "39802  12273  8.0   9.0  7.0   NaN  3.0  ...   1.0   1.0   3.0   9.0   NaN   2.0\n",
            "34353  13407  9.0  10.0  2.0   4.0  5.0  ...  10.0   4.0   8.0   NaN   NaN   3.0\n",
            "33153  13830  8.0   5.0  4.0   NaN  9.0  ...   NaN   5.0   NaN   4.0  10.0   4.0\n",
            "44484  45071  NaN   NaN  2.0   4.0  NaN  ...   3.0   5.0   9.0   7.0   1.0   1.0\n",
            "22601  24729  1.0   NaN  NaN  10.0  2.0  ...   2.0   6.0   7.0   NaN   NaN  10.0\n",
            "\n",
            "[5 rows x 5001 columns]\n"
          ],
          "name": "stdout"
        }
      ]
    },
    {
      "cell_type": "code",
      "metadata": {
        "id": "zsyyL69WUmTL"
      },
      "source": [
        "import numpy as np;\n",
        "from sklearn import preprocessing;\n",
        "from sklearn.metrics import mean_squared_error;\n",
        "import matplotlib.pyplot as plt;"
      ],
      "execution_count": null,
      "outputs": []
    },
    {
      "cell_type": "code",
      "metadata": {
        "colab": {
          "base_uri": "https://localhost:8080/"
        },
        "id": "8f1MzNwvjj-B",
        "outputId": "139daf6b-0819-4404-f267-eb2203a6b61b"
      },
      "source": [
        "## Delete row\n",
        "# print(df.shape);\n",
        "filtered_row_df = df[df['Index'] % 214 != 0];\n",
        "# print(filtered_row_df);\n",
        "# print(filtered_row_df.shape);\n",
        "##Delete column\n",
        "abandoned_cols = [str(i) for i in range(0,5000) if i % 214 == 0];\n",
        "# print(abandoned_cols);\n",
        "filtered_df = filtered_row_df.drop(abandoned_cols,axis = 1);\n",
        "# print(filtered_df);\n",
        "# print(filtered_df.shape);\n",
        "filtered_df = filtered_df.fillna(0);\n",
        "mod_filtered_df = filtered_df.drop(filtered_df[['Index']], axis=1);\n",
        "print(mod_filtered_df.describe());\n",
        "mod_filtered_df = mod_filtered_df.to_numpy();\n",
        "\n",
        "print(mod_filtered_df.shape);\n",
        "# print(mod_filtered_df[0][1]);"
      ],
      "execution_count": null,
      "outputs": [
        {
          "output_type": "stream",
          "text": [
            "(31353, 4976)\n"
          ],
          "name": "stdout"
        }
      ]
    },
    {
      "cell_type": "markdown",
      "metadata": {
        "id": "Ilzcbj5IzEH5"
      },
      "source": [
        "## initialize λu and λv\n"
      ]
    },
    {
      "cell_type": "markdown",
      "metadata": {
        "id": "Qpu0rp7xVQPc"
      },
      "source": [
        ""
      ]
    },
    {
      "cell_type": "code",
      "metadata": {
        "colab": {
          "base_uri": "https://localhost:8080/"
        },
        "id": "92VgwCEsjk3K",
        "outputId": "373fcd36-c2f4-4908-e227-4e98f523321c"
      },
      "source": [
        "λu = (0.00015 + (0.0001 * (214 % 8)));\n",
        "λv = (0.00025 - (0.0001 * (214 % 7)));\n",
        "print(λu,λv);\n"
      ],
      "execution_count": null,
      "outputs": [
        {
          "output_type": "stream",
          "text": [
            "0.00075 -0.00015000000000000001\n"
          ],
          "name": "stdout"
        }
      ]
    },
    {
      "cell_type": "markdown",
      "metadata": {
        "id": "KL696hzRj_zc"
      },
      "source": [
        "## update \n"
      ]
    },
    {
      "cell_type": "code",
      "metadata": {
        "id": "25m-kHpUjlvw"
      },
      "source": [
        "class MF():\n",
        "  def __init__(self,R,K,lambda_u,lambda_v,iterations):\n",
        "    self.R = R;\n",
        "    self.num_users,self.num_items = R.shape;\n",
        "    self.K  = K;\n",
        "    self.lambda_u = lambda_u;\n",
        "    self.lambda_v = lambda_v;\n",
        "    self.iterations = iterations;\n",
        "  def train(self):\n",
        "      self.U = np.random.random((self.num_users, self.K))\n",
        "      self.V = np.random.random((self.num_items, self.K))\n",
        "      # print(self.U.shape);\n",
        "\n",
        "      # #normalize\n",
        "      self.normalized_U = preprocessing.normalize(self.U);\n",
        "      self.normalized_V = preprocessing.normalize(self.V);\n",
        "\n",
        "      # print(self.normalized_U.shape);\n",
        "\n",
        "      \n",
        "      \n",
        "      self.train_mse = [];\n",
        "      for _ in range(self.iterations):\n",
        "        self.normalized_U = self.als_train(self.R,self.normalized_U,self.normalized_V,self.lambda_u);\n",
        "        # print(self.normalized_U.shape);\n",
        "        # print(self.normalized_U);\n",
        "        self.normalized_V = self.als_train(self.R.transpose(),self.normalized_V,self.normalized_U,self.lambda_v);\n",
        "\n",
        "        predictions = self.predict();\n",
        "        train_mse = self.calculate_mse(self.R,predictions);\n",
        "        self.train_mse.append(train_mse);\n",
        "      return self;\n",
        "  \n",
        "  def als_train(self,ratings,solve_matrix , fix_matrix,param):\n",
        "    test_part = fix_matrix.transpose().dot(fix_matrix);\n",
        "    # print(test_part.shape);\n",
        "    f_part = fix_matrix.transpose().dot(fix_matrix) + np.eye(self.K) * param;\n",
        "    f_part_inv = np.linalg.inv(f_part);\n",
        "    s_part = ratings.dot(fix_matrix);\n",
        "    solve_matrix = s_part.dot(f_part_inv);\n",
        "    \n",
        "    return solve_matrix;\n",
        "\n",
        "\n",
        "       \n",
        "  #loss function\n",
        "  def calculate_mse(self,y_true,y_pred):\n",
        "    mask = np.nonzero(y_true);\n",
        "    mse = mean_squared_error(y_true[mask], y_pred[mask]);\n",
        "    return mse;\n",
        "  def predict(self):\n",
        "    pred = self.normalized_U.dot(self.normalized_V.transpose());\n",
        "    print(pred[0][0:10]);\n",
        "    return pred;\n",
        "\n",
        "\n",
        "  \n"
      ],
      "execution_count": null,
      "outputs": []
    },
    {
      "cell_type": "code",
      "metadata": {
        "colab": {
          "base_uri": "https://localhost:8080/"
        },
        "id": "fmaeEmzstpuw",
        "outputId": "8e69e513-aa0a-4202-c006-cb3cbffb9a9c"
      },
      "source": [
        "\n",
        "mf =MF(mod_filtered_df,5,λu,λv,20);\n",
        "mf.train();\n",
        "mf1 =MF(mod_filtered_df,20,λu,λv,20);\n",
        "mf1.train();\n",
        "mf2 =MF(mod_filtered_df,100,λu,λv,20);\n",
        "mf2.train();\n",
        "mf3 =MF(mod_filtered_df,600,λu,λv,20);\n",
        "mf3.train();"
      ],
      "execution_count": null,
      "outputs": [
        {
          "output_type": "stream",
          "text": [
            "[3.02406348 3.32157886 3.21578056 3.14298431 3.21533519 2.79434911\n",
            " 2.53166075 2.9031155  3.14255104 2.57052014]\n",
            "[3.08093611 3.29941668 3.32248684 3.13246899 3.20483699 2.84224081\n",
            " 2.51880495 2.94944526 3.18307746 2.53487681]\n",
            "[3.10574789 3.25292056 3.39283909 3.13144123 3.17206937 2.90763278\n",
            " 2.55710316 2.96543046 3.21700881 2.56566535]\n",
            "[3.08195586 3.21865718 3.41347779 3.13734474 3.13059598 2.96981722\n",
            " 2.60619392 2.9604569  3.24282609 2.62173816]\n",
            "[3.03288797 3.20190303 3.40696795 3.14861341 3.0909275  3.01981043\n",
            " 2.6530922  2.95250888 3.26634733 2.68114433]\n",
            "[2.97878261 3.19826183 3.39143898 3.16274147 3.05700759 3.0552972\n",
            " 2.69492128 2.94876295 3.2879407  2.73433494]\n",
            "[2.93094199 3.20322877 3.37660184 3.17782406 3.02993011 3.0775049\n",
            " 2.73147374 2.9499215  3.30631311 2.77841124]\n",
            "[2.89384484 3.21364289 3.36634407 3.19273061 3.00946483 3.0888969\n",
            " 2.76301629 2.95447192 3.32063869 2.8135027 ]\n",
            "[2.86803532 3.22745203 3.36142771 3.20688845 2.99475599 3.09200858\n",
            " 2.78988137 2.96070439 3.3308699  2.84086655]\n",
            "[2.8522109  3.24333533 3.36122522 3.22004459 2.98472403 3.08900318\n",
            " 2.81243944 2.9673523  3.33745566 2.86199936]\n",
            "[2.84444256 3.26043271 3.36465252 3.23210703 2.97830358 3.08158263\n",
            " 2.83109872 2.97364884 3.3410409  2.87827602]\n",
            "[2.84278933 3.27817533 3.37060771 3.24305973 2.97456548 3.07103802\n",
            " 2.84628824 2.9792062  3.34228136 2.89083764]\n",
            "[2.84555789 3.296182   3.3781447  3.25292263 2.97276088 3.05833559\n",
            " 2.85843532 2.98387878 3.34175772 2.90058551]\n",
            "[2.85137727 3.31419491 3.38651795 3.26173401 2.97231968 3.04419721\n",
            " 2.8679471  2.98765839 3.33994896 2.9082132 ]\n",
            "[2.85918791 3.33203875 3.39517177 3.26954276 2.97282694 3.02916396\n",
            " 2.8751988  2.99060562 3.33723444 2.9142475 ]\n",
            "[2.86819758 3.34959407 3.4037099  3.27640438 2.97399205 3.01364304\n",
            " 2.88052797 2.9928093  3.33390736 2.91908624]\n",
            "[2.87782981 3.36677936 3.41186209 3.28237848 2.97561854 2.99794153\n",
            " 2.88423292 2.99436446 3.33019075 2.92302961]\n",
            "[2.88767583 3.38353902 3.41945393 3.28752684 2.97757805 2.98229059\n",
            " 2.88657395 2.9953616  3.32625244 2.92630447]\n",
            "[2.89745397 3.39983514 3.42638204 3.29191179 2.97978963 2.96686313\n",
            " 2.88777592 2.9958822  3.32221757 2.92908288]\n",
            "[2.90697703 3.41564193 3.43259461 3.29559493 2.98220397 2.95178688\n",
            " 2.88803173 2.99599771 3.31817861 2.93149582]\n",
            "[3.43273374 2.75221403 3.25285373 3.25401018 2.80892509 2.40464148\n",
            " 2.70226397 2.73795091 3.00411332 2.27153634]\n",
            "[3.63735035 2.67111973 3.29738817 3.30176372 2.80735725 2.31368144\n",
            " 2.73273822 2.78704135 2.96114882 2.44787381]\n",
            "[3.73269886 2.7283121  3.35564881 3.33607708 2.85322479 2.27386964\n",
            " 2.73515194 2.80838442 2.9345624  2.63215928]\n",
            "[3.75672237 2.82621444 3.4061487  3.3556972  2.91267349 2.22946447\n",
            " 2.73360664 2.79606673 2.89913538 2.75124197]\n",
            "[3.74264856 2.92572455 3.44704073 3.36223926 2.9722262  2.17167682\n",
            " 2.7333954  2.77658832 2.86274736 2.82726536]\n",
            "[3.71432187 3.0143135  3.47964519 3.35822838 3.02619148 2.10803476\n",
            " 2.73474618 2.76234668 2.83273074 2.88253245]\n",
            "[3.68548132 3.08881991 3.50482178 3.34620634 3.07220958 2.04559737\n",
            " 2.73737391 2.7547066  2.81178094 2.9287974 ]\n",
            "[3.66220356 3.14941565 3.52312955 3.3283207  3.10951547 1.98824811\n",
            " 2.74099143 2.75128044 2.80026444 2.97156829]\n",
            "[3.64608696 3.19745852 3.53515311 3.30631537 3.1381611  1.93750474\n",
            " 2.74527551 2.74947739 2.79767912 3.01331051]\n",
            "[3.63660959 3.23467605 3.54159436 3.28163296 3.15864706 1.89356221\n",
            " 2.74985256 2.74754932 2.8031848  3.05498578]\n",
            "[3.63248868 3.26282556 3.54325024 3.25548836 3.17172692 1.85599325\n",
            " 2.75433776 2.74462316 2.81578147 3.09678393]\n",
            "[3.63233955 3.2835424  3.54096067 3.22889884 3.17828457 1.82413828\n",
            " 2.75839143 2.74045548 2.83439528 3.13850751]\n",
            "[3.63493977 3.29827576 3.53555846 3.2026937  3.17924848 1.79729753\n",
            " 2.76176333 2.73517946 2.85794209 3.17979182]\n",
            "[3.63930134 3.3082707  3.52783005 3.17752185 3.17553095 1.77481424\n",
            " 2.76431359 2.72911533 2.88537821 3.22023259]\n",
            "[3.64466216 3.31457472 3.51848848 3.15386474 3.16798734 1.75610366\n",
            " 2.76601145 2.72264674 2.91573764 3.25945604]\n",
            "[3.65045059 3.31805608 3.50815753 3.13205472 3.15739128 1.7406577\n",
            " 2.76691836 2.71614749 2.94815556 3.29715217]\n",
            "[3.65624647 3.31942623 3.49736514 3.11229684 3.14442267 1.72803972\n",
            " 2.76716342 2.70994289 2.98187981 3.33308533]\n",
            "[3.66174677 3.31926238 3.48654384 3.09469136 3.12966477 1.71787633\n",
            " 2.76691704 2.70429313 3.01627292 3.36709181]\n",
            "[3.66673814 3.31802825 3.47603611 3.0792553  3.11360777 1.70984877\n",
            " 2.76636722 2.69939018 3.05080747 3.39907092]\n",
            "[3.67107549 3.31609239 3.46610273 3.06594201 3.09665621 1.70368496\n",
            " 2.76570038 2.69536223 3.08505708 3.42897372]\n",
            "[3.172273   3.20319766 3.88606744 3.13770235 2.77258648 2.04727903\n",
            " 3.04689898 2.52891221 3.56491712 3.30683869]\n",
            "[3.17277011 3.28194566 4.28187213 3.06036498 2.50441654 1.72767375\n",
            " 3.02561132 2.77262507 3.9703869  3.42721062]\n",
            "[3.26966854 3.39936958 4.5338823  3.139239   2.34706412 1.57612476\n",
            " 2.87924978 2.82289183 4.04822105 3.32568445]\n",
            "[3.35451211 3.48795607 4.63807302 3.30387896 2.30004258 1.4941561\n",
            " 2.74044941 2.75246812 3.99856148 3.21583944]\n",
            "[3.40568422 3.54151971 4.6589389  3.48223553 2.30919398 1.42784828\n",
            " 2.65892361 2.66371206 3.92107001 3.14620587]\n",
            "[3.43144393 3.56841323 4.64199527 3.64708563 2.34802721 1.3647702\n",
            " 2.63437248 2.5994647  3.85017503 3.1063257 ]\n",
            "[3.44357428 3.57468522 4.61283856 3.79119854 2.40273586 1.3050935\n",
            " 2.65259038 2.56771031 3.79673502 3.08226116]\n",
            "[3.45121878 3.56361357 4.58484754 3.91380777 2.46351138 1.25122988\n",
            " 2.69985421 2.56302019 3.7625556  3.06553133]\n",
            "[3.4601564  3.53800658 4.56419205 4.01576983 2.5236004  1.20506055\n",
            " 2.76608249 2.57686027 3.74520559 3.05203807]\n",
            "[3.47328112 3.50122887 4.55284142 4.09818071 2.57913258 1.16729877\n",
            " 2.84427664 2.60165441 3.74032989 3.04028868]\n",
            "[3.4913898  3.45706628 4.55042941 4.16224318 2.62840431 1.13757482\n",
            " 2.92940268 2.63192065 3.74315171 3.03011773]\n",
            "[3.51398461 3.40922472 4.55541789 4.20942181 2.6710268  1.114798\n",
            " 3.01762057 2.66419294 3.74940883 3.02186959]\n",
            "[3.53992932 3.36091736 4.56581116 4.24151931 2.70726893 1.09755308\n",
            " 3.10590716 2.69654756 3.75581055 3.01592855]\n",
            "[3.56790163 3.31466027 4.57957874 4.26061467 2.73766026 1.08440766\n",
            " 3.19190984 2.72809271 3.76014974 3.01249712]\n",
            "[3.59665829 3.27224269 4.59488803 4.26891973 2.76279396 1.07409815\n",
            " 3.2738875  2.75855232 3.7612104  3.01153474]\n",
            "[3.62516218 3.2348011  4.6102138  4.26862159 2.78324887 1.06561181\n",
            " 3.35066065 2.787971   3.75857871 3.01278558]\n",
            "[3.65262151 3.20293725 4.62437004 4.26175338 2.79956888 1.05819791\n",
            " 3.42154308 2.81652515 3.7524272  3.01584463]\n",
            "[3.67848042 3.17684238 4.63649612 4.25010919 2.81226353 1.05133908\n",
            " 3.48625525 2.84441344 3.74331122 3.02023045]\n",
            "[3.70238661 3.15640876 4.64601888 4.23520221 2.82181206 1.0447058\n",
            " 3.54482946 2.87180106 3.73199701 3.02544787]\n",
            "[3.72415127 3.14132181 4.65260508 4.21825737 2.82866518 1.03810841\n",
            " 3.59751813 2.89879774 3.71932815 3.03103438]\n",
            "[4.61270622 4.25232073 2.87884255 5.84626959 1.47140336 2.07890559\n",
            " 3.19467365 4.84639795 3.02882126 3.7529495 ]\n",
            "[4.78217207 3.71857808 2.99260972 5.3400997  1.15093602 1.6025231\n",
            " 2.60734713 4.05930105 2.9696278  4.0450872 ]\n",
            "[4.91393729 3.25317407 3.60569876 4.77242142 1.36158854 0.80916069\n",
            " 2.3213445  3.5310967  2.97932673 4.06917712]\n",
            "[5.0093111  3.16695579 4.23986051 4.28067748 1.55013244 0.15616863\n",
            " 2.30359666 3.390724   3.18684472 3.89912846]\n",
            "[ 5.01626455  3.29697003  4.77436452  3.9012336   1.65351172 -0.29304444\n",
            "  2.4547047   3.41302603  3.46639117  3.6438016 ]\n",
            "[ 4.94185144  3.46936769  5.17426672  3.63051802  1.7173829  -0.57830799\n",
            "  2.69680128  3.46057285  3.70973837  3.39006085]\n",
            "[ 4.81857081  3.61014015  5.44473477  3.4535336   1.76582512 -0.74737895\n",
            "  2.97135655  3.48734398  3.86883981  3.17559841]\n",
            "[ 4.68248731  3.70590999  5.61429918  3.35460129  1.80575913 -0.83918529\n",
            "  3.23508335  3.48686997  3.94394527  3.00277706]\n",
            "[ 4.56053618  3.76583317  5.71515995  3.3165984   1.84001999 -0.88187776\n",
            "  3.46208024  3.46539822  3.95828879  2.86148003]\n",
            "[ 4.46678658  3.80254488  5.77230649  3.32197513  1.87145353 -0.89466535\n",
            "  3.64236981  3.43111471  3.93864898  2.74173077]\n",
            "[ 4.40469275  3.82562119  5.80165926  3.35513454  1.90257785 -0.89030785\n",
            "  3.77699726  3.39055806  3.90636345  2.63712722]\n",
            "[ 4.37118001  3.84077171  5.81232395  3.40388586  1.93482936 -0.87714862\n",
            "  3.87280996  3.34793327  3.87540258  2.54435245]\n",
            "[ 4.36021604  3.85086582  5.8093964   3.4595915   1.96848003 -0.86049684\n",
            "  3.93859476  3.30546508  3.85346624  2.46188297]\n",
            "[ 4.36517657  3.85714177  5.79598068  3.51658699  2.00300229 -0.84354543\n",
            "  3.98281021  3.26401892  3.84379033  2.38896523]\n",
            "[ 4.38011134  3.86008906  5.77431281  3.5714177   2.03751031 -0.82802004\n",
            "  4.0125362   3.22367345  3.84677105  2.3250186 ]\n",
            "[ 4.40024884  3.85995413  5.74626701  3.62215892  2.07109019 -0.81466183\n",
            "  4.033176    3.18413904  3.86119419  2.26936338]\n",
            "[ 4.42206119  3.85696791  5.71352734  3.66789329  2.10298418 -0.8035871\n",
            "  4.04855343  3.14501813  3.8850864   2.22114624]\n",
            "[ 4.44311892  3.85141179  5.67761324  3.70833732  2.13266081 -0.79454711\n",
            "  4.06117951  3.10594456  3.91626157  2.17936704]\n",
            "[ 4.46187379  3.84361036  5.63986123  3.74358602  2.15981498 -0.78710797\n",
            "  4.07256185  3.06664453  3.95263987  2.14294611]\n",
            "[ 4.47744142  3.8339026   5.60140728  3.77394424  2.18433356 -0.78076978\n",
            "  4.0834929   3.02695307  3.99240888  2.11079777]\n"
          ],
          "name": "stdout"
        }
      ]
    },
    {
      "cell_type": "code",
      "metadata": {
        "id": "KMS0kzAIpTWm"
      },
      "source": [
        "def plot_data(model):\n",
        "    linewidth = 3\n",
        "    plt.plot(model.train_mse, label = 'Train', linewidth = linewidth)\n",
        "    plt.xlabel('iterations')\n",
        "    plt.ylabel('MSE')\n",
        "    plt.legend(loc = 'best');\n",
        "    plt.show();"
      ],
      "execution_count": null,
      "outputs": []
    },
    {
      "cell_type": "code",
      "metadata": {
        "colab": {
          "base_uri": "https://localhost:8080/",
          "height": 1000
        },
        "id": "2gksymfgpkTC",
        "outputId": "dee122d7-968a-468e-9e07-b9eeda3f0432"
      },
      "source": [
        "plot_data(mf);\n",
        "plot_data(mf1);\n",
        "plot_data(mf2);\n",
        "plot_data(mf3);"
      ],
      "execution_count": null,
      "outputs": [
        {
          "output_type": "display_data",
          "data": {
            "image/png": "[encoded data removed]",
            "text/plain": [
              "<Figure size 432x288 with 1 Axes>"
            ]
          },
          "metadata": {
            "tags": [],
            "needs_background": "light"
          }
        },
        {
          "output_type": "display_data",
          "data": {
            "image/png": "[encoded data removed]",
            "text/plain": [
              "<Figure size 432x288 with 1 Axes>"
            ]
          },
          "metadata": {
            "tags": [],
            "needs_background": "light"
          }
        },
        {
          "output_type": "display_data",
          "data": {
            "image/png": "[encoded data removed]",
            "text/plain": [
              "<Figure size 432x288 with 1 Axes>"
            ]
          },
          "metadata": {
            "tags": [],
            "needs_background": "light"
          }
        },
        {
          "output_type": "display_data",
          "data": {
            "image/png": "[encoded data removed]",
            "text/plain": [
              "<Figure size 432x288 with 1 Axes>"
            ]
          },
          "metadata": {
            "tags": [],
            "needs_background": "light"
          }
        }
      ]
    },
    {
      "cell_type": "markdown",
      "metadata": {
        "id": "Z1mGf_AqmX_e"
      },
      "source": [
        "### Cosine similarity item\n"
      ]
    },
    {
      "cell_type": "code",
      "metadata": {
        "id": "eUCurIscmLfj"
      },
      "source": [
        "from numpy import dot\n",
        "from numpy.linalg import norm\n",
        "\n",
        "\n",
        "def cosine_similarity(model):\n",
        "  # print(model.normalized_U);\n",
        "  cos_sim = dot(model.normalized_V, model.normalized_V.transpose())/(norm(model.normalized_V)*norm(model.normalized_V.transpose()));\n",
        "  # cos_sim1 = dot(model.normalized_U, model.normalized_U.transpose())/(norm(model.normalized_U)*norm(model.normalized_U.transpose()));\n",
        "  # print(cos_sim);\n",
        "  # print(cos_sim1);\n",
        "def cosine_similarity1(model):\n",
        "\n",
        "  cos_sim = dot(model.normalized_V, model.normalized_V.transpose())/(norm(model.normalized_V)*norm(model.normalized_V.transpose()));\n",
        "  # cos_sim1 = dot(model.normalized_U, model.normalized_U.transpose())/(norm(model.normalized_U)*norm(model.normalized_U.transpose()));\n",
        "  # print(cos_sim);\n",
        "  # print(cos_sim1);\n",
        "def cosine_similarity2(model):\n",
        "\n",
        "  cos_sim = dot(model.normalized_V, model.normalized_V.transpose())/(norm(model.normalized_V)*norm(model.normalized_V.transpose()));\n",
        "  # cos_sim1 = dot(model.normalized_U, model.normalized_U.transpose())/(norm(model.normalized_U)*norm(model.normalized_U.transpose()));\n",
        "  # print(cos_sim);\n",
        "  # print(cos_sim1);\n",
        "def cosine_similarity3(model):\n",
        "  # print(model.normalized_U);\n",
        "  cos_sim = dot(model.normalized_V, model.normalized_V.transpose())/(norm(model.normalized_V)*norm(model.normalized_V.transpose()));\n",
        "  # cos_sim1 = dot(model.normalized_U, model.normalized_U.transpose())/(norm(model.normalized_U)*norm(model.normalized_U.transpose()));\n",
        "  print(cos_sim);\n",
        "  # print(cos_sim1);\n",
        "\n"
      ],
      "execution_count": null,
      "outputs": []
    },
    {
      "cell_type": "code",
      "metadata": {
        "colab": {
          "base_uri": "https://localhost:8080/"
        },
        "id": "iZh4RJx7mJnu",
        "outputId": "bbfe26b2-101c-45e4-d2bb-27285b543cd7"
      },
      "source": [
        "item_simlarity_mod1 = cosine_similarity(mf);\n",
        "item_simlarity_mod2 = cosine_similarity1(mf1);\n",
        "item_simlarity_mod3 = cosine_similarity2(mf2);\n",
        "item_simlarity_mod4 = cosine_similarity3(mf3);"
      ],
      "execution_count": null,
      "outputs": [
        {
          "output_type": "stream",
          "text": [
            "[[0.00020476 0.00014853 0.0001507  ... 0.0001357  0.00012848 0.00015612]\n",
            " [0.00014853 0.00021806 0.00016353 ... 0.00013725 0.00013268 0.00016034]\n",
            " [0.0001507  0.00016353 0.00023876 ... 0.00015105 0.00013992 0.00016937]\n",
            " ...\n",
            " [0.0001357  0.00013725 0.00015105 ... 0.00019374 0.00012725 0.0001474 ]\n",
            " [0.00012848 0.00013268 0.00013992 ... 0.00012725 0.00018772 0.00014873]\n",
            " [0.00015612 0.00016034 0.00016937 ... 0.0001474  0.00014873 0.00023488]]\n"
          ],
          "name": "stdout"
        }
      ]
    }
  ]
}