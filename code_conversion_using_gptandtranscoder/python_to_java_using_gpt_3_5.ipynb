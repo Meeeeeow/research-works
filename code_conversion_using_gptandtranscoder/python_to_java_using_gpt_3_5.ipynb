{
  "nbformat": 4,
  "nbformat_minor": 0,
  "metadata": {
    "colab": {
      "provenance": []
    },
    "kernelspec": {
      "name": "python3",
      "display_name": "Python 3"
    },
    "language_info": {
      "name": "python"
    }
  },
  "cells": [
    {
      "source": [
        "!pip install sacrebleu"
      ],
      "cell_type": "code",
      "metadata": {
        "colab": {
          "base_uri": "https://localhost:8080/"
        },
        "id": "XzxYdk_pznPc",
        "outputId": "dc219a31-e39d-47ef-b184-0d303b3a3ae5"
      },
      "execution_count": null,
      "outputs": [
        {
          "output_type": "stream",
          "name": "stdout",
          "text": [
            "Collecting sacrebleu\n",
            "  Downloading sacrebleu-2.4.2-py3-none-any.whl (106 kB)\n",
            "\u001b[?25l     \u001b[90m━━━━━━━━━━━━━━━━━━━━━━━━━━━━━━━━━━━━━━━━\u001b[0m \u001b[32m0.0/106.7 kB\u001b[0m \u001b[31m?\u001b[0m eta \u001b[36m-:--:--\u001b[0m\r\u001b[2K     \u001b[91m━━━━━━━━━━━━━━━━━━━━━━━━━━━━━━━━━━━━━━\u001b[0m\u001b[90m╺\u001b[0m\u001b[90m━\u001b[0m \u001b[32m102.4/106.7 kB\u001b[0m \u001b[31m3.0 MB/s\u001b[0m eta \u001b[36m0:00:01\u001b[0m\r\u001b[2K     \u001b[90m━━━━━━━━━━━━━━━━━━━━━━━━━━━━━━━━━━━━━━━━\u001b[0m \u001b[32m106.7/106.7 kB\u001b[0m \u001b[31m2.5 MB/s\u001b[0m eta \u001b[36m0:00:00\u001b[0m\n",
            "\u001b[?25hCollecting portalocker (from sacrebleu)\n",
            "  Downloading portalocker-2.8.2-py3-none-any.whl (17 kB)\n",
            "Requirement already satisfied: regex in /usr/local/lib/python3.10/dist-packages (from sacrebleu) (2023.12.25)\n",
            "Requirement already satisfied: tabulate>=0.8.9 in /usr/local/lib/python3.10/dist-packages (from sacrebleu) (0.9.0)\n",
            "Requirement already satisfied: numpy>=1.17 in /usr/local/lib/python3.10/dist-packages (from sacrebleu) (1.25.2)\n",
            "Collecting colorama (from sacrebleu)\n",
            "  Downloading colorama-0.4.6-py2.py3-none-any.whl (25 kB)\n",
            "Requirement already satisfied: lxml in /usr/local/lib/python3.10/dist-packages (from sacrebleu) (4.9.4)\n",
            "Installing collected packages: portalocker, colorama, sacrebleu\n",
            "Successfully installed colorama-0.4.6 portalocker-2.8.2 sacrebleu-2.4.2\n"
          ]
        }
      ]
    },
    {
      "cell_type": "code",
      "source": [
        "import pandas as pd\n",
        "import typing\n",
        "import sacrebleu\n"
      ],
      "metadata": {
        "id": "JdjRGW-6VuE0"
      },
      "execution_count": null,
      "outputs": []
    },
    {
      "cell_type": "code",
      "source": [
        "# Read the CSV file into a pandas DataFrame\n",
        "df = pd.read_csv('/content/python_to_java_dataset.csv')\n",
        "\n",
        "# Print the first 5 rows of the DataFrame\n",
        "print(df.head())"
      ],
      "metadata": {
        "colab": {
          "base_uri": "https://localhost:8080/"
        },
        "id": "SG1IYYZTVtyD",
        "outputId": "0754c812-fd3e-4c4f-c020-6d6210b4730a"
      },
      "execution_count": null,
      "outputs": [
        {
          "output_type": "stream",
          "name": "stdout",
          "text": [
            "                                         python_code  \\\n",
            "0  \\n    def add_numbers(a, b):\\n        return a...   \n",
            "1  \\n    def multiply_numbers(a, b):\\n        ret...   \n",
            "2  \\n    def factorial(n):\\n        if n == 0:\\n ...   \n",
            "3  \\n    # Find the reverse of a number\\n    def ...   \n",
            "4  \\n    def fibonacci(n):\\n    fib_sequence = [0...   \n",
            "\n",
            "                                           java_code  \\\n",
            "0  \\n    public int addNumbers(int a, int b) {\\n ...   \n",
            "1  \\n    public int multiplyNumbers(int a, int b)...   \n",
            "2  \\n    public int factorial(int n) {\\n        i...   \n",
            "3  \\n    import java.util.ArrayList;\\n    public ...   \n",
            "4  \\n    import java.util.ArrayList;\\n    public ...   \n",
            "\n",
            "                                 generated_java_code  \n",
            "0  \\n    public int addNumbers(int a, int b) {\\n ...  \n",
            "1  public static int multiply_numbers(int a, int ...  \n",
            "2  public static int factorial(int n) {\\n    if (...  \n",
            "3  public static int reverse_number(int n) {\\n   ...  \n",
            "4  import java.util.ArrayList;\\nimport java.util....  \n"
          ]
        }
      ]
    },
    {
      "cell_type": "code",
      "source": [
        "def evaluate_translation(reference: typing.List[str], translation: typing.List[str]) -> float:\n",
        "    bleu = sacrebleu.corpus_bleu(translation, [reference])\n",
        "    return bleu.score"
      ],
      "metadata": {
        "id": "ooEv1EEIVtmv"
      },
      "execution_count": null,
      "outputs": []
    },
    {
      "cell_type": "code",
      "source": [
        "bleu_scores = []\n",
        "for i in range(len(df)):\n",
        "    reference_sentence = df['java_code'][i]\n",
        "    translation_sentence = df['generated_java_code'][i]\n",
        "    bleu_score = evaluate_translation([reference_sentence], [translation_sentence])\n",
        "    bleu_scores.append(bleu_score)\n",
        "average_bleu_score = sum(bleu_scores) / len(bleu_scores)\n"
      ],
      "metadata": {
        "id": "JHznkMYAV2v9"
      },
      "execution_count": null,
      "outputs": []
    },
    {
      "cell_type": "code",
      "source": [
        "print(f\"Average BLEU score: {average_bleu_score}\")\n"
      ],
      "metadata": {
        "colab": {
          "base_uri": "https://localhost:8080/"
        },
        "id": "y6v2O4I1UV5h",
        "outputId": "3072f40e-0d40-4f2c-ca5e-42fbce60e5aa"
      },
      "execution_count": null,
      "outputs": [
        {
          "output_type": "stream",
          "name": "stdout",
          "text": [
            "Average BLEU score: 64.69415521973833\n"
          ]
        }
      ]
    }
  ]
}