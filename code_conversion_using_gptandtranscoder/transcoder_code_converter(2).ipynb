{
  "nbformat": 4,
  "nbformat_minor": 0,
  "metadata": {
    "colab": {
      "provenance": [],
      "gpuType": "T4"
    },
    "kernelspec": {
      "name": "python3",
      "display_name": "Python 3"
    },
    "accelerator": "GPU"
  },
  "cells": [
    {
      "cell_type": "code",
      "metadata": {
        "id": "pafSUiQuOsF9",
        "colab": {
          "base_uri": "https://localhost:8080/"
        },
        "outputId": "9bb8e9ac-dcc0-4767-b083-ed292fb82777"
      },
      "source": [
        "!python --version"
      ],
      "execution_count": null,
      "outputs": [
        {
          "output_type": "stream",
          "name": "stdout",
          "text": [
            "Python 3.10.12\n"
          ]
        }
      ]
    },
    {
      "cell_type": "markdown",
      "metadata": {
        "id": "jLLHsMGHC2HI"
      },
      "source": [
        "## Install all the necessary requirements according to [Transcoder](https://github.com/facebookresearch/TransCoder)"
      ]
    },
    {
      "cell_type": "code",
      "metadata": {
        "id": "FHYOP8iUBWeA",
        "colab": {
          "base_uri": "https://localhost:8080/",
          "height": 314
        },
        "outputId": "5651aee2-b6f7-408c-eeaf-1ab06a3a0eaa"
      },
      "source": [
        "!pip install six\n",
        "!pip install sacrebleu==\"1.2.11\""
      ],
      "execution_count": null,
      "outputs": [
        {
          "output_type": "stream",
          "name": "stdout",
          "text": [
            "Requirement already satisfied: six in /usr/local/lib/python3.10/dist-packages (1.16.0)\n",
            "Collecting sacrebleu==1.2.11\n",
            "  Using cached sacrebleu-1.2.11-py3-none-any.whl\n",
            "Requirement already satisfied: typing in /usr/local/lib/python3.10/dist-packages (from sacrebleu==1.2.11) (3.7.4.3)\n",
            "Installing collected packages: sacrebleu\n",
            "  Attempting uninstall: sacrebleu\n",
            "    Found existing installation: sacrebleu 2.3.1\n",
            "    Uninstalling sacrebleu-2.3.1:\n",
            "      Successfully uninstalled sacrebleu-2.3.1\n",
            "Successfully installed sacrebleu-1.2.11\n"
          ]
        },
        {
          "output_type": "display_data",
          "data": {
            "application/vnd.colab-display-data+json": {
              "pip_warning": {
                "packages": [
                  "sacrebleu"
                ]
              },
              "id": "9fa7fb9369c146858bd60ba01b09ce34"
            }
          },
          "metadata": {}
        }
      ]
    },
    {
      "cell_type": "code",
      "source": [
        "!sudo apt install libclang-dev"
      ],
      "metadata": {
        "colab": {
          "base_uri": "https://localhost:8080/"
        },
        "id": "G-XtSc3VvoAL",
        "outputId": "6b82d92f-5feb-4514-9639-65ffd17c23bb"
      },
      "execution_count": null,
      "outputs": [
        {
          "output_type": "stream",
          "name": "stdout",
          "text": [
            "Reading package lists... Done\n",
            "Building dependency tree... Done\n",
            "Reading state information... Done\n",
            "libclang-dev is already the newest version (1:14.0-55~exp2).\n",
            "0 upgraded, 0 newly installed, 0 to remove and 45 not upgraded.\n"
          ]
        }
      ]
    },
    {
      "cell_type": "code",
      "source": [
        "import os\n",
        "import clang.cindex"
      ],
      "metadata": {
        "id": "qVWSe2_Ev_JN"
      },
      "execution_count": null,
      "outputs": []
    },
    {
      "cell_type": "code",
      "source": [
        "import sacrebleu"
      ],
      "metadata": {
        "id": "ZosxjtNPDaHc",
        "colab": {
          "base_uri": "https://localhost:8080/",
          "height": 1000
        },
        "outputId": "48d99dbb-7a77-42e8-e8f3-5c51bc1210a4"
      },
      "execution_count": null,
      "outputs": [
        {
          "output_type": "error",
          "ename": "ModuleNotFoundError",
          "evalue": "No module named 'sacrebleu'",
          "traceback": [
            "\u001b[0;31m---------------------------------------------------------------------------\u001b[0m",
            "\u001b[0;31mModuleNotFoundError\u001b[0m                       Traceback (most recent call last)",
            "\u001b[0;32m<ipython-input-1-a42160e8fb94>\u001b[0m in \u001b[0;36m<cell line: 1>\u001b[0;34m()\u001b[0m\n\u001b[0;32m----> 1\u001b[0;31m \u001b[0;32mimport\u001b[0m \u001b[0msacrebleu\u001b[0m\u001b[0;34m\u001b[0m\u001b[0;34m\u001b[0m\u001b[0m\n\u001b[0m",
            "\u001b[0;31mModuleNotFoundError\u001b[0m: No module named 'sacrebleu'",
            "",
            "\u001b[0;31m---------------------------------------------------------------------------\u001b[0;32m\nNOTE: If your import is failing due to a missing package, you can\nmanually install dependencies using either !pip or !apt.\n\nTo view examples of installing some common dependencies, click the\n\"Open Examples\" button below.\n\u001b[0;31m---------------------------------------------------------------------------\u001b[0m\n"
          ],
          "errorDetails": {
            "actions": [
              {
                "action": "open_url",
                "actionText": "Open Examples",
                "url": "/notebooks/snippets/importing_libraries.ipynb"
              }
            ]
          }
        }
      ]
    },
    {
      "cell_type": "code",
      "source": [
        "ls -l /usr/lib/ | grep libclang"
      ],
      "metadata": {
        "id": "KrSoHlZFwFt7"
      },
      "execution_count": null,
      "outputs": []
    },
    {
      "cell_type": "code",
      "source": [
        "pwd"
      ],
      "metadata": {
        "colab": {
          "base_uri": "https://localhost:8080/",
          "height": 35
        },
        "id": "XaoV2JvtwWCs",
        "outputId": "2e57a93c-5b79-4588-f465-8091ef6c7af1"
      },
      "execution_count": null,
      "outputs": [
        {
          "output_type": "execute_result",
          "data": {
            "text/plain": [
              "'/content'"
            ],
            "application/vnd.google.colaboratory.intrinsic+json": {
              "type": "string"
            }
          },
          "metadata": {},
          "execution_count": 7
        }
      ]
    },
    {
      "cell_type": "code",
      "source": [
        "ls /usr/lib/x86_64-linux-gnu/"
      ],
      "metadata": {
        "colab": {
          "base_uri": "https://localhost:8080/"
        },
        "id": "p66jy530wY6C",
        "outputId": "ee2d2856-48c4-4d94-cb99-de87b305a53f"
      },
      "execution_count": null,
      "outputs": [
        {
          "output_type": "stream",
          "name": "stdout",
          "text": [
            "\u001b[0m\u001b[01;34matlas\u001b[0m/                                        libnsl.a\n",
            "\u001b[01;34maudit\u001b[0m/                                        \u001b[01;36mlibnsl.so\u001b[0m@\n",
            "\u001b[01;34mavahi\u001b[0m/                                        libnsl.so.1\n",
            "\u001b[01;34mbfd-plugins\u001b[0m/                                  \u001b[01;36mlibnsl.so.2\u001b[0m@\n",
            "\u001b[01;34mblas\u001b[0m/                                         libnsl.so.2.0.1\n",
            "\u001b[01;34mcaca\u001b[0m/                                         libnspr4.so\n",
            "\u001b[01;34mceph\u001b[0m/                                         libnss3.so\n",
            "\u001b[01;34mcmake\u001b[0m/                                        \u001b[01;36mlibnss_compat.so\u001b[0m@\n",
            "crt1.o                                        libnss_compat.so.2\n",
            "crti.o                                        libnss_dns.so.2\n",
            "crtn.o                                        libnss_files.so.2\n",
            "\u001b[01;34mdri\u001b[0m/                                          \u001b[01;36mlibnss_hesiod.so\u001b[0m@\n",
            "\u001b[01;34me2fsprogs\u001b[0m/                                    libnss_hesiod.so.2\n",
            "\u001b[01;34mengines-3\u001b[0m/                                    libnssutil3.so\n",
            "\u001b[01;34mfortran\u001b[0m/                                      libnuma.a\n",
            "\u001b[01;34mgconv\u001b[0m/                                        \u001b[01;36mlibnuma.so\u001b[0m@\n",
            "gcrt1.o                                       \u001b[01;36mlibnuma.so.1\u001b[0m@\n",
            "\u001b[01;34mgdalplugins\u001b[0m/                                  libnuma.so.1.0.0\n",
            "\u001b[01;34mgdcm-3.0\u001b[0m/                                     \u001b[01;36mlibobjc_gc.so.4\u001b[0m@\n",
            "\u001b[01;34mgdk-pixbuf-2.0\u001b[0m/                               libobjc_gc.so.4.0.0\n",
            "\u001b[01;34mgio\u001b[0m/                                          \u001b[01;36mlibobjc.so.4\u001b[0m@\n",
            "\u001b[01;34mgirepository-1.0\u001b[0m/                             libobjc.so.4.0.0\n",
            "\u001b[01;34mglib-2.0\u001b[0m/                                     libocrdma-rdmav34.a\n",
            "\u001b[01;34mgraphviz\u001b[0m/                                     libodbc.a\n",
            "grcrt1.o                                      libodbccr.a\n",
            "\u001b[01;34mgstreamer-1.0\u001b[0m/                                \u001b[01;36mlibodbccr.so\u001b[0m@\n",
            "\u001b[01;34mgstreamer1.0\u001b[0m/                                 \u001b[01;36mlibodbccr.so.2\u001b[0m@\n",
            "\u001b[01;34mgtk-3.0\u001b[0m/                                      libodbccr.so.2.0.0\n",
            "\u001b[01;34mhdf5\u001b[0m/                                         libodbcinst.a\n",
            "\u001b[01;34mhwloc\u001b[0m/                                        \u001b[01;36mlibodbcinst.so\u001b[0m@\n",
            "\u001b[01;34micu\u001b[0m/                                          \u001b[01;36mlibodbcinst.so.2\u001b[0m@\n",
            "\u001b[01;34mkrb5\u001b[0m/                                         libodbcinst.so.2.0.0\n",
            "\u001b[01;34mlapack\u001b[0m/                                       \u001b[01;36mlibodbc.so\u001b[0m@\n",
            "\u001b[01;32mld-linux-x86-64.so.2\u001b[0m*                         \u001b[01;36mlibodbc.so.2\u001b[0m@\n",
            "\u001b[01;34mldscripts\u001b[0m/                                    libodbc.so.2.0.0\n",
            "\u001b[01;36mlibacl.so.1\u001b[0m@                                  libogg.a\n",
            "libacl.so.1.1.2301                            \u001b[01;36mlibogg.so\u001b[0m@\n",
            "libaec.a                                      \u001b[01;36mlibogg.so.0\u001b[0m@\n",
            "\u001b[01;36mlibaec.so\u001b[0m@                                    libogg.so.0.8.5\n",
            "\u001b[01;36mlibaec.so.0\u001b[0m@                                  \u001b[01;36mlibompitrace.so\u001b[0m@\n",
            "libaec.so.0.0.12                              \u001b[01;36mlibompitrace.so.40\u001b[0m@\n",
            "\u001b[01;36mlibaio.so.1\u001b[0m@                                  libompitrace.so.40.30.0\n",
            "libaio.so.1.0.1                               libopcodes-2.38-system.so\n",
            "libanl.a                                      \u001b[01;36mlibopenal.so.1\u001b[0m@\n",
            "\u001b[01;36mlibanl.so\u001b[0m@                                    libopenal.so.1.19.1\n",
            "libanl.so.1                                   \u001b[01;36mlibopenblas.a\u001b[0m@\n",
            "\u001b[01;36mlibann.so.0\u001b[0m@                                  \u001b[01;36mlibopenblas.so\u001b[0m@\n",
            "libann.so.0.0.0                               \u001b[01;36mlibopenblas.so.0\u001b[0m@\n",
            "libaom.a                                      \u001b[01;36mlibOpenCL.so\u001b[0m@\n",
            "\u001b[01;36mlibaom.so\u001b[0m@                                    \u001b[01;36mlibOpenCL.so.1\u001b[0m@\n",
            "\u001b[01;36mlibaom.so.3\u001b[0m@                                  libOpenCL.so.1.0.0\n",
            "libaom.so.3.3.0                               libopencv_alphamat.a\n",
            "\u001b[01;36mlibapparmor.so.1\u001b[0m@                             \u001b[01;36mlibopencv_alphamat.so\u001b[0m@\n",
            "libapparmor.so.1.8.2                          libopencv_alphamat.so.4.5.4d\n",
            "libappstream.so.0.15.2                        \u001b[01;36mlibopencv_alphamat.so.4.5d\u001b[0m@\n",
            "\u001b[01;36mlibappstream.so.4\u001b[0m@                            libopencv_aruco.a\n",
            "\u001b[01;36mlibapt-pkg.so\u001b[0m@                                \u001b[01;36mlibopencv_aruco.so\u001b[0m@\n",
            "\u001b[01;36mlibapt-pkg.so.6.0\u001b[0m@                            libopencv_aruco.so.4.5.4d\n",
            "libapt-pkg.so.6.0.0                           \u001b[01;36mlibopencv_aruco.so.4.5d\u001b[0m@\n",
            "\u001b[01;36mlibapt-private.so.0.0\u001b[0m@                        libopencv_barcode.a\n",
            "libapt-private.so.0.0.0                       \u001b[01;36mlibopencv_barcode.so\u001b[0m@\n",
            "\u001b[01;36mlibarchive.so.13\u001b[0m@                             libopencv_barcode.so.4.5.4d\n",
            "libarchive.so.13.6.0                          \u001b[01;36mlibopencv_barcode.so.4.5d\u001b[0m@\n",
            "libargon2.so.1                                libopencv_bgsegm.a\n",
            "libarpack.a                                   \u001b[01;36mlibopencv_bgsegm.so\u001b[0m@\n",
            "\u001b[01;36mlibarpack.so\u001b[0m@                                 libopencv_bgsegm.so.4.5.4d\n",
            "\u001b[01;36mlibarpack.so.2\u001b[0m@                               \u001b[01;36mlibopencv_bgsegm.so.4.5d\u001b[0m@\n",
            "libarpack.so.2.1.0                            libopencv_bioinspired.a\n",
            "\u001b[01;36mlibasan.so.6\u001b[0m@                                 \u001b[01;36mlibopencv_bioinspired.so\u001b[0m@\n",
            "libasan.so.6.0.0                              libopencv_bioinspired.so.4.5.4d\n",
            "\u001b[01;36mlibasound.so\u001b[0m@                                 \u001b[01;36mlibopencv_bioinspired.so.4.5d\u001b[0m@\n",
            "\u001b[01;36mlibasound.so.2\u001b[0m@                               libopencv_calib3d.a\n",
            "libasound.so.2.0.0                            \u001b[01;36mlibopencv_calib3d.so\u001b[0m@\n",
            "\u001b[01;36mlibass.so.9\u001b[0m@                                  libopencv_calib3d.so.4.5.4d\n",
            "libass.so.9.1.3                               \u001b[01;36mlibopencv_calib3d.so.4.5d\u001b[0m@\n",
            "\u001b[01;36mlibassuan.so.0\u001b[0m@                               libopencv_ccalib.a\n",
            "libassuan.so.0.8.5                            \u001b[01;36mlibopencv_ccalib.so\u001b[0m@\n",
            "\u001b[01;36mlibasyncns.so.0\u001b[0m@                              libopencv_ccalib.so.4.5.4d\n",
            "libasyncns.so.0.3.1                           \u001b[01;36mlibopencv_ccalib.so.4.5d\u001b[0m@\n",
            "\u001b[01;36mlibatk-1.0.so.0\u001b[0m@                              libopencv_core.a\n",
            "libatk-1.0.so.0.23609.1                       \u001b[01;36mlibopencv_core.so\u001b[0m@\n",
            "\u001b[01;36mlibatk-bridge-2.0.so.0\u001b[0m@                       libopencv_core.so.4.5.4d\n",
            "libatk-bridge-2.0.so.0.0.0                    \u001b[01;36mlibopencv_core.so.4.5d\u001b[0m@\n",
            "libatlas.a                                    libopencv_datasets.a\n",
            "\u001b[01;36mlibatlas.so\u001b[0m@                                  \u001b[01;36mlibopencv_datasets.so\u001b[0m@\n",
            "\u001b[01;36mlibatlas.so.3\u001b[0m@                                libopencv_datasets.so.4.5.4d\n",
            "libatlas.so.3.10.3                            \u001b[01;36mlibopencv_datasets.so.4.5d\u001b[0m@\n",
            "\u001b[01;36mlibatomic.so.1\u001b[0m@                               libopencv_dnn.a\n",
            "libatomic.so.1.2.0                            libopencv_dnn_objdetect.a\n",
            "\u001b[01;36mlibatspi.so.0\u001b[0m@                                \u001b[01;36mlibopencv_dnn_objdetect.so\u001b[0m@\n",
            "libatspi.so.0.0.1                             libopencv_dnn_objdetect.so.4.5.4d\n",
            "\u001b[01;36mlibattr.so.1\u001b[0m@                                 \u001b[01;36mlibopencv_dnn_objdetect.so.4.5d\u001b[0m@\n",
            "libattr.so.1.1.2501                           \u001b[01;36mlibopencv_dnn.so\u001b[0m@\n",
            "\u001b[01;36mlibaudit.so.1\u001b[0m@                                libopencv_dnn.so.4.5.4d\n",
            "libaudit.so.1.0.0                             \u001b[01;36mlibopencv_dnn.so.4.5d\u001b[0m@\n",
            "\u001b[01;36mlibavahi-client.so.3\u001b[0m@                         libopencv_dnn_superres.a\n",
            "libavahi-client.so.3.2.9                      \u001b[01;36mlibopencv_dnn_superres.so\u001b[0m@\n",
            "\u001b[01;36mlibavahi-common.so.3\u001b[0m@                         libopencv_dnn_superres.so.4.5.4d\n",
            "libavahi-common.so.3.5.4                      \u001b[01;36mlibopencv_dnn_superres.so.4.5d\u001b[0m@\n",
            "\u001b[01;36mlibavc1394.so.0\u001b[0m@                              libopencv_dpm.a\n",
            "libavc1394.so.0.3.0                           \u001b[01;36mlibopencv_dpm.so\u001b[0m@\n",
            "libavcodec.a                                  libopencv_dpm.so.4.5.4d\n",
            "\u001b[01;36mlibavcodec.so\u001b[0m@                                \u001b[01;36mlibopencv_dpm.so.4.5d\u001b[0m@\n",
            "\u001b[01;36mlibavcodec.so.58\u001b[0m@                             libopencv_face.a\n",
            "libavcodec.so.58.134.100                      \u001b[01;36mlibopencv_face.so\u001b[0m@\n",
            "\u001b[01;36mlibavdevice.so.58\u001b[0m@                            libopencv_face.so.4.5.4d\n",
            "libavdevice.so.58.13.100                      \u001b[01;36mlibopencv_face.so.4.5d\u001b[0m@\n",
            "\u001b[01;36mlibavfilter.so.7\u001b[0m@                             libopencv_features2d.a\n",
            "libavfilter.so.7.110.100                      \u001b[01;36mlibopencv_features2d.so\u001b[0m@\n",
            "libavformat.a                                 libopencv_features2d.so.4.5.4d\n",
            "\u001b[01;36mlibavformat.so\u001b[0m@                               \u001b[01;36mlibopencv_features2d.so.4.5d\u001b[0m@\n",
            "\u001b[01;36mlibavformat.so.58\u001b[0m@                            libopencv_flann.a\n",
            "libavformat.so.58.76.100                      \u001b[01;36mlibopencv_flann.so\u001b[0m@\n",
            "libavutil.a                                   libopencv_flann.so.4.5.4d\n",
            "\u001b[01;36mlibavutil.so\u001b[0m@                                 \u001b[01;36mlibopencv_flann.so.4.5d\u001b[0m@\n",
            "\u001b[01;36mlibavutil.so.56\u001b[0m@                              libopencv_freetype.a\n",
            "libavutil.so.56.70.100                        \u001b[01;36mlibopencv_freetype.so\u001b[0m@\n",
            "libbfd-2.38-system.so                         libopencv_freetype.so.4.5.4d\n",
            "\u001b[01;36mlibblas64.so\u001b[0m@                                 \u001b[01;36mlibopencv_freetype.so.4.5d\u001b[0m@\n",
            "\u001b[01;36mlibblas64.so.3\u001b[0m@                               libopencv_fuzzy.a\n",
            "\u001b[01;36mlibblas.a\u001b[0m@                                    \u001b[01;36mlibopencv_fuzzy.so\u001b[0m@\n",
            "\u001b[01;36mlibblas.so\u001b[0m@                                   libopencv_fuzzy.so.4.5.4d\n",
            "\u001b[01;36mlibblas.so.3\u001b[0m@                                 \u001b[01;36mlibopencv_fuzzy.so.4.5d\u001b[0m@\n",
            "\u001b[01;36mlibblkid.so.1\u001b[0m@                                libopencv_hdf.a\n",
            "libblkid.so.1.1.0                             \u001b[01;36mlibopencv_hdf.so\u001b[0m@\n",
            "libBlocksRuntime.a                            libopencv_hdf.so.4.5.4d\n",
            "\u001b[01;36mlibBlocksRuntime.so\u001b[0m@                          \u001b[01;36mlibopencv_hdf.so.4.5d\u001b[0m@\n",
            "\u001b[01;36mlibBlocksRuntime.so.0\u001b[0m@                        libopencv_hfs.a\n",
            "libBlocksRuntime.so.0.0.0                     \u001b[01;36mlibopencv_hfs.so\u001b[0m@\n",
            "libblosc.a                                    libopencv_hfs.so.4.5.4d\n",
            "\u001b[01;36mlibblosc.so\u001b[0m@                                  \u001b[01;36mlibopencv_hfs.so.4.5d\u001b[0m@\n",
            "\u001b[01;36mlibblosc.so.1\u001b[0m@                                libopencv_highgui.a\n",
            "libblosc.so.1.21.1                            \u001b[01;36mlibopencv_highgui.so\u001b[0m@\n",
            "\u001b[01;36mlibbluray.so.2\u001b[0m@                               libopencv_highgui.so.4.5.4d\n",
            "libbluray.so.2.4.1                            \u001b[01;36mlibopencv_highgui.so.4.5d\u001b[0m@\n",
            "libbnxt_re-rdmav34.a                          libopencv_imgcodecs.a\n",
            "libboost_atomic.a                             \u001b[01;36mlibopencv_imgcodecs.so\u001b[0m@\n",
            "\u001b[01;36mlibboost_atomic.so\u001b[0m@                           libopencv_imgcodecs.so.4.5.4d\n",
            "libboost_atomic.so.1.74.0                     \u001b[01;36mlibopencv_imgcodecs.so.4.5d\u001b[0m@\n",
            "libboost_chrono.a                             libopencv_img_hash.a\n",
            "\u001b[01;36mlibboost_chrono.so\u001b[0m@                           \u001b[01;36mlibopencv_img_hash.so\u001b[0m@\n",
            "libboost_chrono.so.1.74.0                     libopencv_img_hash.so.4.5.4d\n",
            "libboost_container.a                          \u001b[01;36mlibopencv_img_hash.so.4.5d\u001b[0m@\n",
            "\u001b[01;36mlibboost_container.so\u001b[0m@                        libopencv_imgproc.a\n",
            "libboost_container.so.1.74.0                  \u001b[01;36mlibopencv_imgproc.so\u001b[0m@\n",
            "libboost_context.a                            libopencv_imgproc.so.4.5.4d\n",
            "\u001b[01;36mlibboost_context.so\u001b[0m@                          \u001b[01;36mlibopencv_imgproc.so.4.5d\u001b[0m@\n",
            "libboost_context.so.1.74.0                    libopencv_intensity_transform.a\n",
            "libboost_coroutine.a                          \u001b[01;36mlibopencv_intensity_transform.so\u001b[0m@\n",
            "\u001b[01;36mlibboost_coroutine.so\u001b[0m@                        libopencv_intensity_transform.so.4.5.4d\n",
            "libboost_coroutine.so.1.74.0                  \u001b[01;36mlibopencv_intensity_transform.so.4.5d\u001b[0m@\n",
            "libboost_date_time.a                          libopencv_line_descriptor.a\n",
            "\u001b[01;36mlibboost_date_time.so\u001b[0m@                        \u001b[01;36mlibopencv_line_descriptor.so\u001b[0m@\n",
            "libboost_date_time.so.1.74.0                  libopencv_line_descriptor.so.4.5.4d\n",
            "libboost_exception.a                          \u001b[01;36mlibopencv_line_descriptor.so.4.5d\u001b[0m@\n",
            "libboost_fiber.a                              libopencv_mcc.a\n",
            "\u001b[01;36mlibboost_fiber.so\u001b[0m@                            \u001b[01;36mlibopencv_mcc.so\u001b[0m@\n",
            "libboost_fiber.so.1.74.0                      libopencv_mcc.so.4.5.4d\n",
            "libboost_filesystem.a                         \u001b[01;36mlibopencv_mcc.so.4.5d\u001b[0m@\n",
            "\u001b[01;36mlibboost_filesystem.so\u001b[0m@                       libopencv_ml.a\n",
            "libboost_filesystem.so.1.74.0                 \u001b[01;36mlibopencv_ml.so\u001b[0m@\n",
            "libboost_graph.a                              libopencv_ml.so.4.5.4d\n",
            "libboost_graph_parallel.a                     \u001b[01;36mlibopencv_ml.so.4.5d\u001b[0m@\n",
            "\u001b[01;36mlibboost_graph_parallel.so\u001b[0m@                   libopencv_objdetect.a\n",
            "libboost_graph_parallel.so.1.74.0             \u001b[01;36mlibopencv_objdetect.so\u001b[0m@\n",
            "\u001b[01;36mlibboost_graph.so\u001b[0m@                            libopencv_objdetect.so.4.5.4d\n",
            "libboost_graph.so.1.74.0                      \u001b[01;36mlibopencv_objdetect.so.4.5d\u001b[0m@\n",
            "libboost_iostreams.a                          libopencv_optflow.a\n",
            "\u001b[01;36mlibboost_iostreams.so\u001b[0m@                        \u001b[01;36mlibopencv_optflow.so\u001b[0m@\n",
            "libboost_iostreams.so.1.74.0                  libopencv_optflow.so.4.5.4d\n",
            "libboost_locale.a                             \u001b[01;36mlibopencv_optflow.so.4.5d\u001b[0m@\n",
            "\u001b[01;36mlibboost_locale.so\u001b[0m@                           libopencv_phase_unwrapping.a\n",
            "libboost_locale.so.1.74.0                     \u001b[01;36mlibopencv_phase_unwrapping.so\u001b[0m@\n",
            "libboost_log.a                                libopencv_phase_unwrapping.so.4.5.4d\n",
            "libboost_log_setup.a                          \u001b[01;36mlibopencv_phase_unwrapping.so.4.5d\u001b[0m@\n",
            "\u001b[01;36mlibboost_log_setup.so\u001b[0m@                        libopencv_photo.a\n",
            "libboost_log_setup.so.1.74.0                  \u001b[01;36mlibopencv_photo.so\u001b[0m@\n",
            "\u001b[01;36mlibboost_log.so\u001b[0m@                              libopencv_photo.so.4.5.4d\n",
            "libboost_log.so.1.74.0                        \u001b[01;36mlibopencv_photo.so.4.5d\u001b[0m@\n",
            "libboost_math_c99.a                           libopencv_plot.a\n",
            "libboost_math_c99f.a                          \u001b[01;36mlibopencv_plot.so\u001b[0m@\n",
            "\u001b[01;36mlibboost_math_c99f.so\u001b[0m@                        libopencv_plot.so.4.5.4d\n",
            "libboost_math_c99f.so.1.74.0                  \u001b[01;36mlibopencv_plot.so.4.5d\u001b[0m@\n",
            "libboost_math_c99l.a                          libopencv_quality.a\n",
            "\u001b[01;36mlibboost_math_c99l.so\u001b[0m@                        \u001b[01;36mlibopencv_quality.so\u001b[0m@\n",
            "libboost_math_c99l.so.1.74.0                  libopencv_quality.so.4.5.4d\n",
            "\u001b[01;36mlibboost_math_c99.so\u001b[0m@                         \u001b[01;36mlibopencv_quality.so.4.5d\u001b[0m@\n",
            "libboost_math_c99.so.1.74.0                   libopencv_rapid.a\n",
            "libboost_math_tr1.a                           \u001b[01;36mlibopencv_rapid.so\u001b[0m@\n",
            "libboost_math_tr1f.a                          libopencv_rapid.so.4.5.4d\n",
            "\u001b[01;36mlibboost_math_tr1f.so\u001b[0m@                        \u001b[01;36mlibopencv_rapid.so.4.5d\u001b[0m@\n",
            "libboost_math_tr1f.so.1.74.0                  libopencv_reg.a\n",
            "libboost_math_tr1l.a                          \u001b[01;36mlibopencv_reg.so\u001b[0m@\n",
            "\u001b[01;36mlibboost_math_tr1l.so\u001b[0m@                        libopencv_reg.so.4.5.4d\n",
            "libboost_math_tr1l.so.1.74.0                  \u001b[01;36mlibopencv_reg.so.4.5d\u001b[0m@\n",
            "\u001b[01;36mlibboost_math_tr1.so\u001b[0m@                         libopencv_rgbd.a\n",
            "libboost_math_tr1.so.1.74.0                   \u001b[01;36mlibopencv_rgbd.so\u001b[0m@\n",
            "libboost_mpi.a                                libopencv_rgbd.so.4.5.4d\n",
            "libboost_mpi_python310.a                      \u001b[01;36mlibopencv_rgbd.so.4.5d\u001b[0m@\n",
            "\u001b[01;36mlibboost_mpi_python310.so\u001b[0m@                    libopencv_saliency.a\n",
            "libboost_mpi_python310.so.1.74.0              \u001b[01;36mlibopencv_saliency.so\u001b[0m@\n",
            "\u001b[01;36mlibboost_mpi.so\u001b[0m@                              libopencv_saliency.so.4.5.4d\n",
            "libboost_mpi.so.1.74.0                        \u001b[01;36mlibopencv_saliency.so.4.5d\u001b[0m@\n",
            "libboost_nowide.a                             libopencv_shape.a\n",
            "\u001b[01;36mlibboost_nowide.so\u001b[0m@                           \u001b[01;36mlibopencv_shape.so\u001b[0m@\n",
            "libboost_nowide.so.1.74.0                     libopencv_shape.so.4.5.4d\n",
            "libboost_numpy310.a                           \u001b[01;36mlibopencv_shape.so.4.5d\u001b[0m@\n",
            "\u001b[01;36mlibboost_numpy310.so\u001b[0m@                         libopencv_stereo.a\n",
            "libboost_numpy310.so.1.74.0                   \u001b[01;36mlibopencv_stereo.so\u001b[0m@\n",
            "libboost_prg_exec_monitor.a                   libopencv_stereo.so.4.5.4d\n",
            "\u001b[01;36mlibboost_prg_exec_monitor.so\u001b[0m@                 \u001b[01;36mlibopencv_stereo.so.4.5d\u001b[0m@\n",
            "libboost_prg_exec_monitor.so.1.74.0           libopencv_stitching.a\n",
            "libboost_program_options.a                    \u001b[01;36mlibopencv_stitching.so\u001b[0m@\n",
            "\u001b[01;36mlibboost_program_options.so\u001b[0m@                  libopencv_stitching.so.4.5.4d\n",
            "libboost_program_options.so.1.74.0            \u001b[01;36mlibopencv_stitching.so.4.5d\u001b[0m@\n",
            "libboost_python310.a                          libopencv_structured_light.a\n",
            "\u001b[01;36mlibboost_python310.so\u001b[0m@                        \u001b[01;36mlibopencv_structured_light.so\u001b[0m@\n",
            "libboost_python310.so.1.74.0                  libopencv_structured_light.so.4.5.4d\n",
            "libboost_random.a                             \u001b[01;36mlibopencv_structured_light.so.4.5d\u001b[0m@\n",
            "\u001b[01;36mlibboost_random.so\u001b[0m@                           libopencv_superres.a\n",
            "libboost_random.so.1.74.0                     \u001b[01;36mlibopencv_superres.so\u001b[0m@\n",
            "libboost_regex.a                              libopencv_superres.so.4.5.4d\n",
            "\u001b[01;36mlibboost_regex.so\u001b[0m@                            \u001b[01;36mlibopencv_superres.so.4.5d\u001b[0m@\n",
            "libboost_regex.so.1.74.0                      libopencv_surface_matching.a\n",
            "libboost_serialization.a                      \u001b[01;36mlibopencv_surface_matching.so\u001b[0m@\n",
            "\u001b[01;36mlibboost_serialization.so\u001b[0m@                    libopencv_surface_matching.so.4.5.4d\n",
            "libboost_serialization.so.1.74.0              \u001b[01;36mlibopencv_surface_matching.so.4.5d\u001b[0m@\n",
            "libboost_stacktrace_addr2line.a               libopencv_text.a\n",
            "\u001b[01;36mlibboost_stacktrace_addr2line.so\u001b[0m@             \u001b[01;36mlibopencv_text.so\u001b[0m@\n",
            "libboost_stacktrace_addr2line.so.1.74.0       libopencv_text.so.4.5.4d\n",
            "libboost_stacktrace_backtrace.a               \u001b[01;36mlibopencv_text.so.4.5d\u001b[0m@\n",
            "\u001b[01;36mlibboost_stacktrace_backtrace.so\u001b[0m@             libopencv_tracking.a\n",
            "libboost_stacktrace_backtrace.so.1.74.0       \u001b[01;36mlibopencv_tracking.so\u001b[0m@\n",
            "libboost_stacktrace_basic.a                   libopencv_tracking.so.4.5.4d\n",
            "\u001b[01;36mlibboost_stacktrace_basic.so\u001b[0m@                 \u001b[01;36mlibopencv_tracking.so.4.5d\u001b[0m@\n",
            "libboost_stacktrace_basic.so.1.74.0           libopencv_video.a\n",
            "libboost_stacktrace_noop.a                    libopencv_videoio.a\n",
            "\u001b[01;36mlibboost_stacktrace_noop.so\u001b[0m@                  \u001b[01;36mlibopencv_videoio.so\u001b[0m@\n",
            "libboost_stacktrace_noop.so.1.74.0            libopencv_videoio.so.4.5.4d\n",
            "libboost_system.a                             \u001b[01;36mlibopencv_videoio.so.4.5d\u001b[0m@\n",
            "\u001b[01;36mlibboost_system.so\u001b[0m@                           \u001b[01;36mlibopencv_video.so\u001b[0m@\n",
            "libboost_system.so.1.74.0                     libopencv_video.so.4.5.4d\n",
            "libboost_test_exec_monitor.a                  \u001b[01;36mlibopencv_video.so.4.5d\u001b[0m@\n",
            "libboost_thread.a                             libopencv_videostab.a\n",
            "\u001b[01;36mlibboost_thread.so\u001b[0m@                           \u001b[01;36mlibopencv_videostab.so\u001b[0m@\n",
            "libboost_thread.so.1.74.0                     libopencv_videostab.so.4.5.4d\n",
            "libboost_timer.a                              \u001b[01;36mlibopencv_videostab.so.4.5d\u001b[0m@\n",
            "\u001b[01;36mlibboost_timer.so\u001b[0m@                            libopencv_viz.a\n",
            "libboost_timer.so.1.74.0                      \u001b[01;36mlibopencv_viz.so\u001b[0m@\n",
            "libboost_type_erasure.a                       libopencv_viz.so.4.5.4d\n",
            "\u001b[01;36mlibboost_type_erasure.so\u001b[0m@                     \u001b[01;36mlibopencv_viz.so.4.5d\u001b[0m@\n",
            "libboost_type_erasure.so.1.74.0               libopencv_wechat_qrcode.a\n",
            "libboost_unit_test_framework.a                \u001b[01;36mlibopencv_wechat_qrcode.so\u001b[0m@\n",
            "\u001b[01;36mlibboost_unit_test_framework.so\u001b[0m@              libopencv_wechat_qrcode.so.4.5.4d\n",
            "libboost_unit_test_framework.so.1.74.0        \u001b[01;36mlibopencv_wechat_qrcode.so.4.5d\u001b[0m@\n",
            "libboost_wave.a                               libopencv_ximgproc.a\n",
            "\u001b[01;36mlibboost_wave.so\u001b[0m@                             \u001b[01;36mlibopencv_ximgproc.so\u001b[0m@\n",
            "libboost_wave.so.1.74.0                       libopencv_ximgproc.so.4.5.4d\n",
            "libboost_wserialization.a                     \u001b[01;36mlibopencv_ximgproc.so.4.5d\u001b[0m@\n",
            "\u001b[01;36mlibboost_wserialization.so\u001b[0m@                   libopencv_xobjdetect.a\n",
            "libboost_wserialization.so.1.74.0             \u001b[01;36mlibopencv_xobjdetect.so\u001b[0m@\n",
            "\u001b[01;36mlibbpf.so.0\u001b[0m@                                  libopencv_xobjdetect.so.4.5.4d\n",
            "libbpf.so.0.5.0                               \u001b[01;36mlibopencv_xobjdetect.so.4.5d\u001b[0m@\n",
            "libBrokenLocale.a                             libopencv_xphoto.a\n",
            "\u001b[01;36mlibBrokenLocale.so\u001b[0m@                           \u001b[01;36mlibopencv_xphoto.so\u001b[0m@\n",
            "libBrokenLocale.so.1                          libopencv_xphoto.so.4.5.4d\n",
            "libbrotlicommon.a                             \u001b[01;36mlibopencv_xphoto.so.4.5d\u001b[0m@\n",
            "\u001b[01;36mlibbrotlicommon.so\u001b[0m@                           \u001b[01;36mlibOpenGL.so.0\u001b[0m@\n",
            "\u001b[01;36mlibbrotlicommon.so.1\u001b[0m@                         libOpenGL.so.0.0.0\n",
            "libbrotlicommon.so.1.0.9                      libopenjp2.a\n",
            "libbrotlidec.a                                \u001b[01;36mlibopenjp2.so\u001b[0m@\n",
            "\u001b[01;36mlibbrotlidec.so\u001b[0m@                              libopenjp2.so.2.4.0\n",
            "\u001b[01;36mlibbrotlidec.so.1\u001b[0m@                            \u001b[01;36mlibopenjp2.so.7\u001b[0m@\n",
            "libbrotlidec.so.1.0.9                         libopenjpip_server.a\n",
            "libbrotlienc.a                                \u001b[01;36mlibopenmpt.so.0\u001b[0m@\n",
            "\u001b[01;36mlibbrotlienc.so\u001b[0m@                              libopenmpt.so.0.3.3\n",
            "\u001b[01;36mlibbrotlienc.so.1\u001b[0m@                            \u001b[01;36mlibopen-pal.so\u001b[0m@\n",
            "libbrotlienc.so.1.0.9                         \u001b[01;36mlibopen-pal.so.40\u001b[0m@\n",
            "\u001b[01;36mlibbs2b.so.0\u001b[0m@                                 libopen-pal.so.40.30.2\n",
            "libbs2b.so.0.0.0                              \u001b[01;36mlibopen-rte.so\u001b[0m@\n",
            "libbsd.a                                      \u001b[01;36mlibopen-rte.so.40\u001b[0m@\n",
            "libbsd-ctor.a                                 libopen-rte.so.40.30.2\n",
            "libbsd.so                                     libopus.a\n",
            "\u001b[01;36mlibbsd.so.0\u001b[0m@                                  \u001b[01;36mlibopus.so\u001b[0m@\n",
            "libbsd.so.0.11.5                              \u001b[01;36mlibopus.so.0\u001b[0m@\n",
            "libbz2.a                                      libopus.so.0.8.0\n",
            "\u001b[01;36mlibbz2.so\u001b[0m@                                    \u001b[01;36mliborc-0.4.so.0\u001b[0m@\n",
            "\u001b[01;36mlibbz2.so.1\u001b[0m@                                  liborc-0.4.so.0.32.0\n",
            "\u001b[01;36mlibbz2.so.1.0\u001b[0m@                                \u001b[01;36mliborc-test-0.4.so.0\u001b[0m@\n",
            "libbz2.so.1.0.4                               liborc-test-0.4.so.0.32.0\n",
            "libc.a                                        \u001b[01;36mliboshmem.so\u001b[0m@\n",
            "\u001b[01;36mlibcaca++.so.0\u001b[0m@                               \u001b[01;36mliboshmem.so.40\u001b[0m@\n",
            "\u001b[01;36mlibcaca.so.0\u001b[0m@                                 liboshmem.so.40.30.1\n",
            "libcaca++.so.0.99.19                          \u001b[01;36mlibp11-kit.so.0\u001b[0m@\n",
            "libcaca.so.0.99.19                            libp11-kit.so.0.3.0\n",
            "\u001b[01;36mlibcairo-gobject.so.2\u001b[0m@                        \u001b[01;36mlibpackagekit-glib2.so.18\u001b[0m@\n",
            "libcairo-gobject.so.2.11600.0                 libpackagekit-glib2.so.18.1.3\n",
            "\u001b[01;36mlibcairo.so.2\u001b[0m@                                \u001b[01;36mlibpamc.so.0\u001b[0m@\n",
            "libcairo.so.2.11600.0                         libpamc.so.0.82.1\n",
            "\u001b[01;36mlibcap-ng.so.0\u001b[0m@                               \u001b[01;36mlibpam_misc.so.0\u001b[0m@\n",
            "libcap-ng.so.0.0.0                            libpam_misc.so.0.82.1\n",
            "\u001b[01;36mlibcap.so.2\u001b[0m@                                  \u001b[01;36mlibpam.so.0\u001b[0m@\n",
            "libcap.so.2.44                                libpam.so.0.85.1\n",
            "libcblas.a                                    libpanel.a\n",
            "\u001b[01;36mlibcblas.so\u001b[0m@                                  \u001b[01;36mlibpanel.so\u001b[0m@\n",
            "\u001b[01;36mlibcblas.so.3\u001b[0m@                                \u001b[01;36mlibpanel.so.6\u001b[0m@\n",
            "libcblas.so.3.10.3                            libpanel.so.6.3\n",
            "\u001b[01;36mlibcbor.so.0.8\u001b[0m@                               libpanelw.a\n",
            "libcbor.so.0.8.0                              \u001b[01;36mlibpanelw.so\u001b[0m@\n",
            "\u001b[01;36mlibcc1.so.0\u001b[0m@                                  \u001b[01;36mlibpanelw.so.6\u001b[0m@\n",
            "libcc1.so.0.0.0                               libpanelw.so.6.3\n",
            "\u001b[01;36mlibcdio_cdda.so.2\u001b[0m@                            \u001b[01;36mlibpango-1.0.so.0\u001b[0m@\n",
            "libcdio_cdda.so.2.0.0                         libpango-1.0.so.0.5000.6\n",
            "\u001b[01;36mlibcdio_paranoia.so.2\u001b[0m@                        \u001b[01;36mlibpangocairo-1.0.so.0\u001b[0m@\n",
            "libcdio_paranoia.so.2.0.0                     libpangocairo-1.0.so.0.5000.6\n",
            "\u001b[01;36mlibcdio.so.19\u001b[0m@                                \u001b[01;36mlibpangoft2-1.0.so.0\u001b[0m@\n",
            "libcdio.so.19.0.0                             libpangoft2-1.0.so.0.5000.6\n",
            "\u001b[01;36mlibcdt.so.5\u001b[0m@                                  \u001b[01;36mlibpaper.so.1\u001b[0m@\n",
            "libcdt.so.5.0.0                               libpaper.so.1.1.2\n",
            "libcfitsio.a                                  \u001b[01;36mlibpathplan.so.4\u001b[0m@\n",
            "\u001b[01;36mlibcfitsio.so\u001b[0m@                                libpathplan.so.4.0.0\n",
            "\u001b[01;36mlibcfitsio.so.9\u001b[0m@                              \u001b[01;36mlibpciaccess.so.0\u001b[0m@\n",
            "libcfitsio.so.9.4.0.0                         libpciaccess.so.0.11.1\n",
            "\u001b[01;36mlibcgraph.so.6\u001b[0m@                               libpcprofile.so\n",
            "libcgraph.so.6.0.0                            libpcre16.a\n",
            "\u001b[01;36mlibcharls.so.2\u001b[0m@                               \u001b[01;36mlibpcre16.so\u001b[0m@\n",
            "\u001b[01;36mlibCharLS.so.2\u001b[0m@                               \u001b[01;36mlibpcre16.so.3\u001b[0m@\n",
            "libcharls.so.2.3.4                            libpcre16.so.3.13.3\n",
            "\u001b[01;36mlibchromaprint.so.1\u001b[0m@                          libpcre2-16.a\n",
            "libchromaprint.so.1.5.1                       \u001b[01;36mlibpcre2-16.so\u001b[0m@\n",
            "\u001b[01;36mlibclang-14.so\u001b[0m@                               \u001b[01;36mlibpcre2-16.so.0\u001b[0m@\n",
            "\u001b[01;36mlibclang-14.so.1\u001b[0m@                             libpcre2-16.so.0.10.4\n",
            "\u001b[01;36mlibclang-14.so.13\u001b[0m@                            libpcre2-32.a\n",
            "libclang-14.so.14.0.0                         \u001b[01;36mlibpcre2-32.so\u001b[0m@\n",
            "\u001b[01;36mlibclang-cpp.so.14\u001b[0m@                           \u001b[01;36mlibpcre2-32.so.0\u001b[0m@\n",
            "\u001b[01;36mlibc_malloc_debug.so\u001b[0m@                         libpcre2-32.so.0.10.4\n",
            "libc_malloc_debug.so.0                        libpcre2-8.a\n",
            "libcmark-gfm-extensions.so.0.29.0.gfm.3       \u001b[01;36mlibpcre2-8.so\u001b[0m@\n",
            "libcmark-gfm.so.0.29.0.gfm.3                  \u001b[01;36mlibpcre2-8.so.0\u001b[0m@\n",
            "libc_nonshared.a                              libpcre2-8.so.0.10.4\n",
            "libcodec2.so.1.0                              libpcre2-posix.a\n",
            "\u001b[01;36mlibcolordprivate.so.2\u001b[0m@                        \u001b[01;36mlibpcre2-posix.so\u001b[0m@\n",
            "libcolordprivate.so.2.0.5                     \u001b[01;36mlibpcre2-posix.so.3\u001b[0m@\n",
            "\u001b[01;36mlibcolord.so.2\u001b[0m@                               libpcre2-posix.so.3.0.1\n",
            "libcolord.so.2.0.5                            libpcre32.a\n",
            "libcom_err.a                                  \u001b[01;36mlibpcre32.so\u001b[0m@\n",
            "\u001b[01;36mlibcom_err.so\u001b[0m@                                \u001b[01;36mlibpcre32.so.3\u001b[0m@\n",
            "\u001b[01;36mlibcom_err.so.2\u001b[0m@                              libpcre32.so.3.13.3\n",
            "libcom_err.so.2.1                             libpcre.a\n",
            "libcrypt.a                                    libpcrecpp.a\n",
            "libcrypto.a                                   \u001b[01;36mlibpcrecpp.so\u001b[0m@\n",
            "\u001b[01;36mlibcrypto.so\u001b[0m@                                 \u001b[01;36mlibpcrecpp.so.0\u001b[0m@\n",
            "libcrypto.so.3                                libpcrecpp.so.0.0.1\n",
            "\u001b[01;36mlibcryptsetup.so.12\u001b[0m@                          libpcreposix.a\n",
            "libcryptsetup.so.12.7.0                       \u001b[01;36mlibpcreposix.so\u001b[0m@\n",
            "\u001b[01;36mlibcrypt.so\u001b[0m@                                  \u001b[01;36mlibpcreposix.so.3\u001b[0m@\n",
            "\u001b[01;36mlibcrypt.so.1\u001b[0m@                                libpcreposix.so.3.13.3\n",
            "libcrypt.so.1.1.0                             \u001b[01;36mlibpcre.so\u001b[0m@\n",
            "libc.so                                       \u001b[01;36mlibpcre.so.3\u001b[0m@\n",
            "\u001b[01;32mlibc.so.6\u001b[0m*                                    libpcre.so.3.13.3\n",
            "\u001b[01;36mlibctf-nobfd.so.0\u001b[0m@                            \u001b[01;36mlibpcsclite.so.1\u001b[0m@\n",
            "libctf-nobfd.so.0.0.0                         libpcsclite.so.1.0.0\n",
            "\u001b[01;36mlibctf.so.0\u001b[0m@                                  \u001b[01;36mlibperl.so.5.34\u001b[0m@\n",
            "libctf.so.0.0.0                               libperl.so.5.34.0\n",
            "\u001b[01;36mlibcudnn_adv_infer.so\u001b[0m@                        \u001b[01;36mlibpgm-5.3.so\u001b[0m@\n",
            "\u001b[01;36mlibcudnn_adv_infer.so.8\u001b[0m@                      \u001b[01;36mlibpgm-5.3.so.0\u001b[0m@\n",
            "libcudnn_adv_infer.so.8.9.6                   libpgm-5.3.so.0.0.128\n",
            "libcudnn_adv_infer_static.a                   libpgm.a\n",
            "\u001b[01;36mlibcudnn_adv_infer_static_v8.a\u001b[0m@               libpgm.la\n",
            "\u001b[01;36mlibcudnn_adv_train.so\u001b[0m@                        \u001b[01;36mlibpgm.so\u001b[0m@\n",
            "\u001b[01;36mlibcudnn_adv_train.so.8\u001b[0m@                      \u001b[01;36mlibpipeline.so.1\u001b[0m@\n",
            "libcudnn_adv_train.so.8.9.6                   libpipeline.so.1.5.5\n",
            "libcudnn_adv_train_static.a                   \u001b[01;36mlibpixman-1.so.0\u001b[0m@\n",
            "\u001b[01;36mlibcudnn_adv_train_static_v8.a\u001b[0m@               libpixman-1.so.0.40.0\n",
            "\u001b[01;36mlibcudnn_cnn_infer.so\u001b[0m@                        libplc4.so\n",
            "\u001b[01;36mlibcudnn_cnn_infer.so.8\u001b[0m@                      libplds4.so\n",
            "libcudnn_cnn_infer.so.8.9.6                   \u001b[01;36mlibpmemblk.so.1\u001b[0m@\n",
            "libcudnn_cnn_infer_static.a                   libpmemblk.so.1.0.0\n",
            "\u001b[01;36mlibcudnn_cnn_infer_static_v8.a\u001b[0m@               \u001b[01;36mlibpmemobj.so.1\u001b[0m@\n",
            "\u001b[01;36mlibcudnn_cnn_train.so\u001b[0m@                        libpmemobj.so.1.0.0\n",
            "\u001b[01;36mlibcudnn_cnn_train.so.8\u001b[0m@                      \u001b[01;36mlibpmem.so.1\u001b[0m@\n",
            "libcudnn_cnn_train.so.8.9.6                   libpmem.so.1.0.0\n",
            "libcudnn_cnn_train_static.a                   \u001b[01;36mlibpmix.so\u001b[0m@\n",
            "\u001b[01;36mlibcudnn_cnn_train_static_v8.a\u001b[0m@               \u001b[01;36mlibpmix.so.2\u001b[0m@\n",
            "\u001b[01;36mlibcudnn_ops_infer.so\u001b[0m@                        \u001b[01;36mlibpmix.so.2.5.2\u001b[0m@\n",
            "\u001b[01;36mlibcudnn_ops_infer.so.8\u001b[0m@                      libpng16.a\n",
            "libcudnn_ops_infer.so.8.9.6                   \u001b[01;36mlibpng16.so\u001b[0m@\n",
            "libcudnn_ops_infer_static.a                   \u001b[01;36mlibpng16.so.16\u001b[0m@\n",
            "\u001b[01;36mlibcudnn_ops_infer_static_v8.a\u001b[0m@               libpng16.so.16.37.0\n",
            "\u001b[01;36mlibcudnn_ops_train.so\u001b[0m@                        \u001b[01;36mlibpng.a\u001b[0m@\n",
            "\u001b[01;36mlibcudnn_ops_train.so.8\u001b[0m@                      \u001b[01;36mlibpng.so\u001b[0m@\n",
            "libcudnn_ops_train.so.8.9.6                   \u001b[01;36mlibpocketsphinx.so.3\u001b[0m@\n",
            "libcudnn_ops_train_static.a                   libpocketsphinx.so.3.0.0\n",
            "\u001b[01;36mlibcudnn_ops_train_static_v8.a\u001b[0m@               \u001b[01;36mlibpolkit-agent-1.so.0\u001b[0m@\n",
            "\u001b[01;36mlibcudnn.so\u001b[0m@                                  libpolkit-agent-1.so.0.0.0\n",
            "\u001b[01;36mlibcudnn.so.8\u001b[0m@                                \u001b[01;36mlibpolkit-gobject-1.so.0\u001b[0m@\n",
            "libcudnn.so.8.9.6                             libpolkit-gobject-1.so.0.0.0\n",
            "libcups.so.2                                  \u001b[01;36mlibpoppler.so\u001b[0m@\n",
            "libcurl.a                                     \u001b[01;36mlibpoppler.so.118\u001b[0m@\n",
            "\u001b[01;36mlibcurl-gnutls.so.3\u001b[0m@                          libpoppler.so.118.0.0\n",
            "\u001b[01;36mlibcurl-gnutls.so.4\u001b[0m@                          \u001b[01;36mlibpopt.so.0\u001b[0m@\n",
            "libcurl-gnutls.so.4.7.0                       libpopt.so.0.0.1\n",
            "\u001b[01;36mlibcurl.so\u001b[0m@                                   \u001b[01;36mlibpostproc.so.55\u001b[0m@\n",
            "\u001b[01;36mlibcurl.so.4\u001b[0m@                                 libpostproc.so.55.9.100\n",
            "libcurl.so.4.7.0                              libpq.a\n",
            "\u001b[01;36mlibcurses.a\u001b[0m@                                  \u001b[01;36mlibpq.so\u001b[0m@\n",
            "\u001b[01;36mlibcurses.so\u001b[0m@                                 \u001b[01;36mlibpq.so.5\u001b[0m@\n",
            "libcxgb4-rdmav34.a                            libpq.so.5.14\n",
            "\u001b[01;36mlibdatrie.so.1\u001b[0m@                               \u001b[01;36mlibprocps.so.8\u001b[0m@\n",
            "libdatrie.so.1.4.0                            libprocps.so.8.0.3\n",
            "\u001b[01;36mlibdav1d.so\u001b[0m@                                  \u001b[01;36mlibprofiler.so.0\u001b[0m@\n",
            "\u001b[01;36mlibdav1d.so.5\u001b[0m@                                libprofiler.so.0.5.4\n",
            "libdav1d.so.5.1.1                             \u001b[01;36mlibproj.so\u001b[0m@\n",
            "\u001b[01;36mlibdaxctl.so.1\u001b[0m@                               \u001b[01;36mlibproj.so.25\u001b[0m@\n",
            "libdaxctl.so.1.6.0                            libproj.so.25.9.1.1\n",
            "libdb-5.3.so                                  \u001b[01;36mlibprotobuf.so.23\u001b[0m@\n",
            "\u001b[01;36mlibdbus-1.so.3\u001b[0m@                               libprotobuf.so.23.0.4\n",
            "libdbus-1.so.3.19.13                          \u001b[01;36mlibprotoc.so.23\u001b[0m@\n",
            "libdc1394.a                                   libprotoc.so.23.0.4\n",
            "\u001b[01;36mlibdc1394.so\u001b[0m@                                 libprotokit.a\n",
            "\u001b[01;36mlibdc1394.so.25\u001b[0m@                              \u001b[01;36mlibpsl.so.5\u001b[0m@\n",
            "libdc1394.so.25.0.0                           libpsl.so.5.3.2\n",
            "\u001b[01;36mlibdconf.so.1\u001b[0m@                                \u001b[01;36mlibpsm2.so.2\u001b[0m@\n",
            "libdconf.so.1.0.0                             libpsm2.so.2.2\n",
            "\u001b[01;36mlibde265.so\u001b[0m@                                  \u001b[01;36mlibpsm_infinipath.so.1\u001b[0m@\n",
            "\u001b[01;36mlibde265.so.0\u001b[0m@                                libpthread.a\n",
            "libde265.so.0.1.1                             libpthread.so.0\n",
            "\u001b[01;36mlibdebconfclient.so.0\u001b[0m@                        \u001b[01;36mlibpulse-simple.so.0\u001b[0m@\n",
            "libdebconfclient.so.0.0.0                     libpulse-simple.so.0.1.1\n",
            "\u001b[01;36mlibdecor-0.so.0\u001b[0m@                              \u001b[01;36mlibpulse.so.0\u001b[0m@\n",
            "libdecor-0.so.0.100.0                         libpulse.so.0.24.1\n",
            "libdeflate.a                                  \u001b[01;36mlibpython3.10.a\u001b[0m@\n",
            "\u001b[01;36mlibdeflate.so\u001b[0m@                                \u001b[01;36mlibpython3.10.so\u001b[0m@\n",
            "libdeflate.so.0                               \u001b[01;36mlibpython3.10.so.1\u001b[0m@\n",
            "libdevmapper.so.1.02.1                        libpython3.10.so.1.0\n",
            "libdl.a                                       libqedr-rdmav34.a\n",
            "libdl.so.2                                    libqhullcpp.a\n",
            "\u001b[01;36mlibdouble-conversion.so.3\u001b[0m@                    \u001b[01;36mlibqhullcpp.so\u001b[0m@\n",
            "libdouble-conversion.so.3.1                   \u001b[01;36mlibqhullcpp.so.8.0\u001b[0m@\n",
            "\u001b[01;36mlibdrm_amdgpu.so.1\u001b[0m@                           libqhullcpp.so.8.0.2\n",
            "libdrm_amdgpu.so.1.0.0                        \u001b[01;36mlibqhull_r.so\u001b[0m@\n",
            "\u001b[01;36mlibdrm_intel.so.1\u001b[0m@                            \u001b[01;36mlibqhull_r.so.8.0\u001b[0m@\n",
            "libdrm_intel.so.1.0.0                         libqhull_r.so.8.0.2\n",
            "\u001b[01;36mlibdrm_nouveau.so.2\u001b[0m@                          \u001b[01;36mlibqhull.so\u001b[0m@\n",
            "libdrm_nouveau.so.2.0.0                       \u001b[01;36mlibqhull.so.8.0\u001b[0m@\n",
            "\u001b[01;36mlibdrm_radeon.so.1\u001b[0m@                           libqhull.so.8.0.2\n",
            "libdrm_radeon.so.1.0.1                        libqhullstatic.a\n",
            "\u001b[01;36mlibdrm.so.2\u001b[0m@                                  libqhullstatic_r.a\n",
            "libdrm.so.2.4.0                               \u001b[01;36mlibquadmath.so.0\u001b[0m@\n",
            "libdw-0.186.so                                libquadmath.so.0.0.0\n",
            "\u001b[01;36mlibdw.so.1\u001b[0m@                                   \u001b[01;36mlibrabbitmq.so.4\u001b[0m@\n",
            "\u001b[01;36mlibe2p.so.2\u001b[0m@                                  librabbitmq.so.4.4.0\n",
            "libe2p.so.2.3                                 \u001b[01;36mlibrados.so.2\u001b[0m@\n",
            "\u001b[01;36mlibedit.so.2\u001b[0m@                                 librados.so.2.0.0\n",
            "libedit.so.2.0.68                             libraw1394.a\n",
            "libefa.a                                      \u001b[01;36mlibraw1394.so\u001b[0m@\n",
            "\u001b[01;36mlibefa.so\u001b[0m@                                    \u001b[01;36mlibraw1394.so.11\u001b[0m@\n",
            "\u001b[01;36mlibefa.so.1\u001b[0m@                                  libraw1394.so.11.1.0\n",
            "libefa.so.1.1.39.0                            \u001b[01;36mlibrbd.so.1\u001b[0m@\n",
            "\u001b[01;36mlibEGL_mesa.so.0\u001b[0m@                             librbd.so.1.17.0\n",
            "libEGL_mesa.so.0.0.0                          \u001b[01;36mlibrdmacm.so.1\u001b[0m@\n",
            "\u001b[01;36mlibEGL.so.1\u001b[0m@                                  librdmacm.so.1.3.39.0\n",
            "libEGL.so.1.1.0                               libreadline.a\n",
            "libelf-0.186.so                               \u001b[01;36mlibreadline.so\u001b[0m@\n",
            "\u001b[01;36mlibelf.so.1\u001b[0m@                                  \u001b[01;36mlibreadline.so.8\u001b[0m@\n",
            "\u001b[01;36mlibepoxy.so.0\u001b[0m@                                libreadline.so.8.1\n",
            "libepoxy.so.0.0.0                             libresolv.a\n",
            "\u001b[01;36mlibevent-2.1.so.7\u001b[0m@                            \u001b[01;36mlibresolv.so\u001b[0m@\n",
            "libevent-2.1.so.7.0.1                         libresolv.so.2\n",
            "libevent.a                                    librhash.so.0\n",
            "\u001b[01;36mlibevent_core-2.1.so.7\u001b[0m@                       \u001b[01;36mlibrom1394.so.0\u001b[0m@\n",
            "libevent_core-2.1.so.7.0.1                    librom1394.so.0.3.0\n",
            "libevent_core.a                               \u001b[01;36mlibrsvg-2.so.2\u001b[0m@\n",
            "\u001b[01;36mlibevent_core.so\u001b[0m@                             librsvg-2.so.2.48.0\n",
            "\u001b[01;36mlibevent_extra-2.1.so.7\u001b[0m@                      librt.a\n",
            "libevent_extra-2.1.so.7.0.1                   librtmp.so.1\n",
            "libevent_extra.a                              librt.so.1\n",
            "\u001b[01;36mlibevent_extra.so\u001b[0m@                            librttopo.a\n",
            "\u001b[01;36mlibevent_openssl-2.1.so.7\u001b[0m@                    \u001b[01;36mlibrttopo.so\u001b[0m@\n",
            "libevent_openssl-2.1.so.7.0.1                 \u001b[01;36mlibrttopo.so.1\u001b[0m@\n",
            "libevent_openssl.a                            librttopo.so.1.1.0\n",
            "\u001b[01;36mlibevent_openssl.so\u001b[0m@                          \u001b[01;36mlibrubberband.so.2\u001b[0m@\n",
            "\u001b[01;36mlibevent_pthreads-2.1.so.7\u001b[0m@                   librubberband.so.2.1.5\n",
            "libevent_pthreads-2.1.so.7.0.1                librxe-rdmav34.a\n",
            "libevent_pthreads.a                           \u001b[01;36mlibsamplerate.so.0\u001b[0m@\n",
            "\u001b[01;36mlibevent_pthreads.so\u001b[0m@                         libsamplerate.so.0.2.2\n",
            "\u001b[01;36mlibevent.so\u001b[0m@                                  \u001b[01;36mlibsasl2.so.2\u001b[0m@\n",
            "libexif.a                                     libsasl2.so.2.0.25\n",
            "\u001b[01;36mlibexif.so\u001b[0m@                                   \u001b[01;36mlibSDL2-2.0.so.0\u001b[0m@\n",
            "\u001b[01;36mlibexif.so.12\u001b[0m@                                libSDL2-2.0.so.0.18.2\n",
            "libexif.so.12.3.4                             \u001b[01;36mlibseccomp.so.2\u001b[0m@\n",
            "libexpat.a                                    libseccomp.so.2.5.3\n",
            "\u001b[01;36mlibexpat.so\u001b[0m@                                  libselinux.so.1\n",
            "\u001b[01;36mlibexpat.so.1\u001b[0m@                                libsemanage.so.2\n",
            "libexpat.so.1.8.7                             \u001b[01;36mlibsensors.so.5\u001b[0m@\n",
            "libexpatw.a                                   libsensors.so.5.0.0\n",
            "\u001b[01;36mlibexpatw.so\u001b[0m@                                 libsepol.so.2\n",
            "\u001b[01;36mlibexpatw.so.1\u001b[0m@                               \u001b[01;36mlibserd-0.so.0\u001b[0m@\n",
            "libexpatw.so.1.8.7                            libserd-0.so.0.30.10\n",
            "\u001b[01;36mlibexslt.so.0\u001b[0m@                                \u001b[01;36mlibshine.so.3\u001b[0m@\n",
            "libexslt.so.0.8.20                            libshine.so.3.0.1\n",
            "\u001b[01;36mlibext2fs.so.2\u001b[0m@                               \u001b[01;36mlibsigsegv.so.2\u001b[0m@\n",
            "libext2fs.so.2.4                              libsigsegv.so.2.0.6\n",
            "libf77blas.a                                  libsiw-rdmav34.a\n",
            "\u001b[01;36mlibf77blas.so\u001b[0m@                                \u001b[01;36mlibslang.so.2\u001b[0m@\n",
            "\u001b[01;36mlibf77blas.so.3\u001b[0m@                              libslang.so.2.3.2\n",
            "libf77blas.so.3.10.3                          \u001b[01;36mlibsmartcols.so.1\u001b[0m@\n",
            "\u001b[01;36mlibfabric.so.1\u001b[0m@                               libsmartcols.so.1.1.0\n",
            "libfabric.so.1.14.0                           libsmime3.so\n",
            "\u001b[01;36mlibffi.so.8\u001b[0m@                                  \u001b[01;36mlibSM.so.6\u001b[0m@\n",
            "libffi.so.8.1.0                               libSM.so.6.0.1\n",
            "\u001b[01;36mlibfido2.so.1\u001b[0m@                                \u001b[01;36mlibsnappy.so.1\u001b[0m@\n",
            "libfido2.so.1.10.0                            libsnappy.so.1.1.8\n",
            "libFLAC.a                                     libsndfile.a\n",
            "\u001b[01;36mlibFLAC.so\u001b[0m@                                   \u001b[01;36mlibsndfile.so\u001b[0m@\n",
            "\u001b[01;36mlibFLAC.so.8\u001b[0m@                                 \u001b[01;36mlibsndfile.so.1\u001b[0m@\n",
            "libFLAC.so.8.3.0                              libsndfile.so.1.0.31\n",
            "\u001b[01;36mlibflite_cmu_grapheme_lang.so.1\u001b[0m@              \u001b[01;36mlibsndio.so.7\u001b[0m@\n",
            "libflite_cmu_grapheme_lang.so.2.2             \u001b[01;36mlibsndio.so.7.0\u001b[0m@\n",
            "\u001b[01;36mlibflite_cmu_grapheme_lex.so.1\u001b[0m@               libsndio.so.7.1\n",
            "libflite_cmu_grapheme_lex.so.2.2              libsocket++.a\n",
            "\u001b[01;36mlibflite_cmu_indic_lang.so.1\u001b[0m@                 \u001b[01;36mlibsocket++.so.1\u001b[0m@\n",
            "libflite_cmu_indic_lang.so.2.2                libsocket++.so.1.0.2\n",
            "\u001b[01;36mlibflite_cmu_indic_lex.so.1\u001b[0m@                  libsodium.a\n",
            "libflite_cmu_indic_lex.so.2.2                 \u001b[01;36mlibsodium.so\u001b[0m@\n",
            "\u001b[01;36mlibflite_cmulex.so.1\u001b[0m@                         \u001b[01;36mlibsodium.so.23\u001b[0m@\n",
            "libflite_cmulex.so.2.2                        libsodium.so.23.3.0\n",
            "\u001b[01;36mlibflite_cmu_time_awb.so.1\u001b[0m@                   \u001b[01;36mlibsord-0.so.0\u001b[0m@\n",
            "libflite_cmu_time_awb.so.2.2                  libsord-0.so.0.16.8\n",
            "\u001b[01;36mlibflite_cmu_us_awb.so.1\u001b[0m@                     \u001b[01;36mlibsoxr.so.0\u001b[0m@\n",
            "libflite_cmu_us_awb.so.2.2                    libsoxr.so.0.1.2\n",
            "\u001b[01;36mlibflite_cmu_us_kal16.so.1\u001b[0m@                   libspatialite.a\n",
            "libflite_cmu_us_kal16.so.2.2                  \u001b[01;36mlibspatialite.so\u001b[0m@\n",
            "\u001b[01;36mlibflite_cmu_us_kal.so.1\u001b[0m@                     \u001b[01;36mlibspatialite.so.7\u001b[0m@\n",
            "libflite_cmu_us_kal.so.2.2                    libspatialite.so.7.1.2\n",
            "\u001b[01;36mlibflite_cmu_us_rms.so.1\u001b[0m@                     \u001b[01;36mlibspeex.so.1\u001b[0m@\n",
            "libflite_cmu_us_rms.so.2.2                    libspeex.so.1.5.0\n",
            "\u001b[01;36mlibflite_cmu_us_slt.so.1\u001b[0m@                     \u001b[01;36mlibsphinxad.so.3\u001b[0m@\n",
            "libflite_cmu_us_slt.so.2.2                    libsphinxad.so.3.0.0\n",
            "\u001b[01;36mlibflite.so.1\u001b[0m@                                \u001b[01;36mlibsphinxbase.so.3\u001b[0m@\n",
            "libflite.so.2.2                               libsphinxbase.so.3.0.0\n",
            "\u001b[01;36mlibflite_usenglish.so.1\u001b[0m@                      libsqlite3.a\n",
            "libflite_usenglish.so.2.2                     \u001b[01;36mlibsqlite3.so\u001b[0m@\n",
            "libfontconfig.a                               \u001b[01;36mlibsqlite3.so.0\u001b[0m@\n",
            "\u001b[01;36mlibfontconfig.so\u001b[0m@                             libsqlite3.so.0.8.6\n",
            "\u001b[01;36mlibfontconfig.so.1\u001b[0m@                           \u001b[01;36mlibsratom-0.so.0\u001b[0m@\n",
            "libfontconfig.so.1.12.0                       libsratom-0.so.0.6.8\n",
            "libform.a                                     \u001b[01;36mlibsrt-gnutls.so.1.4\u001b[0m@\n",
            "\u001b[01;36mlibform.so\u001b[0m@                                   libsrt-gnutls.so.1.4.4\n",
            "\u001b[01;36mlibform.so.6\u001b[0m@                                 libssh2.a\n",
            "libform.so.6.3                                \u001b[01;36mlibssh2.so\u001b[0m@\n",
            "libformw.a                                    \u001b[01;36mlibssh2.so.1\u001b[0m@\n",
            "\u001b[01;36mlibformw.so\u001b[0m@                                  libssh2.so.1.0.1\n",
            "\u001b[01;36mlibformw.so.6\u001b[0m@                                \u001b[01;36mlibssh-gcrypt.so.4\u001b[0m@\n",
            "libformw.so.6.3                               libssh-gcrypt.so.4.8.7\n",
            "\u001b[01;36mlibfreebl3.chk\u001b[0m@                               \u001b[01;36mlibssh.so.4\u001b[0m@\n",
            "\u001b[01;36mlibfreebl3.so\u001b[0m@                                libssh.so.4.8.7\n",
            "\u001b[01;36mlibfreeblpriv3.chk\u001b[0m@                           libssl3.so\n",
            "\u001b[01;36mlibfreeblpriv3.so\u001b[0m@                            libssl.a\n",
            "libfreetype.a                                 \u001b[01;36mlibssl.so\u001b[0m@\n",
            "\u001b[01;36mlibfreetype.so\u001b[0m@                               libssl.so.3\n",
            "\u001b[01;36mlibfreetype.so.6\u001b[0m@                             \u001b[01;36mlibss.so.2\u001b[0m@\n",
            "libfreetype.so.6.18.1                         libss.so.2.0\n",
            "libfreexl.a                                   \u001b[01;36mlibstdc++.so.6\u001b[0m@\n",
            "\u001b[01;36mlibfreexl.so\u001b[0m@                                 libstdc++.so.6.0.30\n",
            "\u001b[01;36mlibfreexl.so.1\u001b[0m@                               \u001b[01;36mlibstemmer.so.0d\u001b[0m@\n",
            "libfreexl.so.1.1.0                            libstemmer.so.0d.0.0\n",
            "\u001b[01;36mlibfribidi.so.0\u001b[0m@                              \u001b[01;36mlibsuperlu.so\u001b[0m@\n",
            "libfribidi.so.0.4.0                           \u001b[01;36mlibsuperlu.so.5\u001b[0m@\n",
            "\u001b[01;36mlibfuse.so.2\u001b[0m@                                 libsuperlu.so.5.3.0\n",
            "libfuse.so.2.9.9                              libswresample.a\n",
            "libfyba.a                                     \u001b[01;36mlibswresample.so\u001b[0m@\n",
            "\u001b[01;36mlibfyba.so\u001b[0m@                                   \u001b[01;36mlibswresample.so.3\u001b[0m@\n",
            "\u001b[01;36mlibfyba.so.0\u001b[0m@                                 libswresample.so.3.9.100\n",
            "libfyba.so.0.0.0                              libswscale.a\n",
            "libfygm.a                                     \u001b[01;36mlibswscale.so\u001b[0m@\n",
            "\u001b[01;36mlibfygm.so\u001b[0m@                                   \u001b[01;36mlibswscale.so.5\u001b[0m@\n",
            "\u001b[01;36mlibfygm.so.0\u001b[0m@                                 libswscale.so.5.9.100\n",
            "libfygm.so.0.0.0                              \u001b[01;36mlibsystemd.so.0\u001b[0m@\n",
            "libfyut.a                                     libsystemd.so.0.32.0\n",
            "\u001b[01;36mlibfyut.so\u001b[0m@                                   libsz.a\n",
            "\u001b[01;36mlibfyut.so.0\u001b[0m@                                 \u001b[01;36mlibsz.so\u001b[0m@\n",
            "libfyut.so.0.0.0                              \u001b[01;36mlibsz.so.2\u001b[0m@\n",
            "libg.a                                        libsz.so.2.0.1\n",
            "\u001b[01;36mlibgbm.so.1\u001b[0m@                                  \u001b[01;36mlibtasn1.so.6\u001b[0m@\n",
            "libgbm.so.1.0.0                               libtasn1.so.6.6.2\n",
            "\u001b[01;36mlibgccpp.so.1\u001b[0m@                                \u001b[01;36mlibtbbmalloc_proxy.so\u001b[0m@\n",
            "libgccpp.so.1.4.1                             \u001b[01;36mlibtbbmalloc_proxy.so.2\u001b[0m@\n",
            "libgcc_s.so.1                                 libtbbmalloc_proxy.so.2.5\n",
            "\u001b[01;36mlibgcrypt.so.20\u001b[0m@                              \u001b[01;36mlibtbbmalloc.so\u001b[0m@\n",
            "libgcrypt.so.20.3.4                           \u001b[01;36mlibtbbmalloc.so.2\u001b[0m@\n",
            "\u001b[01;36mlibgc.so.1\u001b[0m@                                   libtbbmalloc.so.2.5\n",
            "libgc.so.1.4.4                                \u001b[01;36mlibtbb.so\u001b[0m@\n",
            "\u001b[01;36mlibgdal.so\u001b[0m@                                   \u001b[01;36mlibtbb.so.12\u001b[0m@\n",
            "\u001b[01;36mlibgdal.so.32\u001b[0m@                                libtbb.so.12.5\n",
            "libgdal.so.32.3.6.4                           libtcl8.6.a\n",
            "\u001b[01;36mlibgdbm_compat.so.4\u001b[0m@                          libtcl8.6.so\n",
            "libgdbm_compat.so.4.0.0                       \u001b[01;36mlibtcl8.6.so.0\u001b[0m@\n",
            "\u001b[01;36mlibgdbm.so.6\u001b[0m@                                 \u001b[01;36mlibtcl.a\u001b[0m@\n",
            "libgdbm.so.6.0.0                              \u001b[01;36mlibtcl.so\u001b[0m@\n",
            "\u001b[01;36mlibgdcmCommon.so\u001b[0m@                             libtclstub8.6.a\n",
            "\u001b[01;36mlibgdcmCommon.so.3.0\u001b[0m@                         \u001b[01;36mlibtclstub.a\u001b[0m@\n",
            "libgdcmCommon.so.3.0.10                       \u001b[01;36mlibtcmalloc_and_profiler.so.4\u001b[0m@\n",
            "\u001b[01;36mlibgdcmDICT.so\u001b[0m@                               libtcmalloc_and_profiler.so.4.6.4\n",
            "\u001b[01;36mlibgdcmDICT.so.3.0\u001b[0m@                           \u001b[01;36mlibtcmalloc_debug.so.4\u001b[0m@\n",
            "libgdcmDICT.so.3.0.10                         libtcmalloc_debug.so.4.5.9\n",
            "\u001b[01;36mlibgdcmDSED.so\u001b[0m@                               \u001b[01;36mlibtcmalloc_minimal_debug.so.4\u001b[0m@\n",
            "\u001b[01;36mlibgdcmDSED.so.3.0\u001b[0m@                           libtcmalloc_minimal_debug.so.4.5.9\n",
            "libgdcmDSED.so.3.0.10                         \u001b[01;36mlibtcmalloc_minimal.so.4\u001b[0m@\n",
            "\u001b[01;36mlibgdcmIOD.so\u001b[0m@                                libtcmalloc_minimal.so.4.5.9\n",
            "\u001b[01;36mlibgdcmIOD.so.3.0\u001b[0m@                            \u001b[01;36mlibtcmalloc.so.4\u001b[0m@\n",
            "libgdcmIOD.so.3.0.10                          libtcmalloc.so.4.5.9\n",
            "\u001b[01;36mlibgdcmjpeg12.so\u001b[0m@                             \u001b[01;36mlibtermcap.a\u001b[0m@\n",
            "\u001b[01;36mlibgdcmjpeg12.so.3.0\u001b[0m@                         libtermcap.so\n",
            "libgdcmjpeg12.so.3.0.10                       \u001b[01;36mlibtesseract.so.4\u001b[0m@\n",
            "\u001b[01;36mlibgdcmjpeg16.so\u001b[0m@                             libtesseract.so.4.0.1\n",
            "\u001b[01;36mlibgdcmjpeg16.so.3.0\u001b[0m@                         \u001b[01;36mlibthai.so.0\u001b[0m@\n",
            "libgdcmjpeg16.so.3.0.10                       libthai.so.0.3.1\n",
            "\u001b[01;36mlibgdcmjpeg8.so\u001b[0m@                              \u001b[01;36mlibtheoradec.so.1\u001b[0m@\n",
            "\u001b[01;36mlibgdcmjpeg8.so.3.0\u001b[0m@                          libtheoradec.so.1.1.4\n",
            "libgdcmjpeg8.so.3.0.10                        \u001b[01;36mlibtheoraenc.so.1\u001b[0m@\n",
            "\u001b[01;36mlibgdcmMEXD.so\u001b[0m@                               libtheoraenc.so.1.1.2\n",
            "\u001b[01;36mlibgdcmMEXD.so.3.0\u001b[0m@                           \u001b[01;36mlibtheora.so.0\u001b[0m@\n",
            "libgdcmMEXD.so.3.0.10                         libtheora.so.0.3.10\n",
            "\u001b[01;36mlibgdcmMSFF.so\u001b[0m@                               \u001b[01;36mlibthread_db.so\u001b[0m@\n",
            "\u001b[01;36mlibgdcmMSFF.so.3.0\u001b[0m@                           libthread_db.so.1\n",
            "libgdcmMSFF.so.3.0.10                         libtic.a\n",
            "\u001b[01;36mlibgdk-3.so.0\u001b[0m@                                \u001b[01;36mlibtic.so\u001b[0m@\n",
            "libgdk-3.so.0.2404.29                         \u001b[01;36mlibtic.so.6\u001b[0m@\n",
            "\u001b[01;36mlibgdk_pixbuf-2.0.so.0\u001b[0m@                       libtic.so.6.3\n",
            "libgdk_pixbuf-2.0.so.0.4200.8                 libtiff.a\n",
            "\u001b[01;36mlibgd.so.3\u001b[0m@                                   \u001b[01;36mlibtiff.so\u001b[0m@\n",
            "libgd.so.3.0.8                                \u001b[01;36mlibtiff.so.5\u001b[0m@\n",
            "\u001b[01;36mlibgeos_c.so\u001b[0m@                                 libtiff.so.5.7.0\n",
            "\u001b[01;36mlibgeos_c.so.1\u001b[0m@                               libtiffxx.a\n",
            "libgeos_c.so.1.17.1                           \u001b[01;36mlibtiffxx.so\u001b[0m@\n",
            "libgeos.so.3.11.1                             \u001b[01;36mlibtiffxx.so.5\u001b[0m@\n",
            "libgeotiff.a                                  libtiffxx.so.5.7.0\n",
            "\u001b[01;36mlibgeotiff.so\u001b[0m@                                libtinfo.a\n",
            "\u001b[01;36mlibgeotiff.so.5\u001b[0m@                              \u001b[01;36mlibtinfo.so\u001b[0m@\n",
            "libgeotiff.so.5.2.1                           \u001b[01;36mlibtinfo.so.6\u001b[0m@\n",
            "\u001b[01;36mlibgfapi.so.0\u001b[0m@                                libtinfo.so.6.3\n",
            "libgfapi.so.0.0.0                             libtirpc.a\n",
            "\u001b[01;36mlibgfortran.so.5\u001b[0m@                             \u001b[01;36mlibtirpc.so\u001b[0m@\n",
            "libgfortran.so.5.0.0                          \u001b[01;36mlibtirpc.so.3\u001b[0m@\n",
            "\u001b[01;36mlibgfrpc.so.0\u001b[0m@                                libtirpc.so.3.0.0\n",
            "libgfrpc.so.0.0.1                             libtk8.6.a\n",
            "\u001b[01;36mlibgfxdr.so.0\u001b[0m@                                libtk8.6.so\n",
            "libgfxdr.so.0.0.1                             \u001b[01;36mlibtk8.6.so.0\u001b[0m@\n",
            "libgif.a                                      \u001b[01;36mlibtk.a\u001b[0m@\n",
            "\u001b[01;36mlibgif.so\u001b[0m@                                    \u001b[01;36mlibtk.so\u001b[0m@\n",
            "\u001b[01;36mlibgif.so.7\u001b[0m@                                  libtkstub8.6.a\n",
            "libgif.so.7.1.0                               \u001b[01;36mlibtkstub.a\u001b[0m@\n",
            "\u001b[01;36mlibgio-2.0.so.0\u001b[0m@                              \u001b[01;36mlibtsan.so.0\u001b[0m@\n",
            "libgio-2.0.so.0.7200.4                        libtsan.so.0.0.0\n",
            "\u001b[01;36mlibgirepository-1.0.so.1\u001b[0m@                     \u001b[01;36mlibturbojpeg.so.0\u001b[0m@\n",
            "libgirepository-1.0.so.1.0.0                  libturbojpeg.so.0.2.0\n",
            "libgit2.a                                     \u001b[01;36mlibtwolame.so.0\u001b[0m@\n",
            "\u001b[01;36mlibgit2.so\u001b[0m@                                   libtwolame.so.0.0.0\n",
            "\u001b[01;36mlibgit2.so.1.1\u001b[0m@                               \u001b[01;36mlibubsan.so.1\u001b[0m@\n",
            "libgit2.so.1.1.0                              libubsan.so.1.0.0\n",
            "\u001b[01;36mlibgl2ps.so.1.4\u001b[0m@                              \u001b[01;36mlibuchardet.so.0\u001b[0m@\n",
            "libgl2ps.so.1.4.2                             libuchardet.so.0.0.7\n",
            "\u001b[01;36mlibglapi.so.0\u001b[0m@                                \u001b[01;36mlibucm.so.0\u001b[0m@\n",
            "libglapi.so.0.0.0                             libucm.so.0.0.0\n",
            "\u001b[01;36mlibGLdispatch.so.0\u001b[0m@                           \u001b[01;36mlibucp.so.0\u001b[0m@\n",
            "libGLdispatch.so.0.0.0                        libucp.so.0.0.0\n",
            "\u001b[01;36mlibGLESv2.so.2\u001b[0m@                               \u001b[01;36mlibucs.so.0\u001b[0m@\n",
            "libGLESv2.so.2.1.0                            libucs.so.0.0.0\n",
            "\u001b[01;36mlibGLEW.so.2.2\u001b[0m@                               \u001b[01;36mlibuct.so.0\u001b[0m@\n",
            "libGLEW.so.2.2.0                              libuct.so.0.0.0\n",
            "\u001b[01;36mlibglib-2.0.so.0\u001b[0m@                             \u001b[01;36mlibudev.so.1\u001b[0m@\n",
            "libglib-2.0.so.0.7200.4                       libudev.so.1.7.2\n",
            "\u001b[01;36mlibGL.so.1\u001b[0m@                                   \u001b[01;36mlibudfread.so.0\u001b[0m@\n",
            "libGL.so.1.7.0                                libudfread.so.0.1.0\n",
            "\u001b[01;36mlibglusterfs.so.0\u001b[0m@                            libudunits2.a\n",
            "libglusterfs.so.0.0.1                         \u001b[01;36mlibudunits2.so\u001b[0m@\n",
            "\u001b[01;36mlibGLX_indirect.so.0\u001b[0m@                         \u001b[01;36mlibudunits2.so.0\u001b[0m@\n",
            "\u001b[01;36mlibGLX_mesa.so.0\u001b[0m@                             libudunits2.so.0.1.0\n",
            "libGLX_mesa.so.0.0.0                          \u001b[01;36mlibulockmgr.so.1\u001b[0m@\n",
            "\u001b[01;36mlibGLX.so.0\u001b[0m@                                  libulockmgr.so.1.0.1\n",
            "libGLX.so.0.0.0                               \u001b[01;36mlibunistring.so.2\u001b[0m@\n",
            "\u001b[01;36mlibgme.so.0\u001b[0m@                                  libunistring.so.2.2.0\n",
            "libgme.so.0.6.3                               \u001b[01;36mlibunwind-coredump.so.0\u001b[0m@\n",
            "\u001b[01;36mlibgmodule-2.0.so.0\u001b[0m@                          libunwind-coredump.so.0.0.0\n",
            "libgmodule-2.0.so.0.7200.4                    \u001b[01;36mlibunwind-ptrace.so.0\u001b[0m@\n",
            "\u001b[01;36mlibgmp.so.10\u001b[0m@                                 libunwind-ptrace.so.0.0.0\n",
            "libgmp.so.10.4.1                              \u001b[01;36mlibunwind.so.8\u001b[0m@\n",
            "\u001b[01;36mlibgnutls.so.30\u001b[0m@                              libunwind.so.8.0.1\n",
            "libgnutls.so.30.31.0                          \u001b[01;36mlibunwind-x86_64.so.8\u001b[0m@\n",
            "\u001b[01;36mlibgobject-2.0.so.0\u001b[0m@                          libunwind-x86_64.so.8.0.1\n",
            "libgobject-2.0.so.0.7200.4                    \u001b[01;36mliburiparser.so\u001b[0m@\n",
            "\u001b[01;36mlibgomp.so.1\u001b[0m@                                 \u001b[01;36mliburiparser.so.1\u001b[0m@\n",
            "libgomp.so.1.0.0                              liburiparser.so.1.0.29\n",
            "\u001b[01;36mlibgpg-error.so.0\u001b[0m@                            \u001b[01;36mlibusb-1.0.so.0\u001b[0m@\n",
            "libgpg-error.so.0.32.1                        libusb-1.0.so.0.3.0\n",
            "\u001b[01;34mlibgphoto2\u001b[0m/                                   \u001b[01;36mlibutempter.so.0\u001b[0m@\n",
            "\u001b[01;34mlibgphoto2_port\u001b[0m/                              libutempter.so.1.2.1\n",
            "\u001b[01;36mlibgphoto2_port.so\u001b[0m@                           libutil.a\n",
            "\u001b[01;36mlibgphoto2_port.so.12\u001b[0m@                        libutil.so.1\n",
            "libgphoto2_port.so.12.0.0                     libuuid.a\n",
            "\u001b[01;36mlibgphoto2.so\u001b[0m@                                \u001b[01;36mlibuuid.so\u001b[0m@\n",
            "\u001b[01;36mlibgphoto2.so.6\u001b[0m@                              \u001b[01;36mlibuuid.so.1\u001b[0m@\n",
            "libgphoto2.so.6.1.0                           libuuid.so.1.3.0\n",
            "libgpm.so.2                                   \u001b[01;36mlibuv.so.1\u001b[0m@\n",
            "\u001b[01;36mlibgraphite2.so.2.0.0\u001b[0m@                        libuv.so.1.0.0\n",
            "\u001b[01;36mlibgraphite2.so.3\u001b[0m@                            \u001b[01;36mlibva-drm.so.2\u001b[0m@\n",
            "libgraphite2.so.3.2.1                         libva-drm.so.2.1400.0\n",
            "\u001b[01;36mlibgsm.so.1\u001b[0m@                                  \u001b[01;36mlibva.so.2\u001b[0m@\n",
            "libgsm.so.1.0.19                              libva.so.2.1400.0\n",
            "\u001b[01;36mlibgssapi_krb5.so\u001b[0m@                            \u001b[01;36mlibva-x11.so.2\u001b[0m@\n",
            "\u001b[01;36mlibgssapi_krb5.so.2\u001b[0m@                          libva-x11.so.2.1400.0\n",
            "libgssapi_krb5.so.2.2                         \u001b[01;36mlibvdpau.so.1\u001b[0m@\n",
            "\u001b[01;36mlibgssrpc.so\u001b[0m@                                 libvdpau.so.1.0.0\n",
            "\u001b[01;36mlibgssrpc.so.4\u001b[0m@                               libvidstab.so.1.1\n",
            "libgssrpc.so.4.2                              libvmw_pvrdma-rdmav34.a\n",
            "\u001b[01;36mlibgstallocators-1.0.so.0\u001b[0m@                    libvorbis.a\n",
            "libgstallocators-1.0.so.0.2001.0              libvorbisenc.a\n",
            "\u001b[01;36mlibgstapp-1.0.so.0\u001b[0m@                           \u001b[01;36mlibvorbisenc.so\u001b[0m@\n",
            "libgstapp-1.0.so.0.2001.0                     \u001b[01;36mlibvorbisenc.so.2\u001b[0m@\n",
            "\u001b[01;36mlibgstaudio-1.0.so.0\u001b[0m@                         libvorbisenc.so.2.0.12\n",
            "libgstaudio-1.0.so.0.2001.0                   libvorbisfile.a\n",
            "\u001b[01;36mlibgstbase-1.0.so.0\u001b[0m@                          \u001b[01;36mlibvorbisfile.so\u001b[0m@\n",
            "libgstbase-1.0.so.0.2003.0                    \u001b[01;36mlibvorbisfile.so.3\u001b[0m@\n",
            "\u001b[01;36mlibgstcheck-1.0.so.0\u001b[0m@                         libvorbisfile.so.3.3.8\n",
            "libgstcheck-1.0.so.0.2003.0                   \u001b[01;36mlibvorbis.so\u001b[0m@\n",
            "\u001b[01;36mlibgstcontroller-1.0.so.0\u001b[0m@                    \u001b[01;36mlibvorbis.so.0\u001b[0m@\n",
            "libgstcontroller-1.0.so.0.2003.0              libvorbis.so.0.4.9\n",
            "\u001b[01;36mlibgstfft-1.0.so.0\u001b[0m@                           \u001b[01;36mlibvpx.so.7\u001b[0m@\n",
            "libgstfft-1.0.so.0.2001.0                     \u001b[01;36mlibvpx.so.7.0\u001b[0m@\n",
            "\u001b[01;36mlibgstnet-1.0.so.0\u001b[0m@                           libvpx.so.7.0.0\n",
            "libgstnet-1.0.so.0.2003.0                     \u001b[01;36mlibvtkcgns-9.1.so.1\u001b[0m@\n",
            "\u001b[01;36mlibgstpbutils-1.0.so.0\u001b[0m@                       libvtkcgns-9.1.so.9.1.0\n",
            "libgstpbutils-1.0.so.0.2001.0                 \u001b[01;36mlibvtkChartsCore-9.1.so.1\u001b[0m@\n",
            "\u001b[01;36mlibgstreamer-1.0.so.0\u001b[0m@                        libvtkChartsCore-9.1.so.9.1.0\n",
            "libgstreamer-1.0.so.0.2003.0                  \u001b[01;36mlibvtkCommonColor-9.1.so.1\u001b[0m@\n",
            "\u001b[01;36mlibgstriff-1.0.so.0\u001b[0m@                          libvtkCommonColor-9.1.so.9.1.0\n",
            "libgstriff-1.0.so.0.2001.0                    \u001b[01;36mlibvtkCommonComputationalGeometry-9.1.so.1\u001b[0m@\n",
            "\u001b[01;36mlibgstrtp-1.0.so.0\u001b[0m@                           libvtkCommonComputationalGeometry-9.1.so.9.1.0\n",
            "libgstrtp-1.0.so.0.2001.0                     \u001b[01;36mlibvtkCommonCore-9.1.so.1\u001b[0m@\n",
            "\u001b[01;36mlibgstrtsp-1.0.so.0\u001b[0m@                          libvtkCommonCore-9.1.so.9.1.0\n",
            "libgstrtsp-1.0.so.0.2001.0                    \u001b[01;36mlibvtkCommonDataModel-9.1.so.1\u001b[0m@\n",
            "\u001b[01;36mlibgstsdp-1.0.so.0\u001b[0m@                           libvtkCommonDataModel-9.1.so.9.1.0\n",
            "libgstsdp-1.0.so.0.2001.0                     \u001b[01;36mlibvtkCommonExecutionModel-9.1.so.1\u001b[0m@\n",
            "\u001b[01;36mlibgsttag-1.0.so.0\u001b[0m@                           libvtkCommonExecutionModel-9.1.so.9.1.0\n",
            "libgsttag-1.0.so.0.2001.0                     \u001b[01;36mlibvtkCommonMath-9.1.so.1\u001b[0m@\n",
            "\u001b[01;36mlibgstvideo-1.0.so.0\u001b[0m@                         libvtkCommonMath-9.1.so.9.1.0\n",
            "libgstvideo-1.0.so.0.2001.0                   \u001b[01;36mlibvtkCommonMisc-9.1.so.1\u001b[0m@\n",
            "\u001b[01;36mlibgthread-2.0.so.0\u001b[0m@                          libvtkCommonMisc-9.1.so.9.1.0\n",
            "libgthread-2.0.so.0.7200.4                    \u001b[01;36mlibvtkCommonPython-9.1.so.1\u001b[0m@\n",
            "\u001b[01;34mlibgtk-3-0\u001b[0m/                                   libvtkCommonPython-9.1.so.9.1.0\n",
            "\u001b[01;36mlibgtk-3.so.0\u001b[0m@                                \u001b[01;36mlibvtkCommonSystem-9.1.so.1\u001b[0m@\n",
            "libgtk-3.so.0.2404.29                         libvtkCommonSystem-9.1.so.9.1.0\n",
            "\u001b[01;36mlibgts-0.7.so.5\u001b[0m@                              \u001b[01;36mlibvtkCommonTransforms-9.1.so.1\u001b[0m@\n",
            "libgts-0.7.so.5.0.1                           libvtkCommonTransforms-9.1.so.9.1.0\n",
            "\u001b[01;36mlibgvc.so.6\u001b[0m@                                  \u001b[01;36mlibvtkDICOMParser-9.1.so.1\u001b[0m@\n",
            "libgvc.so.6.0.0                               libvtkDICOMParser-9.1.so.9.1.0\n",
            "\u001b[01;36mlibgvpr.so.2\u001b[0m@                                 \u001b[01;36mlibvtkDomainsChemistry-9.1.so.1\u001b[0m@\n",
            "libgvpr.so.2.0.0                              libvtkDomainsChemistry-9.1.so.9.1.0\n",
            "\u001b[01;36mlibHalf-2_5.so\u001b[0m@                               \u001b[01;36mlibvtkDomainsChemistryOpenGL2-9.1.so.1\u001b[0m@\n",
            "\u001b[01;36mlibHalf-2_5.so.25\u001b[0m@                            libvtkDomainsChemistryOpenGL2-9.1.so.9.1.0\n",
            "libHalf-2_5.so.25.0.6                         \u001b[01;36mlibvtkDomainsParallelChemistry-9.1.so.1\u001b[0m@\n",
            "\u001b[01;36mlibHalf.so\u001b[0m@                                   libvtkDomainsParallelChemistry-9.1.so.9.1.0\n",
            "\u001b[01;36mlibharfbuzz.so.0\u001b[0m@                             \u001b[01;36mlibvtkexodusII-9.1.so.1\u001b[0m@\n",
            "libharfbuzz.so.0.20704.0                      libvtkexodusII-9.1.so.9.1.0\n",
            "\u001b[01;36mlibhdf5_cpp.so.103\u001b[0m@                           \u001b[01;36mlibvtkFiltersAMR-9.1.so.1\u001b[0m@\n",
            "\u001b[01;36mlibhdf5_hl_cpp.so.100\u001b[0m@                        libvtkFiltersAMR-9.1.so.9.1.0\n",
            "libhdf5_serial.a                              \u001b[01;36mlibvtkFiltersCore-9.1.so.1\u001b[0m@\n",
            "libhdf5_serial_cpp.a                          libvtkFiltersCore-9.1.so.9.1.0\n",
            "\u001b[01;36mlibhdf5_serial_cpp.so\u001b[0m@                        \u001b[01;36mlibvtkFiltersExtraction-9.1.so.1\u001b[0m@\n",
            "\u001b[01;36mlibhdf5_serial_cpp.so.103\u001b[0m@                    libvtkFiltersExtraction-9.1.so.9.1.0\n",
            "libhdf5_serial_cpp.so.103.3.0                 \u001b[01;36mlibvtkFiltersFlowPaths-9.1.so.1\u001b[0m@\n",
            "libhdf5_serial_fortran.a                      libvtkFiltersFlowPaths-9.1.so.9.1.0\n",
            "\u001b[01;36mlibhdf5_serial_fortran.so\u001b[0m@                    \u001b[01;36mlibvtkFiltersGeneral-9.1.so.1\u001b[0m@\n",
            "\u001b[01;36mlibhdf5_serial_fortran.so.102\u001b[0m@                libvtkFiltersGeneral-9.1.so.9.1.0\n",
            "libhdf5_serial_fortran.so.102.1.0             \u001b[01;36mlibvtkFiltersGeneric-9.1.so.1\u001b[0m@\n",
            "libhdf5_serial_hl.a                           libvtkFiltersGeneric-9.1.so.9.1.0\n",
            "libhdf5_serial_hl_cpp.a                       \u001b[01;36mlibvtkFiltersGeometry-9.1.so.1\u001b[0m@\n",
            "\u001b[01;36mlibhdf5_serial_hl_cpp.so\u001b[0m@                     libvtkFiltersGeometry-9.1.so.9.1.0\n",
            "\u001b[01;36mlibhdf5_serial_hl_cpp.so.100\u001b[0m@                 \u001b[01;36mlibvtkFiltersHybrid-9.1.so.1\u001b[0m@\n",
            "libhdf5_serial_hl_cpp.so.100.1.5              libvtkFiltersHybrid-9.1.so.9.1.0\n",
            "libhdf5_serialhl_fortran.a                    \u001b[01;36mlibvtkFiltersHyperTree-9.1.so.1\u001b[0m@\n",
            "\u001b[01;36mlibhdf5_serialhl_fortran.so\u001b[0m@                  libvtkFiltersHyperTree-9.1.so.9.1.0\n",
            "\u001b[01;36mlibhdf5_serialhl_fortran.so.100\u001b[0m@              \u001b[01;36mlibvtkFiltersImaging-9.1.so.1\u001b[0m@\n",
            "libhdf5_serialhl_fortran.so.100.0.6           libvtkFiltersImaging-9.1.so.9.1.0\n",
            "\u001b[01;36mlibhdf5_serial_hl.so\u001b[0m@                         \u001b[01;36mlibvtkFiltersModeling-9.1.so.1\u001b[0m@\n",
            "\u001b[01;36mlibhdf5_serial_hl.so.100\u001b[0m@                     libvtkFiltersModeling-9.1.so.9.1.0\n",
            "libhdf5_serial_hl.so.100.1.4                  \u001b[01;36mlibvtkFiltersParallel-9.1.so.1\u001b[0m@\n",
            "libhdf5_serial.settings                       libvtkFiltersParallel-9.1.so.9.1.0\n",
            "\u001b[01;36mlibhdf5_serial.so\u001b[0m@                            \u001b[01;36mlibvtkFiltersParallelGeometry-9.1.so.1\u001b[0m@\n",
            "\u001b[01;36mlibhdf5_serial.so.103\u001b[0m@                        libvtkFiltersParallelGeometry-9.1.so.9.1.0\n",
            "libhdf5_serial.so.103.3.0                     \u001b[01;36mlibvtkFiltersParallelImaging-9.1.so.1\u001b[0m@\n",
            "\u001b[01;36mlibheif.so\u001b[0m@                                   libvtkFiltersParallelImaging-9.1.so.9.1.0\n",
            "\u001b[01;36mlibheif.so.1\u001b[0m@                                 \u001b[01;36mlibvtkFiltersParallelMPI-9.1.so.1\u001b[0m@\n",
            "libheif.so.1.12.0                             libvtkFiltersParallelMPI-9.1.so.9.1.0\n",
            "libhfi1verbs-rdmav34.a                        \u001b[01;36mlibvtkFiltersParallelVerdict-9.1.so.1\u001b[0m@\n",
            "libhistory.a                                  libvtkFiltersParallelVerdict-9.1.so.9.1.0\n",
            "\u001b[01;36mlibhistory.so\u001b[0m@                                \u001b[01;36mlibvtkFiltersPoints-9.1.so.1\u001b[0m@\n",
            "\u001b[01;36mlibhistory.so.8\u001b[0m@                              libvtkFiltersPoints-9.1.so.9.1.0\n",
            "libhistory.so.8.1                             \u001b[01;36mlibvtkFiltersProgrammable-9.1.so.1\u001b[0m@\n",
            "libhns-rdmav34.a                              libvtkFiltersProgrammable-9.1.so.9.1.0\n",
            "\u001b[01;36mlibhogweed.so.6\u001b[0m@                              \u001b[01;36mlibvtkFiltersPython-9.1.so.1\u001b[0m@\n",
            "libhogweed.so.6.4                             libvtkFiltersPython-9.1.so.9.1.0\n",
            "libhttp_parser.a                              \u001b[01;36mlibvtkFiltersSelection-9.1.so.1\u001b[0m@\n",
            "\u001b[01;36mlibhttp_parser.so\u001b[0m@                            libvtkFiltersSelection-9.1.so.9.1.0\n",
            "\u001b[01;36mlibhttp_parser.so.2.9\u001b[0m@                        \u001b[01;36mlibvtkFiltersSMP-9.1.so.1\u001b[0m@\n",
            "libhttp_parser.so.2.9.4                       libvtkFiltersSMP-9.1.so.9.1.0\n",
            "libhwloc.a                                    \u001b[01;36mlibvtkFiltersSources-9.1.so.1\u001b[0m@\n",
            "\u001b[01;36mlibhwloc.so\u001b[0m@                                  libvtkFiltersSources-9.1.so.9.1.0\n",
            "\u001b[01;36mlibhwloc.so.15\u001b[0m@                               \u001b[01;36mlibvtkFiltersStatistics-9.1.so.1\u001b[0m@\n",
            "libhwloc.so.15.5.2                            libvtkFiltersStatistics-9.1.so.9.1.0\n",
            "\u001b[01;34mlibibverbs\u001b[0m/                                   \u001b[01;36mlibvtkFiltersTexture-9.1.so.1\u001b[0m@\n",
            "libibverbs.a                                  libvtkFiltersTexture-9.1.so.9.1.0\n",
            "\u001b[01;36mlibibverbs.so\u001b[0m@                                \u001b[01;36mlibvtkFiltersTopology-9.1.so.1\u001b[0m@\n",
            "\u001b[01;36mlibibverbs.so.1\u001b[0m@                              libvtkFiltersTopology-9.1.so.9.1.0\n",
            "libibverbs.so.1.14.39.0                       \u001b[01;36mlibvtkFiltersVerdict-9.1.so.1\u001b[0m@\n",
            "\u001b[01;36mlibICE.so.6\u001b[0m@                                  libvtkFiltersVerdict-9.1.so.9.1.0\n",
            "libICE.so.6.3.0                               \u001b[01;36mlibvtkfmt-9.1.so.1\u001b[0m@\n",
            "libicudata.a                                  libvtkfmt-9.1.so.9.1.0\n",
            "\u001b[01;36mlibicudata.so\u001b[0m@                                \u001b[01;36mlibvtkGeovisCore-9.1.so.1\u001b[0m@\n",
            "\u001b[01;36mlibicudata.so.70\u001b[0m@                             libvtkGeovisCore-9.1.so.9.1.0\n",
            "libicudata.so.70.1                            \u001b[01;36mlibvtkImagingColor-9.1.so.1\u001b[0m@\n",
            "libicui18n.a                                  libvtkImagingColor-9.1.so.9.1.0\n",
            "\u001b[01;36mlibicui18n.so\u001b[0m@                                \u001b[01;36mlibvtkImagingCore-9.1.so.1\u001b[0m@\n",
            "\u001b[01;36mlibicui18n.so.70\u001b[0m@                             libvtkImagingCore-9.1.so.9.1.0\n",
            "libicui18n.so.70.1                            \u001b[01;36mlibvtkImagingFourier-9.1.so.1\u001b[0m@\n",
            "libicuio.a                                    libvtkImagingFourier-9.1.so.9.1.0\n",
            "\u001b[01;36mlibicuio.so\u001b[0m@                                  \u001b[01;36mlibvtkImagingGeneral-9.1.so.1\u001b[0m@\n",
            "\u001b[01;36mlibicuio.so.70\u001b[0m@                               libvtkImagingGeneral-9.1.so.9.1.0\n",
            "libicuio.so.70.1                              \u001b[01;36mlibvtkImagingHybrid-9.1.so.1\u001b[0m@\n",
            "libicutest.a                                  libvtkImagingHybrid-9.1.so.9.1.0\n",
            "\u001b[01;36mlibicutest.so\u001b[0m@                                \u001b[01;36mlibvtkImagingMath-9.1.so.1\u001b[0m@\n",
            "\u001b[01;36mlibicutest.so.70\u001b[0m@                             libvtkImagingMath-9.1.so.9.1.0\n",
            "libicutest.so.70.1                            \u001b[01;36mlibvtkImagingMorphological-9.1.so.1\u001b[0m@\n",
            "libicutu.a                                    libvtkImagingMorphological-9.1.so.9.1.0\n",
            "\u001b[01;36mlibicutu.so\u001b[0m@                                  \u001b[01;36mlibvtkImagingSources-9.1.so.1\u001b[0m@\n",
            "\u001b[01;36mlibicutu.so.70\u001b[0m@                               libvtkImagingSources-9.1.so.9.1.0\n",
            "libicutu.so.70.1                              \u001b[01;36mlibvtkImagingStatistics-9.1.so.1\u001b[0m@\n",
            "libicuuc.a                                    libvtkImagingStatistics-9.1.so.9.1.0\n",
            "\u001b[01;36mlibicuuc.so\u001b[0m@                                  \u001b[01;36mlibvtkImagingStencil-9.1.so.1\u001b[0m@\n",
            "\u001b[01;36mlibicuuc.so.70\u001b[0m@                               libvtkImagingStencil-9.1.so.9.1.0\n",
            "libicuuc.so.70.1                              \u001b[01;36mlibvtkInfovisCore-9.1.so.1\u001b[0m@\n",
            "\u001b[01;36mlibidn2.so.0\u001b[0m@                                 libvtkInfovisCore-9.1.so.9.1.0\n",
            "libidn2.so.0.3.7                              \u001b[01;36mlibvtkInfovisLayout-9.1.so.1\u001b[0m@\n",
            "\u001b[01;36mlibiec61883.so.0\u001b[0m@                             libvtkInfovisLayout-9.1.so.9.1.0\n",
            "libiec61883.so.0.1.1                          \u001b[01;36mlibvtkInteractionImage-9.1.so.1\u001b[0m@\n",
            "\u001b[01;36mlibIex-2_5.so\u001b[0m@                                libvtkInteractionImage-9.1.so.9.1.0\n",
            "\u001b[01;36mlibIex-2_5.so.25\u001b[0m@                             \u001b[01;36mlibvtkInteractionStyle-9.1.so.1\u001b[0m@\n",
            "libIex-2_5.so.25.0.6                          libvtkInteractionStyle-9.1.so.9.1.0\n",
            "\u001b[01;36mlibIexMath-2_5.so\u001b[0m@                            \u001b[01;36mlibvtkInteractionWidgets-9.1.so.1\u001b[0m@\n",
            "\u001b[01;36mlibIexMath-2_5.so.25\u001b[0m@                         libvtkInteractionWidgets-9.1.so.9.1.0\n",
            "libIexMath-2_5.so.25.0.6                      \u001b[01;36mlibvtkIOAMR-9.1.so.1\u001b[0m@\n",
            "\u001b[01;36mlibIexMath.so\u001b[0m@                                libvtkIOAMR-9.1.so.9.1.0\n",
            "\u001b[01;36mlibIex.so\u001b[0m@                                    \u001b[01;36mlibvtkIOAsynchronous-9.1.so.1\u001b[0m@\n",
            "\u001b[01;36mlibIlmImf-2_5.so\u001b[0m@                             libvtkIOAsynchronous-9.1.so.9.1.0\n",
            "\u001b[01;36mlibIlmImf-2_5.so.25\u001b[0m@                          \u001b[01;36mlibvtkIOCGNSReader-9.1.so.1\u001b[0m@\n",
            "libIlmImf-2_5.so.25.0.6                       libvtkIOCGNSReader-9.1.so.9.1.0\n",
            "\u001b[01;36mlibIlmImf.so\u001b[0m@                                 \u001b[01;36mlibvtkIOChemistry-9.1.so.1\u001b[0m@\n",
            "\u001b[01;36mlibIlmImfUtil-2_5.so\u001b[0m@                         libvtkIOChemistry-9.1.so.9.1.0\n",
            "\u001b[01;36mlibIlmImfUtil-2_5.so.25\u001b[0m@                      \u001b[01;36mlibvtkIOCityGML-9.1.so.1\u001b[0m@\n",
            "libIlmImfUtil-2_5.so.25.0.6                   libvtkIOCityGML-9.1.so.9.1.0\n",
            "\u001b[01;36mlibIlmImfUtil.so\u001b[0m@                             \u001b[01;36mlibvtkIOCONVERGECFD-9.1.so.1\u001b[0m@\n",
            "\u001b[01;36mlibIlmThread-2_5.so\u001b[0m@                          libvtkIOCONVERGECFD-9.1.so.9.1.0\n",
            "\u001b[01;36mlibIlmThread-2_5.so.25\u001b[0m@                       \u001b[01;36mlibvtkIOCore-9.1.so.1\u001b[0m@\n",
            "libIlmThread-2_5.so.25.0.6                    libvtkIOCore-9.1.so.9.1.0\n",
            "\u001b[01;36mlibIlmThread.so\u001b[0m@                              \u001b[01;36mlibvtkIOEnSight-9.1.so.1\u001b[0m@\n",
            "\u001b[01;36mlibImath-2_5.so\u001b[0m@                              libvtkIOEnSight-9.1.so.9.1.0\n",
            "\u001b[01;36mlibImath-2_5.so.25\u001b[0m@                           \u001b[01;36mlibvtkIOExodus-9.1.so.1\u001b[0m@\n",
            "libImath-2_5.so.25.0.6                        libvtkIOExodus-9.1.so.9.1.0\n",
            "\u001b[01;36mlibImath.so\u001b[0m@                                  \u001b[01;36mlibvtkIOExport-9.1.so.1\u001b[0m@\n",
            "\u001b[01;36mlibinfinipath.so.4\u001b[0m@                           libvtkIOExport-9.1.so.9.1.0\n",
            "libinfinipath.so.4.0                          \u001b[01;36mlibvtkIOExportGL2PS-9.1.so.1\u001b[0m@\n",
            "\u001b[01;36mlibip4tc.so.2\u001b[0m@                                libvtkIOExportGL2PS-9.1.so.9.1.0\n",
            "libip4tc.so.2.0.0                             \u001b[01;36mlibvtkIOExportPDF-9.1.so.1\u001b[0m@\n",
            "libipathverbs-rdmav34.a                       libvtkIOExportPDF-9.1.so.9.1.0\n",
            "libirdma-rdmav34.a                            \u001b[01;36mlibvtkIOGeometry-9.1.so.1\u001b[0m@\n",
            "\u001b[01;36mlibisl.so.23\u001b[0m@                                 libvtkIOGeometry-9.1.so.9.1.0\n",
            "libisl.so.23.1.0                              \u001b[01;36mlibvtkIOHDF-9.1.so.1\u001b[0m@\n",
            "\u001b[01;36mlibitm.so.1\u001b[0m@                                  libvtkIOHDF-9.1.so.9.1.0\n",
            "libitm.so.1.0.0                               \u001b[01;36mlibvtkIOImage-9.1.so.1\u001b[0m@\n",
            "libjack.a                                     libvtkIOImage-9.1.so.9.1.0\n",
            "libjackserver.a                               \u001b[01;36mlibvtkIOImport-9.1.so.1\u001b[0m@\n",
            "\u001b[01;36mlibjackserver.so\u001b[0m@                             libvtkIOImport-9.1.so.9.1.0\n",
            "\u001b[01;36mlibjackserver.so.0\u001b[0m@                           \u001b[01;36mlibvtkIOInfovis-9.1.so.1\u001b[0m@\n",
            "libjackserver.so.0.0.28                       libvtkIOInfovis-9.1.so.9.1.0\n",
            "\u001b[01;36mlibjack.so\u001b[0m@                                   \u001b[01;36mlibvtkIOIOSS-9.1.so.1\u001b[0m@\n",
            "\u001b[01;36mlibjack.so.0\u001b[0m@                                 libvtkIOIOSS-9.1.so.9.1.0\n",
            "libjack.so.0.0.28                             \u001b[01;36mlibvtkIOLegacy-9.1.so.1\u001b[0m@\n",
            "libjbig.a                                     libvtkIOLegacy-9.1.so.9.1.0\n",
            "\u001b[01;36mlibjbig.so\u001b[0m@                                   \u001b[01;36mlibvtkIOLSDyna-9.1.so.1\u001b[0m@\n",
            "libjbig.so.0                                  libvtkIOLSDyna-9.1.so.9.1.0\n",
            "libjpeg.a                                     \u001b[01;36mlibvtkIOMINC-9.1.so.1\u001b[0m@\n",
            "\u001b[01;36mlibjpeg.so\u001b[0m@                                   libvtkIOMINC-9.1.so.9.1.0\n",
            "\u001b[01;36mlibjpeg.so.8\u001b[0m@                                 \u001b[01;36mlibvtkIOMotionFX-9.1.so.1\u001b[0m@\n",
            "libjpeg.so.8.2.2                              libvtkIOMotionFX-9.1.so.9.1.0\n",
            "libjson-c.a                                   \u001b[01;36mlibvtkIOMovie-9.1.so.1\u001b[0m@\n",
            "libjsoncpp.so.1.9.5                           libvtkIOMovie-9.1.so.9.1.0\n",
            "\u001b[01;36mlibjsoncpp.so.25\u001b[0m@                             \u001b[01;36mlibvtkIOMPIImage-9.1.so.1\u001b[0m@\n",
            "\u001b[01;36mlibjson-c.so\u001b[0m@                                 libvtkIOMPIImage-9.1.so.9.1.0\n",
            "\u001b[01;36mlibjson-c.so.5\u001b[0m@                               \u001b[01;36mlibvtkIOMPIParallel-9.1.so.1\u001b[0m@\n",
            "libjson-c.so.5.1.0                            libvtkIOMPIParallel-9.1.so.9.1.0\n",
            "\u001b[01;36mlibk5crypto.so\u001b[0m@                               \u001b[01;36mlibvtkIONetCDF-9.1.so.1\u001b[0m@\n",
            "\u001b[01;36mlibk5crypto.so.3\u001b[0m@                             libvtkIONetCDF-9.1.so.9.1.0\n",
            "libk5crypto.so.3.1                            \u001b[01;36mlibvtkIOOggTheora-9.1.so.1\u001b[0m@\n",
            "\u001b[01;36mlibkadm5clnt_mit.so\u001b[0m@                          libvtkIOOggTheora-9.1.so.9.1.0\n",
            "\u001b[01;36mlibkadm5clnt_mit.so.12\u001b[0m@                       \u001b[01;36mlibvtkIOParallel-9.1.so.1\u001b[0m@\n",
            "libkadm5clnt_mit.so.12.0                      libvtkIOParallel-9.1.so.9.1.0\n",
            "\u001b[01;36mlibkadm5clnt.so\u001b[0m@                              \u001b[01;36mlibvtkIOParallelNetCDF-9.1.so.1\u001b[0m@\n",
            "\u001b[01;36mlibkadm5srv_mit.so\u001b[0m@                           libvtkIOParallelNetCDF-9.1.so.9.1.0\n",
            "\u001b[01;36mlibkadm5srv_mit.so.12\u001b[0m@                        \u001b[01;36mlibvtkIOParallelXML-9.1.so.1\u001b[0m@\n",
            "libkadm5srv_mit.so.12.0                       libvtkIOParallelXML-9.1.so.9.1.0\n",
            "\u001b[01;36mlibkadm5srv.so\u001b[0m@                               \u001b[01;36mlibvtkIOPLY-9.1.so.1\u001b[0m@\n",
            "\u001b[01;36mlibkdb5.so\u001b[0m@                                   libvtkIOPLY-9.1.so.9.1.0\n",
            "\u001b[01;36mlibkdb5.so.10\u001b[0m@                                \u001b[01;36mlibvtkIOSegY-9.1.so.1\u001b[0m@\n",
            "libkdb5.so.10.0                               libvtkIOSegY-9.1.so.9.1.0\n",
            "\u001b[01;36mlibkeyutils.so.1\u001b[0m@                             \u001b[01;36mlibvtkIOSQL-9.1.so.1\u001b[0m@\n",
            "libkeyutils.so.1.9                            libvtkIOSQL-9.1.so.9.1.0\n",
            "\u001b[01;36mlibkmlbase.so\u001b[0m@                                \u001b[01;36mlibvtkioss-9.1.so.1\u001b[0m@\n",
            "\u001b[01;36mlibkmlbase.so.1\u001b[0m@                              libvtkioss-9.1.so.9.1.0\n",
            "libkmlbase.so.1.3.0                           \u001b[01;36mlibvtkIOTecplotTable-9.1.so.1\u001b[0m@\n",
            "\u001b[01;36mlibkmlconvenience.so\u001b[0m@                         libvtkIOTecplotTable-9.1.so.9.1.0\n",
            "\u001b[01;36mlibkmlconvenience.so.1\u001b[0m@                       \u001b[01;36mlibvtkIOVeraOut-9.1.so.1\u001b[0m@\n",
            "libkmlconvenience.so.1.3.0                    libvtkIOVeraOut-9.1.so.9.1.0\n",
            "\u001b[01;36mlibkmldom.so\u001b[0m@                                 \u001b[01;36mlibvtkIOVideo-9.1.so.1\u001b[0m@\n",
            "\u001b[01;36mlibkmldom.so.1\u001b[0m@                               libvtkIOVideo-9.1.so.9.1.0\n",
            "libkmldom.so.1.3.0                            \u001b[01;36mlibvtkIOXML-9.1.so.1\u001b[0m@\n",
            "\u001b[01;36mlibkmlengine.so\u001b[0m@                              libvtkIOXML-9.1.so.9.1.0\n",
            "\u001b[01;36mlibkmlengine.so.1\u001b[0m@                            \u001b[01;36mlibvtkIOXMLParser-9.1.so.1\u001b[0m@\n",
            "libkmlengine.so.1.3.0                         libvtkIOXMLParser-9.1.so.9.1.0\n",
            "\u001b[01;36mlibkmlregionator.so\u001b[0m@                          \u001b[01;36mlibvtkJava-9.1.so.1\u001b[0m@\n",
            "\u001b[01;36mlibkmlregionator.so.1\u001b[0m@                        libvtkJava-9.1.so.9.1.0\n",
            "libkmlregionator.so.1.3.0                     \u001b[01;36mlibvtkkissfft-9.1.so.1\u001b[0m@\n",
            "\u001b[01;36mlibkmlxsd.so\u001b[0m@                                 libvtkkissfft-9.1.so.9.1.0\n",
            "\u001b[01;36mlibkmlxsd.so.1\u001b[0m@                               \u001b[01;36mlibvtklibharu-9.1.so.1\u001b[0m@\n",
            "libkmlxsd.so.1.3.0                            libvtklibharu-9.1.so.9.1.0\n",
            "\u001b[01;36mlibkmod.so.2\u001b[0m@                                 \u001b[01;36mlibvtkloguru-9.1.so.1\u001b[0m@\n",
            "libkmod.so.2.3.7                              libvtkloguru-9.1.so.9.1.0\n",
            "\u001b[01;36mlibkrb5.so\u001b[0m@                                   \u001b[01;36mlibvtkmetaio-9.1.so.1\u001b[0m@\n",
            "\u001b[01;36mlibkrb5.so.3\u001b[0m@                                 libvtkmetaio-9.1.so.9.1.0\n",
            "libkrb5.so.3.3                                \u001b[01;36mlibvtkParallelCore-9.1.so.1\u001b[0m@\n",
            "\u001b[01;36mlibkrb5support.so\u001b[0m@                            libvtkParallelCore-9.1.so.9.1.0\n",
            "\u001b[01;36mlibkrb5support.so.0\u001b[0m@                          \u001b[01;36mlibvtkParallelDIY-9.1.so.1\u001b[0m@\n",
            "libkrb5support.so.0.1                         libvtkParallelDIY-9.1.so.9.1.0\n",
            "\u001b[01;36mlibksba.so.8\u001b[0m@                                 \u001b[01;36mlibvtkParallelMPI4Py-9.1.so.1\u001b[0m@\n",
            "libksba.so.8.14.0                             libvtkParallelMPI4Py-9.1.so.9.1.0\n",
            "\u001b[01;36mliblab_gamut.so.1\u001b[0m@                            \u001b[01;36mlibvtkParallelMPI-9.1.so.1\u001b[0m@\n",
            "liblab_gamut.so.1.0.0                         libvtkParallelMPI-9.1.so.9.1.0\n",
            "\u001b[01;36mliblapack64.so\u001b[0m@                               \u001b[01;36mlibvtkpugixml-9.1.so.1\u001b[0m@\n",
            "\u001b[01;36mliblapack64.so.3\u001b[0m@                             libvtkpugixml-9.1.so.9.1.0\n",
            "\u001b[01;36mliblapack.a\u001b[0m@                                  \u001b[01;36mlibvtkPythonContext2D-9.1.so.1\u001b[0m@\n",
            "liblapack_atlas.a                             libvtkPythonContext2D-9.1.so.9.1.0\n",
            "\u001b[01;36mliblapack_atlas.so\u001b[0m@                           \u001b[01;36mlibvtkPythonInterpreter-9.1.so.1\u001b[0m@\n",
            "\u001b[01;36mliblapack_atlas.so.3\u001b[0m@                         libvtkPythonInterpreter-9.1.so.9.1.0\n",
            "liblapack_atlas.so.3.10.3                     \u001b[01;36mlibvtkRenderingAnnotation-9.1.so.1\u001b[0m@\n",
            "liblapack_pic.a                               libvtkRenderingAnnotation-9.1.so.9.1.0\n",
            "\u001b[01;36mliblapack.so\u001b[0m@                                 \u001b[01;36mlibvtkRenderingContext2D-9.1.so.1\u001b[0m@\n",
            "\u001b[01;36mliblapack.so.3\u001b[0m@                               libvtkRenderingContext2D-9.1.so.9.1.0\n",
            "\u001b[01;36mliblber-2.5.so.0\u001b[0m@                             \u001b[01;36mlibvtkRenderingContextOpenGL2-9.1.so.1\u001b[0m@\n",
            "liblber-2.5.so.0.1.11                         libvtkRenderingContextOpenGL2-9.1.so.9.1.0\n",
            "\u001b[01;36mliblcms2.so.2\u001b[0m@                                \u001b[01;36mlibvtkRenderingCore-9.1.so.1\u001b[0m@\n",
            "liblcms2.so.2.0.12                            libvtkRenderingCore-9.1.so.9.1.0\n",
            "\u001b[01;36mlibldap-2.5.so.0\u001b[0m@                             \u001b[01;36mlibvtkRenderingFreeType-9.1.so.1\u001b[0m@\n",
            "libldap-2.5.so.0.1.11                         libvtkRenderingFreeType-9.1.so.9.1.0\n",
            "\u001b[01;36mliblept.so.5\u001b[0m@                                 \u001b[01;36mlibvtkRenderingGL2PSOpenGL2-9.1.so.1\u001b[0m@\n",
            "liblept.so.5.0.4                              libvtkRenderingGL2PSOpenGL2-9.1.so.9.1.0\n",
            "\u001b[01;36mliblilv-0.so.0\u001b[0m@                               \u001b[01;36mlibvtkRenderingImage-9.1.so.1\u001b[0m@\n",
            "liblilv-0.so.0.24.12                          libvtkRenderingImage-9.1.so.9.1.0\n",
            "\u001b[01;36mlibLLVM-14.so\u001b[0m@                                \u001b[01;36mlibvtkRenderingLabel-9.1.so.1\u001b[0m@\n",
            "libLLVM-14.so.1                               libvtkRenderingLabel-9.1.so.9.1.0\n",
            "\u001b[01;36mlibLLVM-15.so\u001b[0m@                                \u001b[01;36mlibvtkRenderingLOD-9.1.so.1\u001b[0m@\n",
            "libLLVM-15.so.1                               libvtkRenderingLOD-9.1.so.9.1.0\n",
            "\u001b[01;36mliblsan.so.0\u001b[0m@                                 \u001b[01;36mlibvtkRenderingOpenGL2-9.1.so.1\u001b[0m@\n",
            "liblsan.so.0.0.0                              libvtkRenderingOpenGL2-9.1.so.9.1.0\n",
            "libltdl.a                                     \u001b[01;36mlibvtkRenderingSceneGraph-9.1.so.1\u001b[0m@\n",
            "\u001b[01;36mlibltdl.so\u001b[0m@                                   libvtkRenderingSceneGraph-9.1.so.9.1.0\n",
            "\u001b[01;36mlibltdl.so.7\u001b[0m@                                 \u001b[01;36mlibvtkRenderingTk-9.1.so.1\u001b[0m@\n",
            "libltdl.so.7.3.1                              libvtkRenderingTk-9.1.so.9.1.0\n",
            "liblz4.a                                      \u001b[01;36mlibvtkRenderingUI-9.1.so.1\u001b[0m@\n",
            "\u001b[01;36mliblz4.so\u001b[0m@                                    libvtkRenderingUI-9.1.so.9.1.0\n",
            "\u001b[01;36mliblz4.so.1\u001b[0m@                                  \u001b[01;36mlibvtkRenderingVolume-9.1.so.1\u001b[0m@\n",
            "liblz4.so.1.9.3                               libvtkRenderingVolume-9.1.so.9.1.0\n",
            "liblzma.a                                     \u001b[01;36mlibvtkRenderingVolumeOpenGL2-9.1.so.1\u001b[0m@\n",
            "\u001b[01;36mliblzma.so\u001b[0m@                                   libvtkRenderingVolumeOpenGL2-9.1.so.9.1.0\n",
            "\u001b[01;36mliblzma.so.5\u001b[0m@                                 \u001b[01;36mlibvtkRenderingVtkJS-9.1.so.1\u001b[0m@\n",
            "liblzma.so.5.2.5                              libvtkRenderingVtkJS-9.1.so.9.1.0\n",
            "libm-2.35.a                                   \u001b[01;36mlibvtksys-9.1.so.1\u001b[0m@\n",
            "libm.a                                        libvtksys-9.1.so.9.1.0\n",
            "\u001b[01;36mlibmagic.so.1\u001b[0m@                                \u001b[01;36mlibvtkTestingRendering-9.1.so.1\u001b[0m@\n",
            "libmagic.so.1.0.0                             libvtkTestingRendering-9.1.so.9.1.0\n",
            "libmbedcrypto.a                               \u001b[01;36mlibvtkverdict-9.1.so.1\u001b[0m@\n",
            "\u001b[01;36mlibmbedcrypto.so\u001b[0m@                             libvtkverdict-9.1.so.9.1.0\n",
            "libmbedcrypto.so.2.28.0                       \u001b[01;36mlibvtkViewsContext2D-9.1.so.1\u001b[0m@\n",
            "\u001b[01;36mlibmbedcrypto.so.7\u001b[0m@                           libvtkViewsContext2D-9.1.so.9.1.0\n",
            "libmbedtls.a                                  \u001b[01;36mlibvtkViewsCore-9.1.so.1\u001b[0m@\n",
            "\u001b[01;36mlibmbedtls.so\u001b[0m@                                libvtkViewsCore-9.1.so.9.1.0\n",
            "\u001b[01;36mlibmbedtls.so.14\u001b[0m@                             \u001b[01;36mlibvtkViewsInfovis-9.1.so.1\u001b[0m@\n",
            "libmbedtls.so.2.28.0                          libvtkViewsInfovis-9.1.so.9.1.0\n",
            "libmbedx509.a                                 \u001b[01;36mlibvtkWrappingPythonCore3.10-9.1.so.1\u001b[0m@\n",
            "\u001b[01;36mlibmbedx509.so\u001b[0m@                               libvtkWrappingPythonCore3.10-9.1.so.9.1.0\n",
            "\u001b[01;36mlibmbedx509.so.1\u001b[0m@                             \u001b[01;36mlibvtkWrappingTools-9.1.so.1\u001b[0m@\n",
            "libmbedx509.so.2.28.0                         libvtkWrappingTools-9.1.so.9.1.0\n",
            "\u001b[01;36mlibmca_common_monitoring.so\u001b[0m@                  \u001b[01;36mlibwayland-client.so.0\u001b[0m@\n",
            "\u001b[01;36mlibmca_common_monitoring.so.50\u001b[0m@               libwayland-client.so.0.20.0\n",
            "libmca_common_monitoring.so.50.20.0           \u001b[01;36mlibwayland-cursor.so.0\u001b[0m@\n",
            "\u001b[01;36mlibmca_common_ofi.so\u001b[0m@                         libwayland-cursor.so.0.20.0\n",
            "\u001b[01;36mlibmca_common_ofi.so.10\u001b[0m@                      \u001b[01;36mlibwayland-egl.so.1\u001b[0m@\n",
            "libmca_common_ofi.so.10.0.2                   libwayland-egl.so.1.20.0\n",
            "\u001b[01;36mlibmca_common_ompio.so\u001b[0m@                       \u001b[01;36mlibwayland-server.so.0\u001b[0m@\n",
            "\u001b[01;36mlibmca_common_ompio.so.41\u001b[0m@                    libwayland-server.so.0.20.0\n",
            "libmca_common_ompio.so.41.29.2                libwebp.a\n",
            "\u001b[01;36mlibmca_common_sm.so\u001b[0m@                          libwebpdemux.a\n",
            "\u001b[01;36mlibmca_common_sm.so.40\u001b[0m@                       \u001b[01;36mlibwebpdemux.so\u001b[0m@\n",
            "libmca_common_sm.so.40.30.0                   \u001b[01;36mlibwebpdemux.so.2\u001b[0m@\n",
            "\u001b[01;36mlibmca_common_ucx.so\u001b[0m@                         libwebpdemux.so.2.0.9\n",
            "\u001b[01;36mlibmca_common_ucx.so.40\u001b[0m@                      libwebpmux.a\n",
            "libmca_common_ucx.so.40.30.1                  \u001b[01;36mlibwebpmux.so\u001b[0m@\n",
            "\u001b[01;36mlibmca_common_verbs.so\u001b[0m@                       \u001b[01;36mlibwebpmux.so.3\u001b[0m@\n",
            "\u001b[01;36mlibmca_common_verbs.so.40\u001b[0m@                    libwebpmux.so.3.0.8\n",
            "libmca_common_verbs.so.40.30.0                \u001b[01;36mlibwebp.so\u001b[0m@\n",
            "libmcheck.a                                   \u001b[01;36mlibwebp.so.7\u001b[0m@\n",
            "libmd.a                                       libwebp.so.7.1.3\n",
            "\u001b[01;36mlibmd.so\u001b[0m@                                     libX11.a\n",
            "\u001b[01;36mlibmd.so.0\u001b[0m@                                   \u001b[01;36mlibX11.so\u001b[0m@\n",
            "libmd.so.0.0.5                                \u001b[01;36mlibX11.so.6\u001b[0m@\n",
            "libmemusage.so                                libX11.so.6.4.0\n",
            "libmenu.a                                     \u001b[01;36mlibX11-xcb.so.1\u001b[0m@\n",
            "\u001b[01;36mlibmenu.so\u001b[0m@                                   libX11-xcb.so.1.0.0\n",
            "\u001b[01;36mlibmenu.so.6\u001b[0m@                                 libx264.so.163\n",
            "libmenu.so.6.3                                libx265.a\n",
            "libmenuw.a                                    \u001b[01;36mlibx265.so\u001b[0m@\n",
            "\u001b[01;36mlibmenuw.so\u001b[0m@                                  libx265.so.199\n",
            "\u001b[01;36mlibmenuw.so.6\u001b[0m@                                libXau.a\n",
            "libmenuw.so.6.3                               \u001b[01;36mlibXau.so\u001b[0m@\n",
            "\u001b[01;36mlibmfxhw64.so.1\u001b[0m@                              \u001b[01;36mlibXau.so.6\u001b[0m@\n",
            "libmfxhw64.so.1.35                            libXau.so.6.0.0\n",
            "\u001b[01;36mlibmfx.so.1\u001b[0m@                                  \u001b[01;36mlibXaw7.so.7\u001b[0m@\n",
            "libmfx.so.1.35                                libXaw7.so.7.0.0\n",
            "\u001b[01;36mlibmfx-tracer.so.1\u001b[0m@                           \u001b[01;36mlibXaw.so.7\u001b[0m@\n",
            "libmfx-tracer.so.1.35                         libxcb.a\n",
            "libminizip.a                                  \u001b[01;36mlibxcb-dri2.so.0\u001b[0m@\n",
            "\u001b[01;36mlibminizip.so\u001b[0m@                                libxcb-dri2.so.0.0.0\n",
            "\u001b[01;36mlibminizip.so.1\u001b[0m@                              \u001b[01;36mlibxcb-dri3.so.0\u001b[0m@\n",
            "libminizip.so.1.0.0                           libxcb-dri3.so.0.0.0\n",
            "libmkl_avx2.so                                \u001b[01;36mlibxcb-glx.so.0\u001b[0m@\n",
            "libmkl_avx512_mic.so                          libxcb-glx.so.0.0.0\n",
            "libmkl_avx512.so                              \u001b[01;36mlibxcb-present.so.0\u001b[0m@\n",
            "libmkl_avx.so                                 libxcb-present.so.0.0.0\n",
            "libmkl_blas95_ilp64.a                         \u001b[01;36mlibxcb-randr.so.0\u001b[0m@\n",
            "libmkl_blas95_lp64.a                          libxcb-randr.so.0.1.0\n",
            "libmkl_core.a                                 \u001b[01;36mlibxcb-render.so.0\u001b[0m@\n",
            "libmkl_core.so                                libxcb-render.so.0.0.0\n",
            "libmkl_def.so                                 \u001b[01;36mlibxcb-shape.so.0\u001b[0m@\n",
            "libmkl_gf_ilp64.a                             libxcb-shape.so.0.0.0\n",
            "libmkl_gf_ilp64.so                            \u001b[01;36mlibxcb-shm.so.0\u001b[0m@\n",
            "libmkl_gf_lp64.a                              libxcb-shm.so.0.0.0\n",
            "libmkl_gf_lp64.so                             \u001b[01;36mlibxcb.so\u001b[0m@\n",
            "libmkl_gnu_thread.a                           \u001b[01;36mlibxcb.so.1\u001b[0m@\n",
            "libmkl_gnu_thread.so                          libxcb.so.1.1.0\n",
            "libmkl_intel_ilp64.a                          \u001b[01;36mlibxcb-sync.so.1\u001b[0m@\n",
            "libmkl_intel_ilp64.so                         libxcb-sync.so.1.0.0\n",
            "libmkl_intel_lp64.a                           \u001b[01;36mlibxcb-xfixes.so.0\u001b[0m@\n",
            "libmkl_intel_lp64.so                          libxcb-xfixes.so.0.0.0\n",
            "libmkl_intel_thread.a                         \u001b[01;36mlibXcomposite.so.1\u001b[0m@\n",
            "libmkl_intel_thread.so                        libXcomposite.so.1.0.0\n",
            "libmkl_lapack95_ilp64.a                       \u001b[01;36mlibXcursor.so.1\u001b[0m@\n",
            "libmkl_lapack95_lp64.a                        libXcursor.so.1.0.2\n",
            "libmkl_mc3.so                                 \u001b[01;36mlibXdamage.so.1\u001b[0m@\n",
            "libmkl_mc.so                                  libXdamage.so.1.1.0\n",
            "libmkl_pgi_thread.a                           libXdmcp.a\n",
            "libmkl_pgi_thread.so                          \u001b[01;36mlibXdmcp.so\u001b[0m@\n",
            "libmkl_rt.so                                  \u001b[01;36mlibXdmcp.so.6\u001b[0m@\n",
            "libmkl_sequential.a                           libXdmcp.so.6.0.0\n",
            "libmkl_sequential.so                          libxerces-c-3.2.so\n",
            "libmkl_tbb_thread.a                           libxerces-c.a\n",
            "libmkl_tbb_thread.so                          \u001b[01;36mlibxerces-c.so\u001b[0m@\n",
            "libmkl_vml_avx2.so                            libXext.a\n",
            "libmkl_vml_avx512_mic.so                      \u001b[01;36mlibXext.so\u001b[0m@\n",
            "libmkl_vml_avx512.so                          \u001b[01;36mlibXext.so.6\u001b[0m@\n",
            "libmkl_vml_avx.so                             libXext.so.6.4.0\n",
            "libmkl_vml_cmpt.so                            \u001b[01;36mlibXfixes.so.3\u001b[0m@\n",
            "libmkl_vml_def.so                             libXfixes.so.3.1.0\n",
            "libmkl_vml_mc2.so                             libXft.a\n",
            "libmkl_vml_mc3.so                             \u001b[01;36mlibXft.so\u001b[0m@\n",
            "libmkl_vml_mc.so                              \u001b[01;36mlibXft.so.2\u001b[0m@\n",
            "libmlx4.a                                     libXft.so.2.3.4\n",
            "\u001b[01;36mlibmlx4.so\u001b[0m@                                   \u001b[01;36mlibXinerama.so.1\u001b[0m@\n",
            "\u001b[01;36mlibmlx4.so.1\u001b[0m@                                 libXinerama.so.1.0.0\n",
            "libmlx4.so.1.0.39.0                           \u001b[01;36mlibXi.so.6\u001b[0m@\n",
            "libmlx5.a                                     libXi.so.6.1.0\n",
            "\u001b[01;36mlibmlx5.so\u001b[0m@                                   \u001b[01;36mlibxkbcommon.so.0\u001b[0m@\n",
            "\u001b[01;36mlibmlx5.so.1\u001b[0m@                                 libxkbcommon.so.0.0.0\n",
            "libmlx5.so.1.22.39.0                          libxml2.a\n",
            "\u001b[01;36mlibmnl.so.0\u001b[0m@                                  \u001b[01;36mlibxml2.so\u001b[0m@\n",
            "libmnl.so.0.2.0                               \u001b[01;36mlibxml2.so.2\u001b[0m@\n",
            "\u001b[01;36mlibmount.so.1\u001b[0m@                                libxml2.so.2.9.13\n",
            "libmount.so.1.1.0                             \u001b[01;36mlibxmlb.so.2\u001b[0m@\n",
            "\u001b[01;36mlibmp3lame.so.0\u001b[0m@                              libxmlb.so.2.0.0\n",
            "libmp3lame.so.0.0.0                           \u001b[01;36mlibXmu.so.6\u001b[0m@\n",
            "\u001b[01;36mlibmpc.so.3\u001b[0m@                                  libXmu.so.6.2.0\n",
            "libmpc.so.3.2.1                               \u001b[01;36mlibXmuu.so.1\u001b[0m@\n",
            "libmpdec++.so.2.5.1                           libXmuu.so.1.0.0\n",
            "libmpdec.so.2.5.1                             \u001b[01;36mlibXNVCtrl.so.0\u001b[0m@\n",
            "\u001b[01;36mlibmpdec++.so.3\u001b[0m@                              libXNVCtrl.so.0.0.0\n",
            "\u001b[01;36mlibmpdec.so.3\u001b[0m@                                \u001b[01;36mlibXpm.so.4\u001b[0m@\n",
            "\u001b[01;36mlibmpfr.so.6\u001b[0m@                                 libXpm.so.4.11.0\n",
            "libmpfr.so.6.1.0                              \u001b[01;36mlibXrandr.so.2\u001b[0m@\n",
            "\u001b[01;36mlibmpg123.so.0\u001b[0m@                               libXrandr.so.2.2.0\n",
            "libmpg123.so.0.46.7                           libXrender.a\n",
            "\u001b[01;36mlibmpi_cxx.so\u001b[0m@                                \u001b[01;36mlibXrender.so\u001b[0m@\n",
            "\u001b[01;36mlibmpi_cxx.so.40\u001b[0m@                             \u001b[01;36mlibXrender.so.1\u001b[0m@\n",
            "libmpi_cxx.so.40.30.1                         libXrender.so.1.3.0\n",
            "\u001b[01;36mlibmpi_java.so\u001b[0m@                               \u001b[01;36mlibxshmfence.so.1\u001b[0m@\n",
            "\u001b[01;36mlibmpi_java.so.40\u001b[0m@                            libxshmfence.so.1.0.0\n",
            "libmpi_java.so.40.30.0                        \u001b[01;36mlibxslt.so.1\u001b[0m@\n",
            "\u001b[01;36mlibmpi_mpifh-gfortran.so\u001b[0m@                     libxslt.so.1.1.34\n",
            "\u001b[01;36mlibmpi_mpifh-gfortran.so.40\u001b[0m@                  libXss.a\n",
            "libmpi_mpifh-gfortran.so.40.30.0              \u001b[01;36mlibXss.so\u001b[0m@\n",
            "\u001b[01;36mlibmpi_mpifh.so\u001b[0m@                              \u001b[01;36mlibXss.so.1\u001b[0m@\n",
            "\u001b[01;36mlibmpi_mpifh.so.40\u001b[0m@                           libXss.so.1.0.0\n",
            "libmpi_mpifh.so.40.30.0                       \u001b[01;36mlibxtables.so.12\u001b[0m@\n",
            "\u001b[01;36mlibmpi++.so\u001b[0m@                                  libxtables.so.12.4.0\n",
            "\u001b[01;36mlibmpi.so\u001b[0m@                                    \u001b[01;36mlibXt.so.6\u001b[0m@\n",
            "\u001b[01;36mlibmpi.so.40\u001b[0m@                                 libXt.so.6.0.0\n",
            "libmpi.so.40.30.2                             \u001b[01;36mlibxvidcore.so.4\u001b[0m@\n",
            "\u001b[01;36mlibmpi_usempif08-gfortran.so\u001b[0m@                 libxvidcore.so.4.3\n",
            "\u001b[01;36mlibmpi_usempif08-gfortran.so.40\u001b[0m@              \u001b[01;36mlibXv.so.1\u001b[0m@\n",
            "libmpi_usempif08-gfortran.so.40.30.0          libXv.so.1.0.0\n",
            "\u001b[01;36mlibmpi_usempif08.so\u001b[0m@                          \u001b[01;36mlibXxf86vm.so.1\u001b[0m@\n",
            "\u001b[01;36mlibmpi_usempif08.so.40\u001b[0m@                       libXxf86vm.so.1.0.0\n",
            "libmpi_usempif08.so.40.30.0                   \u001b[01;36mlibxxhash.so.0\u001b[0m@\n",
            "\u001b[01;36mlibmpi_usempi_ignore_tkr-gfortran.so\u001b[0m@         libxxhash.so.0.8.1\n",
            "\u001b[01;36mlibmpi_usempi_ignore_tkr-gfortran.so.40\u001b[0m@      \u001b[01;36mlibyaml-0.so.2\u001b[0m@\n",
            "libmpi_usempi_ignore_tkr-gfortran.so.40.30.0  libyaml-0.so.2.0.6\n",
            "\u001b[01;36mlibmpi_usempi_ignore_tkr.so\u001b[0m@                  libz.a\n",
            "\u001b[01;36mlibmpi_usempi_ignore_tkr.so.40\u001b[0m@               \u001b[01;36mlibzimg.so.2\u001b[0m@\n",
            "libmpi_usempi_ignore_tkr.so.40.30.0           libzimg.so.2.0.0\n",
            "libm.so                                       libzmq.a\n",
            "libm.so.6                                     \u001b[01;36mlibzmq.so\u001b[0m@\n",
            "libmthca-rdmav34.a                            \u001b[01;36mlibzmq.so.5\u001b[0m@\n",
            "libmvec.a                                     libzmq.so.5.2.4\n",
            "\u001b[01;36mlibmvec.so\u001b[0m@                                   \u001b[01;36mlibz.so\u001b[0m@\n",
            "libmvec.so.1                                  \u001b[01;36mlibz.so.1\u001b[0m@\n",
            "\u001b[01;36mlibmysofa.so.1\u001b[0m@                               libz.so.1.2.11\n",
            "libmysofa.so.1.1.0                            libzstd.a\n",
            "libmysqlclient.a                              \u001b[01;36mlibzstd.so\u001b[0m@\n",
            "\u001b[01;36mlibmysqlclient.so\u001b[0m@                            \u001b[01;36mlibzstd.so.1\u001b[0m@\n",
            "\u001b[01;36mlibmysqlclient.so.21\u001b[0m@                         libzstd.so.1.4.8\n",
            "libmysqlclient.so.21.2.36                     \u001b[01;36mlibzvbi-chains.so.0\u001b[0m@\n",
            "libmysqlservices.a                            libzvbi-chains.so.0.0.0\n",
            "\u001b[01;36mlibnccl.so\u001b[0m@                                   \u001b[01;36mlibzvbi.so.0\u001b[0m@\n",
            "\u001b[01;36mlibnccl.so.2\u001b[0m@                                 libzvbi.so.0.13.2\n",
            "libnccl.so.2.19.3                             Mcrt1.o\n",
            "libnccl_static.a                              \u001b[01;34mmfx\u001b[0m/\n",
            "libncurses++.a                                \u001b[01;34mmit-krb5\u001b[0m/\n",
            "libncurses.a                                  \u001b[01;34mmkl\u001b[0m/\n",
            "libncurses.so                                 \u001b[01;34mnss\u001b[0m/\n",
            "\u001b[01;36mlibncurses.so.6\u001b[0m@                              \u001b[01;34mopenblas-pthread\u001b[0m/\n",
            "libncurses.so.6.3                             \u001b[01;36mopenjpeg-2.1\u001b[0m@\n",
            "libncurses++w.a                               \u001b[01;34mopenjpeg-2.4\u001b[0m/\n",
            "libncursesw.a                                 \u001b[01;34mopenmpi\u001b[0m/\n",
            "libncursesw.so                                \u001b[01;34mossl-modules\u001b[0m/\n",
            "\u001b[01;36mlibncursesw.so.6\u001b[0m@                             \u001b[01;34mpackagekit-backend\u001b[0m/\n",
            "libncursesw.so.6.3                            \u001b[01;34mperl\u001b[0m/\n",
            "\u001b[01;36mlibndctl.so.6\u001b[0m@                                \u001b[01;34mperl5\u001b[0m/\n",
            "libndctl.so.6.20.1                            \u001b[01;34mperl-base\u001b[0m/\n",
            "libnetcdf.settings                            \u001b[01;34mpkgconfig\u001b[0m/\n",
            "\u001b[01;36mlibnetcdf.so\u001b[0m@                                 \u001b[01;34mpmix2\u001b[0m/\n",
            "libnetcdf.so.19                               \u001b[01;34mpulseaudio\u001b[0m/\n",
            "\u001b[01;36mlibnettle.so.8\u001b[0m@                               rcrt1.o\n",
            "libnettle.so.8.4                              \u001b[01;34mrsocket\u001b[0m/\n",
            "\u001b[01;36mlibnghttp2.so.14\u001b[0m@                             \u001b[01;34msasl2\u001b[0m/\n",
            "libnghttp2.so.14.20.1                         Scrt1.o\n",
            "libnl-3.a                                     \u001b[01;34msecurity\u001b[0m/\n",
            "\u001b[01;36mlibnl-3.so\u001b[0m@                                   \u001b[01;34msndfile\u001b[0m/\n",
            "\u001b[01;36mlibnl-3.so.200\u001b[0m@                               \u001b[01;34mtcl8.6\u001b[0m/\n",
            "libnl-3.so.200.26.0                           \u001b[01;36mtclConfig.sh\u001b[0m@\n",
            "libnl-route-3.a                               \u001b[01;36mtclooConfig.sh\u001b[0m@\n",
            "\u001b[01;36mlibnl-route-3.so\u001b[0m@                             \u001b[01;34mtk8.6\u001b[0m/\n",
            "\u001b[01;36mlibnl-route-3.so.200\u001b[0m@                         \u001b[01;36mtkConfig.sh\u001b[0m@\n",
            "libnl-route-3.so.200.26.0                     \u001b[01;34mucx\u001b[0m/\n",
            "libnorm.a                                     \u001b[01;34mutempter\u001b[0m/\n",
            "\u001b[01;36mlibnorm.so\u001b[0m@                                   \u001b[01;34mvdpau\u001b[0m/\n",
            "libnorm.so.1                                  \u001b[01;34mvtk\u001b[0m/\n",
            "\u001b[01;36mlibnpth.so.0\u001b[0m@                                 xml2Conf.sh\n",
            "libnpth.so.0.1.2\n"
          ]
        }
      ]
    },
    {
      "cell_type": "code",
      "metadata": {
        "id": "Sb0k-UiGBbXK",
        "colab": {
          "base_uri": "https://localhost:8080/"
        },
        "outputId": "27d4e6bb-74f1-481d-9a88-944836718458"
      },
      "source": [
        "!pip install submitit\n",
        "%pip install clang pip install clang==14"
      ],
      "execution_count": null,
      "outputs": [
        {
          "output_type": "stream",
          "name": "stdout",
          "text": [
            "Requirement already satisfied: submitit in /usr/local/lib/python3.10/dist-packages (1.5.1)\n",
            "Requirement already satisfied: cloudpickle>=1.2.1 in /usr/local/lib/python3.10/dist-packages (from submitit) (2.2.1)\n",
            "Requirement already satisfied: typing_extensions>=3.7.4.2 in /usr/local/lib/python3.10/dist-packages (from submitit) (4.10.0)\n",
            "Requirement already satisfied: clang in /usr/local/lib/python3.10/dist-packages (14.0)\n",
            "Requirement already satisfied: pip in /usr/local/lib/python3.10/dist-packages (23.1.2)\n",
            "Requirement already satisfied: install in /usr/local/lib/python3.10/dist-packages (1.3.5)\n"
          ]
        }
      ]
    },
    {
      "cell_type": "code",
      "metadata": {
        "id": "P34fJMt-RY-V",
        "colab": {
          "base_uri": "https://localhost:8080/"
        },
        "outputId": "9ca3ef4d-7241-4953-c4cf-2b7db02634d9"
      },
      "source": [
        "! cd /usr/lib/x86_64-linux-gnu/\n",
        "! sudo ln -s libclang-14.so.1 libclang-14.so"
      ],
      "execution_count": null,
      "outputs": [
        {
          "output_type": "stream",
          "name": "stdout",
          "text": [
            "ln: failed to create symbolic link 'libclang-14.so': File exists\n"
          ]
        }
      ]
    },
    {
      "cell_type": "code",
      "source": [
        "libclang-14.so@                               libpcre2-16.so.0@\n",
        "libclang-14.so.1@ clang.cindex.Config.set_library_file('/usr/lib/x86_64-linux-gnu/libclang-14.so.1')"
      ],
      "metadata": {
        "id": "JGlqtOBY1vfG"
      },
      "execution_count": null,
      "outputs": []
    },
    {
      "cell_type": "code",
      "metadata": {
        "id": "pViWffR7BmxX",
        "colab": {
          "base_uri": "https://localhost:8080/"
        },
        "outputId": "684f9176-e054-46e3-f7af-098047ef0f8f"
      },
      "source": [
        "!git clone https://github.com/glample/fastBPE"
      ],
      "execution_count": null,
      "outputs": [
        {
          "output_type": "stream",
          "name": "stdout",
          "text": [
            "fatal: destination path 'fastBPE' already exists and is not an empty directory.\n"
          ]
        }
      ]
    },
    {
      "cell_type": "code",
      "metadata": {
        "id": "lex2TZ05BrkD"
      },
      "source": [
        "import os\n",
        "os.chdir(\"fastBPE\")"
      ],
      "execution_count": null,
      "outputs": []
    },
    {
      "cell_type": "code",
      "metadata": {
        "id": "u-sF3DvIByJT",
        "colab": {
          "base_uri": "https://localhost:8080/"
        },
        "outputId": "73dfce8d-c754-408f-bc4e-8237d40e39ef"
      },
      "source": [
        "!python setup.py install"
      ],
      "execution_count": null,
      "outputs": [
        {
          "output_type": "stream",
          "name": "stdout",
          "text": [
            "running install\n",
            "/usr/local/lib/python3.10/dist-packages/setuptools/_distutils/cmd.py:66: SetuptoolsDeprecationWarning: setup.py install is deprecated.\n",
            "!!\n",
            "\n",
            "        ********************************************************************************\n",
            "        Please avoid running ``setup.py`` directly.\n",
            "        Instead, use pypa/build, pypa/installer, pypa/build or\n",
            "        other standards-based tools.\n",
            "\n",
            "        See https://blog.ganssle.io/articles/2021/10/setup-py-deprecated.html for details.\n",
            "        ********************************************************************************\n",
            "\n",
            "!!\n",
            "  self.initialize_options()\n",
            "/usr/local/lib/python3.10/dist-packages/setuptools/_distutils/cmd.py:66: EasyInstallDeprecationWarning: easy_install command is deprecated.\n",
            "!!\n",
            "\n",
            "        ********************************************************************************\n",
            "        Please avoid running ``setup.py`` and ``easy_install``.\n",
            "        Instead, use pypa/build, pypa/installer, pypa/build or\n",
            "        other standards-based tools.\n",
            "\n",
            "        See https://github.com/pypa/setuptools/issues/917 for details.\n",
            "        ********************************************************************************\n",
            "\n",
            "!!\n",
            "  self.initialize_options()\n",
            "running bdist_egg\n",
            "running egg_info\n",
            "writing fastBPE.egg-info/PKG-INFO\n",
            "writing dependency_links to fastBPE.egg-info/dependency_links.txt\n",
            "writing top-level names to fastBPE.egg-info/top_level.txt\n",
            "reading manifest file 'fastBPE.egg-info/SOURCES.txt'\n",
            "reading manifest template 'MANIFEST.in'\n",
            "adding license file 'LICENSE'\n",
            "writing manifest file 'fastBPE.egg-info/SOURCES.txt'\n",
            "installing library code to build/bdist.linux-x86_64/egg\n",
            "running install_lib\n",
            "running build_py\n",
            "running build_ext\n",
            "creating build/bdist.linux-x86_64/egg\n",
            "copying build/lib.linux-x86_64-cpython-310/fastBPE.cpython-310-x86_64-linux-gnu.so -> build/bdist.linux-x86_64/egg\n",
            "creating stub loader for fastBPE.cpython-310-x86_64-linux-gnu.so\n",
            "byte-compiling build/bdist.linux-x86_64/egg/fastBPE.py to fastBPE.cpython-310.pyc\n",
            "creating build/bdist.linux-x86_64/egg/EGG-INFO\n",
            "copying fastBPE.egg-info/PKG-INFO -> build/bdist.linux-x86_64/egg/EGG-INFO\n",
            "copying fastBPE.egg-info/SOURCES.txt -> build/bdist.linux-x86_64/egg/EGG-INFO\n",
            "copying fastBPE.egg-info/dependency_links.txt -> build/bdist.linux-x86_64/egg/EGG-INFO\n",
            "copying fastBPE.egg-info/top_level.txt -> build/bdist.linux-x86_64/egg/EGG-INFO\n",
            "writing build/bdist.linux-x86_64/egg/EGG-INFO/native_libs.txt\n",
            "zip_safe flag not set; analyzing archive contents...\n",
            "__pycache__.fastBPE.cpython-310: module references __file__\n",
            "creating 'dist/fastBPE-0.1.1-py3.10-linux-x86_64.egg' and adding 'build/bdist.linux-x86_64/egg' to it\n",
            "removing 'build/bdist.linux-x86_64/egg' (and everything under it)\n",
            "Processing fastBPE-0.1.1-py3.10-linux-x86_64.egg\n",
            "removing '/usr/local/lib/python3.10/dist-packages/fastBPE-0.1.1-py3.10-linux-x86_64.egg' (and everything under it)\n",
            "creating /usr/local/lib/python3.10/dist-packages/fastBPE-0.1.1-py3.10-linux-x86_64.egg\n",
            "Extracting fastBPE-0.1.1-py3.10-linux-x86_64.egg to /usr/local/lib/python3.10/dist-packages\n",
            "fastBPE 0.1.1 is already the active version in easy-install.pth\n",
            "\n",
            "Installed /usr/local/lib/python3.10/dist-packages/fastBPE-0.1.1-py3.10-linux-x86_64.egg\n",
            "Processing dependencies for fastBPE==0.1.1\n",
            "Finished processing dependencies for fastBPE==0.1.1\n"
          ]
        }
      ]
    },
    {
      "cell_type": "code",
      "metadata": {
        "id": "p-Z1GJMJBynd"
      },
      "source": [
        "os.chdir(\"..\")"
      ],
      "execution_count": null,
      "outputs": []
    },
    {
      "cell_type": "code",
      "metadata": {
        "id": "u0d1S_ZkB3CD",
        "colab": {
          "base_uri": "https://localhost:8080/"
        },
        "outputId": "c750ec2a-20b0-4284-ca77-50f5f515d360"
      },
      "source": [
        "! git clone https://github.com/NVIDIA/apex"
      ],
      "execution_count": null,
      "outputs": [
        {
          "output_type": "stream",
          "name": "stdout",
          "text": [
            "fatal: destination path 'apex' already exists and is not an empty directory.\n"
          ]
        }
      ]
    },
    {
      "cell_type": "code",
      "metadata": {
        "id": "znkyngdCB8gl",
        "colab": {
          "base_uri": "https://localhost:8080/"
        },
        "outputId": "89f1504e-122b-433d-aa4d-a069a4cde542"
      },
      "source": [
        "os.chdir(\"apex\")\n",
        "!pip install -v --no-cache-dir ./"
      ],
      "execution_count": null,
      "outputs": [
        {
          "output_type": "stream",
          "name": "stdout",
          "text": [
            "Using pip 23.1.2 from /usr/local/lib/python3.10/dist-packages/pip (python 3.10)\n",
            "Processing /content/apex\n",
            "  Running command pip subprocess to install build dependencies\n",
            "  Using pip 23.1.2 from /usr/local/lib/python3.10/dist-packages/pip (python 3.10)\n",
            "  Collecting setuptools\n",
            "    Using cached setuptools-69.2.0-py3-none-any.whl (821 kB)\n",
            "  Collecting wheel\n",
            "    Using cached wheel-0.43.0-py3-none-any.whl (65 kB)\n",
            "  Installing collected packages: wheel, setuptools\n",
            "    Creating /tmp/pip-build-env-1bzdtgyw/overlay/local/bin\n",
            "    changing mode of /tmp/pip-build-env-1bzdtgyw/overlay/local/bin/wheel to 755\n",
            "  ERROR: pip's dependency resolver does not currently take into account all the packages that are installed. This behaviour is the source of the following dependency conflicts.\n",
            "  ipython 7.34.0 requires jedi>=0.16, which is not installed.\n",
            "  Successfully installed setuptools-69.2.0 wheel-0.43.0\n",
            "  Installing build dependencies ... \u001b[?25l\u001b[?25hdone\n",
            "  Running command Getting requirements to build wheel\n",
            "  Traceback (most recent call last):\n",
            "    File \"/usr/local/lib/python3.10/dist-packages/pip/_vendor/pyproject_hooks/_in_process/_in_process.py\", line 353, in <module>\n",
            "      main()\n",
            "    File \"/usr/local/lib/python3.10/dist-packages/pip/_vendor/pyproject_hooks/_in_process/_in_process.py\", line 335, in main\n",
            "      json_out['return_val'] = hook(**hook_input['kwargs'])\n",
            "    File \"/usr/local/lib/python3.10/dist-packages/pip/_vendor/pyproject_hooks/_in_process/_in_process.py\", line 118, in get_requires_for_build_wheel\n",
            "      return hook(config_settings)\n",
            "    File \"/tmp/pip-build-env-1bzdtgyw/overlay/local/lib/python3.10/dist-packages/setuptools/build_meta.py\", line 325, in get_requires_for_build_wheel\n",
            "      return self._get_build_requires(config_settings, requirements=['wheel'])\n",
            "    File \"/tmp/pip-build-env-1bzdtgyw/overlay/local/lib/python3.10/dist-packages/setuptools/build_meta.py\", line 295, in _get_build_requires\n",
            "      self.run_setup()\n",
            "    File \"/tmp/pip-build-env-1bzdtgyw/overlay/local/lib/python3.10/dist-packages/setuptools/build_meta.py\", line 311, in run_setup\n",
            "      exec(code, locals())\n",
            "    File \"<string>\", line 5, in <module>\n",
            "  ModuleNotFoundError: No module named 'packaging'\n",
            "  \u001b[1;31merror\u001b[0m: \u001b[1msubprocess-exited-with-error\u001b[0m\n",
            "  \n",
            "  \u001b[31m×\u001b[0m \u001b[32mGetting requirements to build wheel\u001b[0m did not run successfully.\n",
            "  \u001b[31m│\u001b[0m exit code: \u001b[1;36m1\u001b[0m\n",
            "  \u001b[31m╰─>\u001b[0m See above for output.\n",
            "  \n",
            "  \u001b[1;35mnote\u001b[0m: This error originates from a subprocess, and is likely not a problem with pip.\n",
            "  \u001b[1;35mfull command\u001b[0m: \u001b[34m/usr/bin/python3 /usr/local/lib/python3.10/dist-packages/pip/_vendor/pyproject_hooks/_in_process/_in_process.py get_requires_for_build_wheel /tmp/tmpaoamnkgb\u001b[0m\n",
            "  \u001b[1;35mcwd\u001b[0m: /content/apex\n",
            "  Getting requirements to build wheel ... \u001b[?25l\u001b[?25herror\n",
            "\u001b[1;31merror\u001b[0m: \u001b[1msubprocess-exited-with-error\u001b[0m\n",
            "\n",
            "\u001b[31m×\u001b[0m \u001b[32mGetting requirements to build wheel\u001b[0m did not run successfully.\n",
            "\u001b[31m│\u001b[0m exit code: \u001b[1;36m1\u001b[0m\n",
            "\u001b[31m╰─>\u001b[0m See above for output.\n",
            "\n",
            "\u001b[1;35mnote\u001b[0m: This error originates from a subprocess, and is likely not a problem with pip.\n"
          ]
        }
      ]
    },
    {
      "cell_type": "code",
      "metadata": {
        "id": "gzYs504FPUMw"
      },
      "source": [
        "os.chdir(\"..\")"
      ],
      "execution_count": null,
      "outputs": []
    },
    {
      "cell_type": "code",
      "metadata": {
        "id": "1ufqBHArCD58",
        "colab": {
          "base_uri": "https://localhost:8080/"
        },
        "outputId": "223d1b44-1018-4c25-c409-82ccc16d1331"
      },
      "source": [
        "!git clone https://github.com/facebookresearch/TransCoder.git"
      ],
      "execution_count": null,
      "outputs": [
        {
          "output_type": "stream",
          "name": "stdout",
          "text": [
            "fatal: destination path 'TransCoder' already exists and is not an empty directory.\n"
          ]
        }
      ]
    },
    {
      "cell_type": "code",
      "metadata": {
        "id": "UVKkPhHYGgUO",
        "colab": {
          "base_uri": "https://localhost:8080/"
        },
        "outputId": "a81a833e-aebb-4540-e7e3-93a6f9c49c04"
      },
      "source": [
        "!wget https://dl.fbaipublicfiles.com/transcoder/model_2.pth"
      ],
      "execution_count": null,
      "outputs": [
        {
          "output_type": "stream",
          "name": "stdout",
          "text": [
            "--2024-04-07 10:33:54--  https://dl.fbaipublicfiles.com/transcoder/model_2.pth\n",
            "Resolving dl.fbaipublicfiles.com (dl.fbaipublicfiles.com)... 13.226.210.111, 13.226.210.78, 13.226.210.15, ...\n",
            "Connecting to dl.fbaipublicfiles.com (dl.fbaipublicfiles.com)|13.226.210.111|:443... connected.\n",
            "HTTP request sent, awaiting response... 200 OK\n",
            "Length: 622089114 (593M) [application/octet-stream]\n",
            "Saving to: ‘model_2.pth.1’\n",
            "\n",
            "model_2.pth.1       100%[===================>] 593.27M  87.1MB/s    in 6.5s    \n",
            "\n",
            "2024-04-07 10:34:00 (91.8 MB/s) - ‘model_2.pth.1’ saved [622089114/622089114]\n",
            "\n"
          ]
        }
      ]
    },
    {
      "cell_type": "markdown",
      "metadata": {
        "id": "mKL_6JoAJ_uW"
      },
      "source": [
        "## Now go to Files in left side of your Colab, then go to '/TransCoder/preprocessing/src/code_tokenizer.py' and double click on it, go to 24th line. Change your library file path which is mentioned below. Save it & Exit"
      ]
    },
    {
      "cell_type": "code",
      "source": [
        "!wget https://dl.fbaipublicfiles.com/transcoder/model_1.pth"
      ],
      "metadata": {
        "colab": {
          "base_uri": "https://localhost:8080/"
        },
        "id": "bAFra_lPj9Ha",
        "outputId": "e134d0bd-4c8f-4a3d-b1b1-8c289886ce64"
      },
      "execution_count": null,
      "outputs": [
        {
          "output_type": "stream",
          "name": "stdout",
          "text": [
            "--2024-04-07 10:34:00--  https://dl.fbaipublicfiles.com/transcoder/model_1.pth\n",
            "Resolving dl.fbaipublicfiles.com (dl.fbaipublicfiles.com)... 13.226.210.111, 13.226.210.78, 13.226.210.15, ...\n",
            "Connecting to dl.fbaipublicfiles.com (dl.fbaipublicfiles.com)|13.226.210.111|:443... connected.\n",
            "HTTP request sent, awaiting response... 200 OK\n",
            "Length: 622089114 (593M) [application/octet-stream]\n",
            "Saving to: ‘model_1.pth.1’\n",
            "\n",
            "model_1.pth.1       100%[===================>] 593.27M   103MB/s    in 5.7s    \n",
            "\n",
            "2024-04-07 10:34:06 (103 MB/s) - ‘model_1.pth.1’ saved [622089114/622089114]\n",
            "\n"
          ]
        }
      ]
    },
    {
      "cell_type": "markdown",
      "source": [],
      "metadata": {
        "id": "pD7WUlEqul_6"
      }
    },
    {
      "cell_type": "code",
      "metadata": {
        "id": "dTBASvp5VmR8"
      },
      "source": [
        "# Go to 24 th line and replace with this line\n",
        "# clang.cindex.Config.set_library_file('/usr/lib/x86_64-linux-gnu/libclang-14.so.1')"
      ],
      "execution_count": null,
      "outputs": []
    },
    {
      "cell_type": "markdown",
      "metadata": {
        "id": "nsLQJ03oCuBu"
      },
      "source": [
        "## The target language should be in ['cpp', 'java', 'python'].\n",
        "\n",
        "\n",
        "\n",
        "*   --src_lang - Your source code language\n",
        "*   --tgt_lang - Your expected translated lagnuage\n",
        "*   --model_path - Your downloaded model\n",
        "*   --BPE_path - You BPE codes with comments path\n",
        "*   < your_code_file - It should be match with Source language.\n",
        "\n",
        "\n",
        "\n"
      ]
    },
    {
      "cell_type": "code",
      "source": [
        "!nvcc --version"
      ],
      "metadata": {
        "colab": {
          "base_uri": "https://localhost:8080/"
        },
        "id": "ap7fSOqgjDbi",
        "outputId": "13b3ee02-ff66-46fa-8cb5-7ba3fd35f8e6"
      },
      "execution_count": null,
      "outputs": [
        {
          "output_type": "stream",
          "name": "stdout",
          "text": [
            "nvcc: NVIDIA (R) Cuda compiler driver\n",
            "Copyright (c) 2005-2023 NVIDIA Corporation\n",
            "Built on Tue_Aug_15_22:02:13_PDT_2023\n",
            "Cuda compilation tools, release 12.2, V12.2.140\n",
            "Build cuda_12.2.r12.2/compiler.33191640_0\n"
          ]
        }
      ]
    },
    {
      "cell_type": "code",
      "source": [
        "!sed -i 's|default=\"data/BPE_with_comments_codes\"|default=\"/content/TransCoder/data/BPE_with_comments_codes\"|g' /content/TransCoder/translate.py"
      ],
      "metadata": {
        "id": "TH7w0JdvisxN"
      },
      "execution_count": null,
      "outputs": []
    },
    {
      "cell_type": "code",
      "source": [
        "!pip install subprocess.run"
      ],
      "metadata": {
        "colab": {
          "base_uri": "https://localhost:8080/"
        },
        "id": "WJ6BNIGBEKjc",
        "outputId": "7d91aa3b-f4e5-4f3c-ec7d-ec2a5154a6d8"
      },
      "execution_count": null,
      "outputs": [
        {
          "output_type": "stream",
          "name": "stdout",
          "text": [
            "Collecting subprocess.run\n",
            "  Downloading subprocess.run-0.0.8.tar.gz (4.1 kB)\n",
            "  Preparing metadata (setup.py) ... \u001b[?25l\u001b[?25hdone\n",
            "Building wheels for collected packages: subprocess.run\n",
            "  Building wheel for subprocess.run (setup.py) ... \u001b[?25l\u001b[?25hdone\n",
            "  Created wheel for subprocess.run: filename=subprocess.run-0.0.8-py3-none-any.whl size=5337 sha256=1cf93d3aa7a7663b1f1fc058cb0e010dbaba24676c6359e261fb3b7e7edad5b9\n",
            "  Stored in directory: /root/.cache/pip/wheels/a5/54/f9/27472395b7889f9ee5a982bbabb6e9310b59cdc6e7e45bdd87\n",
            "Successfully built subprocess.run\n",
            "Installing collected packages: subprocess.run\n",
            "Successfully installed subprocess.run-0.0.8\n"
          ]
        }
      ]
    },
    {
      "cell_type": "code",
      "source": [
        "import subprocess"
      ],
      "metadata": {
        "id": "LtNsXLj7lCs6"
      },
      "execution_count": null,
      "outputs": []
    },
    {
      "cell_type": "code",
      "source": [
        "with open(\"test1.py\", \"rb\") as input_file:\n",
        "    converted_code = subprocess.check_output(\n",
        "        [\"python\", \"TransCoder/translate.py\", \"--src_lang\", \"python\", \"--tgt_lang\", \"java\", \"--model_path\", \"model_2.pth\"],\n",
        "        input=input_file.read(),  # Read the input file as bytes\n",
        "    )"
      ],
      "metadata": {
        "id": "rdp0SregCQvk"
      },
      "execution_count": null,
      "outputs": []
    },
    {
      "cell_type": "code",
      "source": [
        "converted_code"
      ],
      "metadata": {
        "id": "4mqPCoheCSZD",
        "colab": {
          "base_uri": "https://localhost:8080/"
        },
        "outputId": "7abf3ed3-0eda-484b-b626-10d5b4d67c2d"
      },
      "execution_count": null,
      "outputs": [
        {
          "output_type": "execute_result",
          "data": {
            "text/plain": [
              "b'====================\\npublic static void isArmstrong ( int n ) {\\n  int order = Integer . toString ( n ) . length ( ) ;\\n  int sum = 0 ;\\n  int temp = n ;\\n  while ( temp > 0 ) {\\n    int digit = temp % 10 ;\\n    sum += digit * order ;\\n  }\\n}\\n\\n'"
            ]
          },
          "metadata": {},
          "execution_count": 88
        }
      ]
    },
    {
      "cell_type": "code",
      "source": [
        "import re;"
      ],
      "metadata": {
        "id": "MLI9Doi6Erpg"
      },
      "execution_count": null,
      "outputs": []
    },
    {
      "cell_type": "code",
      "source": [
        "def preprocess_java_code(converted_code):\n",
        "    \"\"\"\n",
        "    Preprocesses converted Java code to improve similarity with reference code.\n",
        "\n",
        "    Args:\n",
        "        converted_code: The converted Java code as a string.\n",
        "\n",
        "    Returns:\n",
        "        The preprocessed Java code as a string.\n",
        "    \"\"\"\n",
        "\n",
        "    # Remove unnecessary elements (replace with actual patterns)\n",
        "    cleaned_code = re.sub(r'#.*\\n', '', converted_code)  # Remove lines starting with '#'\n",
        "    cleaned_code = cleaned_code.replace('\\n\\n', '\\n')  # Remove extra blank lines\n",
        "\n",
        "    # Normalize line endings\n",
        "    cleaned_code = cleaned_code.replace('\\r\\n', '\\n').replace('\\r', '\\n')\n",
        "\n",
        "    # Remove \"====\" lines\n",
        "    cleaned_code = re.sub(r'^=+\\n', '', cleaned_code, flags=re.MULTILINE)\n",
        "\n",
        "    # Remove leading spaces and ensure the code starts with \"public static\"\n",
        "    lines = cleaned_code.split('\\n')\n",
        "    cleaned_lines = []\n",
        "\n",
        "    for line in lines:\n",
        "        line = line.strip()  # Remove leading and trailing spaces\n",
        "        if line:  # If the line is not empty\n",
        "            if line.startswith(\"public static\"):  # If it's a function declaration\n",
        "                parts = line.split(\"(\")  # Split at '(' to separate function name and parameters\n",
        "                if len(parts) > 1:  # If there are parameters\n",
        "                    function_name = parts[0].strip()  # Get the function name\n",
        "                    parameters = parts[1]  # Get the parameters\n",
        "                    cleaned_line = f\"{function_name}({parameters}\"  # Reconstruct the line with consistent spacing\n",
        "                    cleaned_lines.append(cleaned_line)\n",
        "                else:  # If there are no parameters\n",
        "                    cleaned_lines.append(line)  # Just add the line as is\n",
        "            else:\n",
        "                cleaned_lines.append(line)  # Add other lines as is\n",
        "        else:  # If the line is empty, just add it\n",
        "            cleaned_lines.append(line)\n",
        "\n",
        "    cleaned_code = '\\n'.join(cleaned_lines)\n",
        "\n",
        "    return cleaned_code"
      ],
      "metadata": {
        "id": "7K8ZDRjbEoic"
      },
      "execution_count": null,
      "outputs": []
    },
    {
      "cell_type": "code",
      "source": [
        "with open(\"test1.java\", \"rb\") as ref_file:\n",
        "  reference_code = ref_file.read()\n"
      ],
      "metadata": {
        "id": "QSNzC1QXFMLs"
      },
      "execution_count": null,
      "outputs": []
    },
    {
      "cell_type": "code",
      "source": [
        "reference_code"
      ],
      "metadata": {
        "colab": {
          "base_uri": "https://localhost:8080/"
        },
        "id": "R7TLNocOFQdd",
        "outputId": "c089e26c-e90e-413e-8dfa-2c84ad76fc81"
      },
      "execution_count": null,
      "outputs": [
        {
          "output_type": "execute_result",
          "data": {
            "text/plain": [
              "b'import java.util.ArrayList;\\r\\n\\r\\npublic class ArmstrongNumber {\\r\\n    public static boolean isArmstrong(int n) {\\r\\n        int order = String.valueOf(n).length();\\r\\n        int sum = 0;\\r\\n        int temp = n;\\r\\n        while (temp > 0) {\\r\\n            int digit = temp % 10;\\r\\n            sum += Math.pow(digit, order);\\r\\n            temp /= 10;\\r\\n        }\\r\\n        return sum == n;\\r\\n    }\\r\\n}\\r\\n'"
            ]
          },
          "metadata": {},
          "execution_count": 92
        }
      ]
    },
    {
      "cell_type": "code",
      "source": [
        "print(type(converted_code))\n",
        "print(type(reference_code))"
      ],
      "metadata": {
        "colab": {
          "base_uri": "https://localhost:8080/"
        },
        "id": "hgI9JW_nGZgB",
        "outputId": "412a1ead-e149-45f7-b22e-e5e4c0d43276"
      },
      "execution_count": null,
      "outputs": [
        {
          "output_type": "stream",
          "name": "stdout",
          "text": [
            "<class 'bytes'>\n",
            "<class 'bytes'>\n"
          ]
        }
      ]
    },
    {
      "cell_type": "code",
      "source": [
        "preprocessed_converted_code = preprocess_java_code(converted_code.decode('utf-8'))\n",
        "preprocessed_reference_code = preprocess_java_code(reference_code.decode('utf-8'))"
      ],
      "metadata": {
        "id": "bGHul-hdE7kQ"
      },
      "execution_count": null,
      "outputs": []
    },
    {
      "cell_type": "code",
      "source": [
        "preprocessed_converted_code"
      ],
      "metadata": {
        "colab": {
          "base_uri": "https://localhost:8080/",
          "height": 53
        },
        "id": "Kgv_7Kz1GMYb",
        "outputId": "5f8670c9-e8ad-40c8-bc3c-8d26c75298a3"
      },
      "execution_count": null,
      "outputs": [
        {
          "output_type": "execute_result",
          "data": {
            "text/plain": [
              "'public static void isArmstrong( int n ) {\\nint order = Integer . toString ( n ) . length ( ) ;\\nint sum = 0 ;\\nint temp = n ;\\nwhile ( temp > 0 ) {\\nint digit = temp % 10 ;\\nsum += digit * order ;\\n}\\n}\\n'"
            ],
            "application/vnd.google.colaboratory.intrinsic+json": {
              "type": "string"
            }
          },
          "metadata": {},
          "execution_count": 95
        }
      ]
    },
    {
      "cell_type": "code",
      "source": [
        "preprocessed_reference_code"
      ],
      "metadata": {
        "colab": {
          "base_uri": "https://localhost:8080/",
          "height": 71
        },
        "id": "006UypXbHEUB",
        "outputId": "b79eef4e-accd-4a65-ebae-ec112cd9fa2b"
      },
      "execution_count": null,
      "outputs": [
        {
          "output_type": "execute_result",
          "data": {
            "text/plain": [
              "'import java.util.ArrayList;\\n\\npublic class ArmstrongNumber {\\npublic static boolean isArmstrong(int n) {\\nint order = String.valueOf(n).length();\\nint sum = 0;\\nint temp = n;\\nwhile (temp > 0) {\\nint digit = temp % 10;\\nsum += Math.pow(digit, order);\\ntemp /= 10;\\n}\\nreturn sum == n;\\n}\\n}\\n'"
            ],
            "application/vnd.google.colaboratory.intrinsic+json": {
              "type": "string"
            }
          },
          "metadata": {},
          "execution_count": 96
        }
      ]
    },
    {
      "cell_type": "code",
      "source": [
        "from typing import List"
      ],
      "metadata": {
        "id": "_UWWemH-IKpA"
      },
      "execution_count": null,
      "outputs": []
    },
    {
      "cell_type": "code",
      "source": [
        "def evaluate_translation(reference: List[str], translation: List[str]) -> float:\n",
        "    bleu = sacrebleu.corpus_bleu(translation, [reference])\n",
        "    return bleu.score"
      ],
      "metadata": {
        "id": "1_GDPQEFIGoS"
      },
      "execution_count": null,
      "outputs": []
    },
    {
      "cell_type": "markdown",
      "source": [],
      "metadata": {
        "id": "y4_arN1xIZYs"
      }
    },
    {
      "cell_type": "markdown",
      "source": [],
      "metadata": {
        "id": "i2ngUM1AIZWL"
      }
    },
    {
      "cell_type": "code",
      "source": [
        "!pip install sacrebleu==2.3.1"
      ],
      "metadata": {
        "colab": {
          "base_uri": "https://localhost:8080/",
          "height": 403
        },
        "id": "LAKYhCZMIkGe",
        "outputId": "ca90e62d-fbad-4a77-90ed-27900cfab105"
      },
      "execution_count": null,
      "outputs": [
        {
          "output_type": "stream",
          "name": "stdout",
          "text": [
            "Collecting sacrebleu==2.3.1\n",
            "  Downloading sacrebleu-2.3.1-py3-none-any.whl (118 kB)\n",
            "\u001b[?25l     \u001b[90m━━━━━━━━━━━━━━━━━━━━━━━━━━━━━━━━━━━━━━━━\u001b[0m \u001b[32m0.0/118.9 kB\u001b[0m \u001b[31m?\u001b[0m eta \u001b[36m-:--:--\u001b[0m\r\u001b[2K     \u001b[90m━━━━━━━━━━━━━━━━━━━━━━━━━━━━━━━━━━━━━━━━\u001b[0m \u001b[32m118.9/118.9 kB\u001b[0m \u001b[31m3.9 MB/s\u001b[0m eta \u001b[36m0:00:00\u001b[0m\n",
            "\u001b[?25hRequirement already satisfied: portalocker in /usr/local/lib/python3.10/dist-packages (from sacrebleu==2.3.1) (2.8.2)\n",
            "Requirement already satisfied: regex in /usr/local/lib/python3.10/dist-packages (from sacrebleu==2.3.1) (2023.12.25)\n",
            "Requirement already satisfied: tabulate>=0.8.9 in /usr/local/lib/python3.10/dist-packages (from sacrebleu==2.3.1) (0.9.0)\n",
            "Requirement already satisfied: numpy>=1.17 in /usr/local/lib/python3.10/dist-packages (from sacrebleu==2.3.1) (1.25.2)\n",
            "Requirement already satisfied: colorama in /usr/local/lib/python3.10/dist-packages (from sacrebleu==2.3.1) (0.4.6)\n",
            "Requirement already satisfied: lxml in /usr/local/lib/python3.10/dist-packages (from sacrebleu==2.3.1) (4.9.4)\n",
            "Installing collected packages: sacrebleu\n",
            "  Attempting uninstall: sacrebleu\n",
            "    Found existing installation: sacrebleu 1.2.11\n",
            "    Uninstalling sacrebleu-1.2.11:\n",
            "      Successfully uninstalled sacrebleu-1.2.11\n",
            "Successfully installed sacrebleu-2.3.1\n"
          ]
        },
        {
          "output_type": "display_data",
          "data": {
            "application/vnd.colab-display-data+json": {
              "pip_warning": {
                "packages": [
                  "sacrebleu"
                ]
              },
              "id": "255816b902884002ad4a9abcef6c21b4"
            }
          },
          "metadata": {}
        }
      ]
    },
    {
      "cell_type": "code",
      "source": [
        "from sacrebleu.metrics import BLEU"
      ],
      "metadata": {
        "id": "qyRf_cgdInvL"
      },
      "execution_count": null,
      "outputs": []
    },
    {
      "cell_type": "code",
      "source": [
        "evaluation = evaluate_translation([preprocessed_reference_code], [preprocessed_converted_code])\n",
        "print(evaluation)"
      ],
      "metadata": {
        "colab": {
          "base_uri": "https://localhost:8080/"
        },
        "id": "af_mfQNBIXPB",
        "outputId": "a6e1ebbc-d57c-47fa-985a-6f019023cbcd"
      },
      "execution_count": null,
      "outputs": [
        {
          "output_type": "stream",
          "name": "stdout",
          "text": [
            "100.00000000000004\n"
          ]
        }
      ]
    },
    {
      "cell_type": "code",
      "source": [
        "bleu_score = sentence_bleu([preprocessed_converted_code],[preprocessed_reference_code])\n",
        "print(\"BLEU score:\", bleu_score)"
      ],
      "metadata": {
        "colab": {
          "base_uri": "https://localhost:8080/"
        },
        "id": "RPeobHxhHNOO",
        "outputId": "a5a804b6-96d0-4e05-ef87-edcde5a2da57"
      },
      "execution_count": null,
      "outputs": [
        {
          "output_type": "stream",
          "name": "stdout",
          "text": [
            "BLEU score: 0\n"
          ]
        }
      ]
    },
    {
      "cell_type": "code",
      "metadata": {
        "id": "japt1zVvGl9a",
        "colab": {
          "base_uri": "https://localhost:8080/"
        },
        "outputId": "f3531557-e685-4422-aa06-0696460bcc24"
      },
      "source": [
        "!python TransCoder/translate.py --src_lang python --tgt_lang java --model_path model_2.pth < BINARY_SEARCH.py"
      ],
      "execution_count": null,
      "outputs": [
        {
          "output_type": "stream",
          "name": "stdout",
          "text": [
            "Loading codes from /content/TransCoder/data/BPE_with_comments_codes ...\n",
            "Read 50000 codes from the codes file.\n",
            "====================\n",
            "public static int f_gold ( int [ ] arr , int l , int r , int x ) {\n",
            "  if ( r >= l ) {\n",
            "    int mid = l + ( r - l ) / 2 ;\n",
            "    if ( arr [ mid ] == x ) return mid ;\n",
            "    else if ( arr [ mid ] > x ) return f_gold ( arr , l , mid - 1 , x ) ;\n",
            "    else return f_gold ( arr , mid + 1 , r , x ) ;\n",
            "  }\n",
            "  else return - 1 ;\n",
            "}\n",
            "if ( Main . class . getName ( ) . equals ( \"f_gold\" ) ) {\n",
            "  int [ ] param = {\n",
            "    new int [ ] {\n",
            "      3 , 4 , 4 , 8 , 9 , 13 , 13 , 15 , 18 , 27 , 30 , 32 , 42 , 48 , 50 , 52 , 56 , 66 , 69 , 69 , 77 , 84 , 84 , 93 }, 19 , 12 , 22 , }, new int [ ] {\n",
            "        52 , - 58 , - 22 , - 80 , 44 , - 52 , - 34 , 94 , - 34 , - 74 , 42 , 60 , - 62 , 70 , 98 , 32 , 10 , 94 , 26 , 56 , - 48 , - 50 , 42 , 2 , 46 , 28 , - 68 , - 16 , - 96 , - 12 , 66 , - 46 , 74 , - 60 , - 52 , 28 , - 92 , - 78 , 32 , 28 , 16 , 34 , 30 , - 60 , - 14 }, 40 , 35 , 44 , }, new int [ ] {\n",
            "          0 , 1 }, 1 , 1 , 1 , 1 , 1 , 1 , 1 , 1 , 1 , 1 , 1 , 1 , 1 , 1 , 1 , 1 , 1 , 1 , 1 , 1 , 1 , 1 , 1 , 1 , 1 , 1 , 1 , 1 , 1 , 1 , 1 , 1 , 1 , 1 , 1 , 1 , 1 , 1 , 1 , 1 , 1 , 1 , 1 , 1 , 1 , 1 , 1 , 1 , 1 , 1 , 1 , 1 , 1 , 1 , 1 , 1 , 1 , 1 , 1 , 1 , 1 , 1 , 1 , 1 , 1 , 1 , 1 , 1 , 1 , 1 , 1 , 1 , 1 , 1 , 1 , 1 , 1 , 1 , 1 , 1 , 1 , 1 , 1 , 1 , 1 , 1 , 1 , 1 , 1 , 1 , 1 , 1 , 1 ,\n"
          ]
        }
      ]
    },
    {
      "cell_type": "code",
      "source": [
        "pip install nltk"
      ],
      "metadata": {
        "id": "fkXyGJFWjIn6",
        "colab": {
          "base_uri": "https://localhost:8080/"
        },
        "outputId": "c68cf08c-9c71-4473-9460-bfd3edfc114b"
      },
      "execution_count": null,
      "outputs": [
        {
          "output_type": "stream",
          "name": "stdout",
          "text": [
            "Requirement already satisfied: nltk in /usr/local/lib/python3.10/dist-packages (3.8.1)\n",
            "Requirement already satisfied: click in /usr/local/lib/python3.10/dist-packages (from nltk) (8.1.7)\n",
            "Requirement already satisfied: joblib in /usr/local/lib/python3.10/dist-packages (from nltk) (1.3.2)\n",
            "Requirement already satisfied: regex>=2021.8.3 in /usr/local/lib/python3.10/dist-packages (from nltk) (2023.12.25)\n",
            "Requirement already satisfied: tqdm in /usr/local/lib/python3.10/dist-packages (from nltk) (4.66.2)\n"
          ]
        }
      ]
    },
    {
      "cell_type": "code",
      "source": [
        "!pip install codebleu"
      ],
      "metadata": {
        "colab": {
          "base_uri": "https://localhost:8080/"
        },
        "id": "Ko1AhJDCCk-K",
        "outputId": "3ef194c4-4147-46fb-998e-b01428557c9a"
      },
      "execution_count": null,
      "outputs": [
        {
          "output_type": "stream",
          "name": "stdout",
          "text": [
            "Collecting codebleu\n",
            "  Downloading codebleu-0.6.0.tar.gz (1.4 MB)\n",
            "\u001b[2K     \u001b[90m━━━━━━━━━━━━━━━━━━━━━━━━━━━━━━━━━━━━━━━━\u001b[0m \u001b[32m1.4/1.4 MB\u001b[0m \u001b[31m7.9 MB/s\u001b[0m eta \u001b[36m0:00:00\u001b[0m\n",
            "\u001b[?25h  Installing build dependencies ... \u001b[?25l\u001b[?25hdone\n",
            "  Getting requirements to build wheel ... \u001b[?25l\u001b[?25hdone\n",
            "  Preparing metadata (pyproject.toml) ... \u001b[?25l\u001b[?25hdone\n",
            "Collecting tree-sitter<1.0.0,>=0.20.0 (from codebleu)\n",
            "  Using cached tree_sitter-0.21.3-cp310-cp310-manylinux_2_17_x86_64.manylinux2014_x86_64.whl (496 kB)\n",
            "Requirement already satisfied: setuptools>=61.0.0 in /usr/local/lib/python3.10/dist-packages (from codebleu) (67.7.2)\n",
            "Building wheels for collected packages: codebleu\n",
            "  Building wheel for codebleu (pyproject.toml) ... \u001b[?25l\u001b[?25hdone\n",
            "  Created wheel for codebleu: filename=codebleu-0.6.0-cp310-cp310-linux_x86_64.whl size=1281114 sha256=e1c8c54dc2e54822732178be1af2d8abc17b430f588aa80de504c4a1f62b311f\n",
            "  Stored in directory: /root/.cache/pip/wheels/5e/45/f6/abb2f927620de36cc631f769fc8f478fe44f7e057dc3b09483\n",
            "Successfully built codebleu\n",
            "Installing collected packages: tree-sitter, codebleu\n",
            "Successfully installed codebleu-0.6.0 tree-sitter-0.21.3\n"
          ]
        }
      ]
    },
    {
      "cell_type": "code",
      "source": [
        "import subprocess\n",
        "from nltk.translate.bleu_score import sentence_bleu\n"
      ],
      "metadata": {
        "id": "_jeAmarbCynd"
      },
      "execution_count": null,
      "outputs": []
    },
    {
      "cell_type": "code",
      "metadata": {
        "id": "1xPAv-7-P9Cg",
        "colab": {
          "base_uri": "https://localhost:8080/"
        },
        "outputId": "c87b0f5d-2193-4f47-89da-40b9344d2ed8"
      },
      "source": [
        "!clang --version"
      ],
      "execution_count": null,
      "outputs": [
        {
          "output_type": "stream",
          "name": "stdout",
          "text": [
            "Ubuntu clang version 14.0.0-1ubuntu1.1\n",
            "Target: x86_64-pc-linux-gnu\n",
            "Thread model: posix\n",
            "InstalledDir: /usr/bin\n"
          ]
        }
      ]
    },
    {
      "cell_type": "code",
      "metadata": {
        "id": "zlDCl3_FQXqs",
        "colab": {
          "base_uri": "https://localhost:8080/"
        },
        "outputId": "9c04f5bd-9f11-40a4-8c6c-477787d9b203"
      },
      "source": [
        "%pip install clang pip install clang==14"
      ],
      "execution_count": null,
      "outputs": [
        {
          "output_type": "stream",
          "name": "stdout",
          "text": [
            "Requirement already satisfied: clang in /usr/local/lib/python3.10/dist-packages (17.0.6)\n",
            "Requirement already satisfied: pip in /usr/local/lib/python3.10/dist-packages (23.1.2)\n",
            "Collecting install\n",
            "  Downloading install-1.3.5-py3-none-any.whl (3.2 kB)\n",
            "Collecting clang\n",
            "  Downloading clang-14.0-py3-none-any.whl (31 kB)\n",
            "Installing collected packages: clang, install\n",
            "  Attempting uninstall: clang\n",
            "    Found existing installation: clang 17.0.6\n",
            "    Uninstalling clang-17.0.6:\n",
            "      Successfully uninstalled clang-17.0.6\n",
            "Successfully installed clang-14.0 install-1.3.5\n"
          ]
        }
      ]
    },
    {
      "cell_type": "code",
      "source": [
        "!find /usr/lib/llvm-14/lib/ -name libclang-14.so.1\n"
      ],
      "metadata": {
        "colab": {
          "base_uri": "https://localhost:8080/"
        },
        "id": "BkZTbFm_iRM4",
        "outputId": "bbe725fa-2709-4ed9-e083-092667d8587f"
      },
      "execution_count": null,
      "outputs": [
        {
          "output_type": "stream",
          "name": "stdout",
          "text": [
            "/usr/lib/llvm-14/lib/libclang-14.so.1\n"
          ]
        }
      ]
    },
    {
      "cell_type": "code",
      "source": [
        "import torch\n",
        "\n",
        "device = \"cuda\" if torch.cuda.is_available() else \"cpu\"\n",
        "print(f\"Using device: {device}\")"
      ],
      "metadata": {
        "colab": {
          "base_uri": "https://localhost:8080/"
        },
        "id": "x7BqLPH6iVwz",
        "outputId": "67341605-8cbd-441e-b98e-fccb9b13ffe7"
      },
      "execution_count": null,
      "outputs": [
        {
          "output_type": "stream",
          "name": "stdout",
          "text": [
            "Using device: cuda\n"
          ]
        }
      ]
    },
    {
      "cell_type": "code",
      "source": [
        "from sacrebleu import BLEU"
      ],
      "metadata": {
        "id": "PTUOAjUs-YoC"
      },
      "execution_count": null,
      "outputs": []
    },
    {
      "cell_type": "code",
      "source": [
        "# Define your reference and candidate translations as lists of strings\n",
        "reference = ['''public static int addition ( int a , int b ) {\n",
        "  int c = a + b ;\n",
        "  return c ;\n",
        "}''']\n",
        "candidate = ['''public static int addition ( int a , int b ) {\n",
        "  int c = a + b ;\n",
        "  return c ;\n",
        "}''']\n",
        "\n",
        "# Create a BLEU scorer object\n",
        "scorer = BLEU()\n",
        "\n",
        "# Calculate BLEU score\n",
        "bleu_score = scorer.corpus_score([[reference], [candidate]])\n",
        "\n",
        "print(f\"BLEU score: {bleu_score.score}\")"
      ],
      "metadata": {
        "colab": {
          "base_uri": "https://localhost:8080/",
          "height": 215
        },
        "id": "0AjQaHXG-bQc",
        "outputId": "702a6190-705d-430b-baa3-216951caf43c"
      },
      "execution_count": null,
      "outputs": [
        {
          "output_type": "error",
          "ename": "TypeError",
          "evalue": "BLEU.__new__() missing 7 required positional arguments: 'score', 'counts', 'totals', 'precisions', 'bp', 'sys_len', and 'ref_len'",
          "traceback": [
            "\u001b[0;31m---------------------------------------------------------------------------\u001b[0m",
            "\u001b[0;31mTypeError\u001b[0m                                 Traceback (most recent call last)",
            "\u001b[0;32m<ipython-input-23-57b1d02d9347>\u001b[0m in \u001b[0;36m<cell line: 12>\u001b[0;34m()\u001b[0m\n\u001b[1;32m     10\u001b[0m \u001b[0;34m\u001b[0m\u001b[0m\n\u001b[1;32m     11\u001b[0m \u001b[0;31m# Create a BLEU scorer object\u001b[0m\u001b[0;34m\u001b[0m\u001b[0;34m\u001b[0m\u001b[0m\n\u001b[0;32m---> 12\u001b[0;31m \u001b[0mscorer\u001b[0m \u001b[0;34m=\u001b[0m \u001b[0mBLEU\u001b[0m\u001b[0;34m(\u001b[0m\u001b[0;34m)\u001b[0m\u001b[0;34m\u001b[0m\u001b[0;34m\u001b[0m\u001b[0m\n\u001b[0m\u001b[1;32m     13\u001b[0m \u001b[0;34m\u001b[0m\u001b[0m\n\u001b[1;32m     14\u001b[0m \u001b[0;31m# Calculate BLEU score\u001b[0m\u001b[0;34m\u001b[0m\u001b[0;34m\u001b[0m\u001b[0m\n",
            "\u001b[0;31mTypeError\u001b[0m: BLEU.__new__() missing 7 required positional arguments: 'score', 'counts', 'totals', 'precisions', 'bp', 'sys_len', and 'ref_len'"
          ]
        }
      ]
    },
    {
      "cell_type": "code",
      "source": [
        "!pip install codebleu"
      ],
      "metadata": {
        "colab": {
          "base_uri": "https://localhost:8080/"
        },
        "id": "gP63Nk-CM9vB",
        "outputId": "aeebd398-8fca-400e-ddc6-fdab85369342"
      },
      "execution_count": null,
      "outputs": [
        {
          "output_type": "stream",
          "name": "stdout",
          "text": [
            "Collecting codebleu\n",
            "  Downloading codebleu-0.6.0.tar.gz (1.4 MB)\n",
            "\u001b[2K     \u001b[90m━━━━━━━━━━━━━━━━━━━━━━━━━━━━━━━━━━━━━━━━\u001b[0m \u001b[32m1.4/1.4 MB\u001b[0m \u001b[31m15.8 MB/s\u001b[0m eta \u001b[36m0:00:00\u001b[0m\n",
            "\u001b[?25h  Installing build dependencies ... \u001b[?25l\u001b[?25hdone\n",
            "  Getting requirements to build wheel ... \u001b[?25l\u001b[?25hdone\n",
            "  Preparing metadata (pyproject.toml) ... \u001b[?25l\u001b[?25hdone\n",
            "Collecting tree-sitter<1.0.0,>=0.20.0 (from codebleu)\n",
            "  Using cached tree_sitter-0.21.3-cp310-cp310-manylinux_2_17_x86_64.manylinux2014_x86_64.whl (496 kB)\n",
            "Requirement already satisfied: setuptools>=61.0.0 in /usr/local/lib/python3.10/dist-packages (from codebleu) (67.7.2)\n",
            "Building wheels for collected packages: codebleu\n",
            "  Building wheel for codebleu (pyproject.toml) ... \u001b[?25l\u001b[?25hdone\n",
            "  Created wheel for codebleu: filename=codebleu-0.6.0-cp310-cp310-linux_x86_64.whl size=1281125 sha256=76bfe5873cecd23ad96a39b413a4b45de883d93ef66352fcd09d280784c478d7\n",
            "  Stored in directory: /root/.cache/pip/wheels/5e/45/f6/abb2f927620de36cc631f769fc8f478fe44f7e057dc3b09483\n",
            "Successfully built codebleu\n",
            "Installing collected packages: tree-sitter, codebleu\n",
            "Successfully installed codebleu-0.6.0 tree-sitter-0.21.3\n"
          ]
        }
      ]
    },
    {
      "cell_type": "code",
      "source": [
        "from codebleu import codebleu"
      ],
      "metadata": {
        "id": "c1hD35d5M10W"
      },
      "execution_count": null,
      "outputs": []
    },
    {
      "cell_type": "code",
      "source": [
        "!pip show codebleu"
      ],
      "metadata": {
        "colab": {
          "base_uri": "https://localhost:8080/"
        },
        "id": "cejnKgoUQdN4",
        "outputId": "0b76dab6-102a-4c24-cd31-962a98067c52"
      },
      "execution_count": null,
      "outputs": [
        {
          "output_type": "stream",
          "name": "stdout",
          "text": [
            "Name: codebleu\n",
            "Version: 0.6.0\n",
            "Summary: Unofficial CodeBLEU implementation that supports Linux, MacOS and Windows available on PyPI.\n",
            "Home-page: \n",
            "Author: \n",
            "Author-email: Konstantin Chernyshev <kdchernyshev@gmail.com>\n",
            "License: MIT License\n",
            "Location: /usr/local/lib/python3.10/dist-packages\n",
            "Requires: setuptools, tree-sitter\n",
            "Required-by: \n"
          ]
        }
      ]
    },
    {
      "cell_type": "code",
      "source": [
        "score = codebleu([preprocessed_reference_code], preprocessed_converted_code)\n",
        "print(f\"CodeBLEU Score: {score}\")"
      ],
      "metadata": {
        "colab": {
          "base_uri": "https://localhost:8080/",
          "height": 162
        },
        "id": "l50jxE10Nu52",
        "outputId": "20a8d801-9cf0-4c3d-dfe7-e80b43cdc6b1"
      },
      "execution_count": null,
      "outputs": [
        {
          "output_type": "error",
          "ename": "TypeError",
          "evalue": "'module' object is not callable",
          "traceback": [
            "\u001b[0;31m---------------------------------------------------------------------------\u001b[0m",
            "\u001b[0;31mTypeError\u001b[0m                                 Traceback (most recent call last)",
            "\u001b[0;32m<ipython-input-83-ce4d983e397f>\u001b[0m in \u001b[0;36m<cell line: 1>\u001b[0;34m()\u001b[0m\n\u001b[0;32m----> 1\u001b[0;31m \u001b[0mscore\u001b[0m \u001b[0;34m=\u001b[0m \u001b[0mcodebleu\u001b[0m\u001b[0;34m(\u001b[0m\u001b[0;34m[\u001b[0m\u001b[0mpreprocessed_reference_code\u001b[0m\u001b[0;34m]\u001b[0m\u001b[0;34m,\u001b[0m \u001b[0mpreprocessed_converted_code\u001b[0m\u001b[0;34m)\u001b[0m\u001b[0;34m\u001b[0m\u001b[0;34m\u001b[0m\u001b[0m\n\u001b[0m\u001b[1;32m      2\u001b[0m \u001b[0mprint\u001b[0m\u001b[0;34m(\u001b[0m\u001b[0;34mf\"CodeBLEU Score: {score}\"\u001b[0m\u001b[0;34m)\u001b[0m\u001b[0;34m\u001b[0m\u001b[0;34m\u001b[0m\u001b[0m\n",
            "\u001b[0;31mTypeError\u001b[0m: 'module' object is not callable"
          ]
        }
      ]
    },
    {
      "cell_type": "code",
      "source": [
        "from typing import List\n",
        "from difflib import SequenceMatcher\n",
        "\n",
        "def calculate_precision_recall(translated_code: List[str], reference_code: List[str]) -> (float, float):\n",
        "    total_precision = 0\n",
        "    total_recall = 0\n",
        "\n",
        "    for trans_code in translated_code:\n",
        "        max_similarity = 0\n",
        "\n",
        "        for ref_code in reference_code:\n",
        "            similarity = SequenceMatcher(None, trans_code, ref_code).ratio()\n",
        "            max_similarity = max(max_similarity, similarity)\n",
        "\n",
        "        total_precision += max_similarity\n",
        "\n",
        "    for ref_code in reference_code:\n",
        "        max_similarity = 0\n",
        "\n",
        "        for trans_code in translated_code:\n",
        "            similarity = SequenceMatcher(None, trans_code, ref_code).ratio()\n",
        "            max_similarity = max(max_similarity, similarity)\n",
        "\n",
        "        total_recall += max_similarity\n",
        "\n",
        "    precision = total_precision / len(translated_code)\n",
        "    recall = total_recall / len(reference_code)\n",
        "\n",
        "    return precision, recall\n",
        "\n",
        "def calculate_code_bleu(precision: float, recall: float) -> float:\n",
        "    if precision == 0 or recall == 0:\n",
        "        return 0\n",
        "\n",
        "    return 2 * ((precision * recall) / (precision + recall))\n",
        "\n",
        "\n",
        "\n",
        "precision, recall = calculate_precision_recall(preprocessed_converted_code, preprocessed_reference_code)\n",
        "code_bleu = calculate_code_bleu(precision, recall)\n",
        "\n",
        "print(\"Precision:\", precision)\n",
        "print(\"Recall:\", recall)\n",
        "print(\"CodeBLEU score:\", code_bleu)"
      ],
      "metadata": {
        "colab": {
          "base_uri": "https://localhost:8080/"
        },
        "id": "FT_yyPOdRZND",
        "outputId": "3d06cf5d-daec-4a4d-eb27-fad14f99a490"
      },
      "execution_count": null,
      "outputs": [
        {
          "output_type": "stream",
          "name": "stdout",
          "text": [
            "Precision: 0.9897435897435898\n",
            "Recall: 0.9676258992805755\n",
            "CodeBLEU score: 0.97855978286479\n"
          ]
        }
      ]
    },
    {
      "cell_type": "code",
      "source": [
        "from nltk.translate import meteor_score"
      ],
      "metadata": {
        "id": "HCpMLWRYmB1K"
      },
      "execution_count": null,
      "outputs": []
    },
    {
      "cell_type": "code",
      "source": [
        "meteor = meteor_score.meteor_score(preprocessed_reference_code, preprocessed_converted_code)\n",
        "print(\"METEOR score:\", meteor"
      ],
      "metadata": {
        "id": "x2PJnWFjyDJY"
      },
      "execution_count": null,
      "outputs": []
    }
  ]
}